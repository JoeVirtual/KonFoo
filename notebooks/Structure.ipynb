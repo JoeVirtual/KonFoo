{
 "cells": [
  {
   "cell_type": "markdown",
   "metadata": {},
   "source": [
    "# Structures"
   ]
  },
  {
   "cell_type": "code",
   "execution_count": 1,
   "metadata": {},
   "outputs": [],
   "source": [
    "from konfoo import *\n",
    "import pandas as pd\n",
    "import json"
   ]
  },
  {
   "cell_type": "markdown",
   "metadata": {},
   "source": [
    "## Create a new Structure Class"
   ]
  },
  {
   "cell_type": "code",
   "execution_count": 2,
   "metadata": {},
   "outputs": [],
   "source": [
    "class Identifier(Structure):\n",
    "\n",
    "    def __init__(self):\n",
    "        super().__init__()           # <- NEVER forget to call it first!\n",
    "        self.version = Decimal(8, 4) # 1st field\n",
    "        self.id = Decimal(8, 4)      # 2nd field'\n",
    "        self.length = Decimal(8, 4)  # 3rd field\n",
    "        self.module = Char(4)        # 4th field\n",
    "        self.next_index()            # <- Indexes all fields (optional)"
   ]
  },
  {
   "cell_type": "code",
   "execution_count": 3,
   "metadata": {},
   "outputs": [],
   "source": [
    "identifer = Identifier()"
   ]
  },
  {
   "cell_type": "markdown",
   "metadata": {},
   "source": [
    "## Create a new Structure on the Fly"
   ]
  },
  {
   "cell_type": "code",
   "execution_count": 4,
   "metadata": {},
   "outputs": [],
   "source": [
    "structure = Structure()\n",
    "structure.type = Structure()\n",
    "structure.type.version = Decimal(8, 4)\n",
    "structure.type.id = Decimal(8, 4)\n",
    "structure.type.length = Decimal(8, 6)\n",
    "structure.type.module = Char(4)"
   ]
  },
  {
   "cell_type": "code",
   "execution_count": 5,
   "metadata": {},
   "outputs": [
    {
     "data": {
      "text/plain": [
       "Structure([('type',\n",
       "            Structure([('version',\n",
       "                        Decimal(index=Index(byte=0, bit=0, address=0, base_address=0, update=False), alignment=(4, 0), bit_size=8, value=0)),\n",
       "                       ('id',\n",
       "                        Decimal(index=Index(byte=0, bit=0, address=0, base_address=0, update=False), alignment=(4, 0), bit_size=8, value=0)),\n",
       "                       ('length',\n",
       "                        Decimal(index=Index(byte=0, bit=0, address=0, base_address=0, update=False), alignment=(6, 0), bit_size=8, value=0)),\n",
       "                       ('module',\n",
       "                        Char(index=Index(byte=0, bit=0, address=0, base_address=0, update=False), alignment=(4, 0), bit_size=8, value='\\x00'))]))])"
      ]
     },
     "execution_count": 5,
     "metadata": {},
     "output_type": "execute_result"
    }
   ],
   "source": [
    "structure"
   ]
  },
  {
   "cell_type": "code",
   "execution_count": 6,
   "metadata": {},
   "outputs": [
    {
     "data": {
      "text/plain": [
       "Index(byte=4, bit=0, address=4, base_address=0, update=False)"
      ]
     },
     "execution_count": 6,
     "metadata": {},
     "output_type": "execute_result"
    }
   ],
   "source": [
    "structure.next_index()"
   ]
  },
  {
   "cell_type": "code",
   "execution_count": 7,
   "metadata": {},
   "outputs": [
    {
     "data": {
      "text/plain": [
       "(4, 0)"
      ]
     },
     "execution_count": 7,
     "metadata": {},
     "output_type": "execute_result"
    }
   ],
   "source": [
    "structure.field_length()"
   ]
  },
  {
   "cell_type": "code",
   "execution_count": 8,
   "metadata": {},
   "outputs": [
    {
     "data": {
      "text/plain": [
       "odict_items([('type', Structure([('version', Decimal(index=Index(byte=0, bit=0, address=0, base_address=0, update=False), alignment=(4, 0), bit_size=8, value=0)), ('id', Decimal(index=Index(byte=0, bit=8, address=0, base_address=0, update=False), alignment=(4, 8), bit_size=8, value=0)), ('length', Decimal(index=Index(byte=0, bit=16, address=0, base_address=0, update=False), alignment=(6, 16), bit_size=8, value=0)), ('module', Char(index=Index(byte=0, bit=24, address=0, base_address=0, update=False), alignment=(4, 24), bit_size=8, value='\\x00'))]))])"
      ]
     },
     "execution_count": 8,
     "metadata": {},
     "output_type": "execute_result"
    }
   ],
   "source": [
    "structure.items()"
   ]
  },
  {
   "cell_type": "markdown",
   "metadata": {},
   "source": [
    "## Structure Members"
   ]
  },
  {
   "cell_type": "markdown",
   "metadata": {},
   "source": [
    "### Number of Members"
   ]
  },
  {
   "cell_type": "code",
   "execution_count": 9,
   "metadata": {},
   "outputs": [
    {
     "data": {
      "text/plain": [
       "1"
      ]
     },
     "execution_count": 9,
     "metadata": {},
     "output_type": "execute_result"
    }
   ],
   "source": [
    "len(structure)"
   ]
  },
  {
   "cell_type": "code",
   "execution_count": 10,
   "metadata": {},
   "outputs": [
    {
     "data": {
      "text/plain": [
       "4"
      ]
     },
     "execution_count": 10,
     "metadata": {},
     "output_type": "execute_result"
    }
   ],
   "source": [
    "len(structure.type)"
   ]
  },
  {
   "cell_type": "markdown",
   "metadata": {},
   "source": [
    "### Lists of the Member Names"
   ]
  },
  {
   "cell_type": "code",
   "execution_count": 11,
   "metadata": {},
   "outputs": [
    {
     "data": {
      "text/plain": [
       "odict_keys(['type'])"
      ]
     },
     "execution_count": 11,
     "metadata": {},
     "output_type": "execute_result"
    }
   ],
   "source": [
    "structure.keys()"
   ]
  },
  {
   "cell_type": "code",
   "execution_count": 12,
   "metadata": {},
   "outputs": [
    {
     "data": {
      "text/plain": [
       "['type']"
      ]
     },
     "execution_count": 12,
     "metadata": {},
     "output_type": "execute_result"
    }
   ],
   "source": [
    "[name for name in structure.keys()]"
   ]
  },
  {
   "cell_type": "markdown",
   "metadata": {},
   "source": [
    "### List of the Members"
   ]
  },
  {
   "cell_type": "code",
   "execution_count": 13,
   "metadata": {},
   "outputs": [
    {
     "data": {
      "text/plain": [
       "1"
      ]
     },
     "execution_count": 13,
     "metadata": {},
     "output_type": "execute_result"
    }
   ],
   "source": [
    "len(structure.values())"
   ]
  },
  {
   "cell_type": "code",
   "execution_count": 14,
   "metadata": {},
   "outputs": [
    {
     "data": {
      "text/plain": [
       "odict_values([Structure([('version', Decimal(index=Index(byte=0, bit=0, address=0, base_address=0, update=False), alignment=(4, 0), bit_size=8, value=0)), ('id', Decimal(index=Index(byte=0, bit=8, address=0, base_address=0, update=False), alignment=(4, 8), bit_size=8, value=0)), ('length', Decimal(index=Index(byte=0, bit=16, address=0, base_address=0, update=False), alignment=(6, 16), bit_size=8, value=0)), ('module', Char(index=Index(byte=0, bit=24, address=0, base_address=0, update=False), alignment=(4, 24), bit_size=8, value='\\x00'))])])"
      ]
     },
     "execution_count": 14,
     "metadata": {},
     "output_type": "execute_result"
    }
   ],
   "source": [
    "structure.values()"
   ]
  },
  {
   "cell_type": "code",
   "execution_count": 15,
   "metadata": {},
   "outputs": [
    {
     "data": {
      "text/plain": [
       "[Structure([('version',\n",
       "             Decimal(index=Index(byte=0, bit=0, address=0, base_address=0, update=False), alignment=(4, 0), bit_size=8, value=0)),\n",
       "            ('id',\n",
       "             Decimal(index=Index(byte=0, bit=8, address=0, base_address=0, update=False), alignment=(4, 8), bit_size=8, value=0)),\n",
       "            ('length',\n",
       "             Decimal(index=Index(byte=0, bit=16, address=0, base_address=0, update=False), alignment=(6, 16), bit_size=8, value=0)),\n",
       "            ('module',\n",
       "             Char(index=Index(byte=0, bit=24, address=0, base_address=0, update=False), alignment=(4, 24), bit_size=8, value='\\x00'))])]"
      ]
     },
     "execution_count": 15,
     "metadata": {},
     "output_type": "execute_result"
    }
   ],
   "source": [
    "[member for member in structure.values()]"
   ]
  },
  {
   "cell_type": "code",
   "execution_count": 16,
   "metadata": {},
   "outputs": [
    {
     "data": {
      "text/plain": [
       "4"
      ]
     },
     "execution_count": 16,
     "metadata": {},
     "output_type": "execute_result"
    }
   ],
   "source": [
    "len(structure.type.values())"
   ]
  },
  {
   "cell_type": "code",
   "execution_count": 17,
   "metadata": {},
   "outputs": [
    {
     "data": {
      "text/plain": [
       "[Decimal(index=Index(byte=0, bit=0, address=0, base_address=0, update=False), alignment=(4, 0), bit_size=8, value=0),\n",
       " Decimal(index=Index(byte=0, bit=8, address=0, base_address=0, update=False), alignment=(4, 8), bit_size=8, value=0),\n",
       " Decimal(index=Index(byte=0, bit=16, address=0, base_address=0, update=False), alignment=(6, 16), bit_size=8, value=0),\n",
       " Char(index=Index(byte=0, bit=24, address=0, base_address=0, update=False), alignment=(4, 24), bit_size=8, value='\\x00')]"
      ]
     },
     "execution_count": 17,
     "metadata": {},
     "output_type": "execute_result"
    }
   ],
   "source": [
    "[member for member in structure.type.values()]"
   ]
  },
  {
   "cell_type": "markdown",
   "metadata": {},
   "source": [
    "### Structure Views"
   ]
  },
  {
   "cell_type": "code",
   "execution_count": 18,
   "metadata": {},
   "outputs": [
    {
     "data": {
      "text/plain": [
       "[('type.version',\n",
       "  Decimal(index=Index(byte=0, bit=0, address=0, base_address=0, update=False), alignment=(4, 0), bit_size=8, value=0)),\n",
       " ('type.id',\n",
       "  Decimal(index=Index(byte=0, bit=8, address=0, base_address=0, update=False), alignment=(4, 8), bit_size=8, value=0)),\n",
       " ('type.length',\n",
       "  Decimal(index=Index(byte=0, bit=16, address=0, base_address=0, update=False), alignment=(6, 16), bit_size=8, value=0)),\n",
       " ('type.module',\n",
       "  Char(index=Index(byte=0, bit=24, address=0, base_address=0, update=False), alignment=(4, 24), bit_size=8, value='\\x00'))]"
      ]
     },
     "execution_count": 18,
     "metadata": {},
     "output_type": "execute_result"
    }
   ],
   "source": [
    "structure.field_items()"
   ]
  },
  {
   "cell_type": "code",
   "execution_count": 19,
   "metadata": {},
   "outputs": [
    {
     "data": {
      "text/plain": [
       "OrderedDict([('type',\n",
       "              OrderedDict([('version', 0),\n",
       "                           ('id', 0),\n",
       "                           ('length', 0),\n",
       "                           ('module', '\\x00')]))])"
      ]
     },
     "execution_count": 19,
     "metadata": {},
     "output_type": "execute_result"
    }
   ],
   "source": [
    "structure.field_values()"
   ]
  },
  {
   "cell_type": "code",
   "execution_count": 20,
   "metadata": {},
   "outputs": [
    {
     "data": {
      "text/plain": [
       "[('type.version', 0),\n",
       " ('type.id', 0),\n",
       " ('type.length', 0),\n",
       " ('type.module', '\\x00')]"
      ]
     },
     "execution_count": 20,
     "metadata": {},
     "output_type": "execute_result"
    }
   ],
   "source": [
    "[(name, item.value) for name, item in structure.field_items()]"
   ]
  },
  {
   "cell_type": "code",
   "execution_count": 21,
   "metadata": {},
   "outputs": [
    {
     "data": {
      "text/plain": [
       "OrderedDict([('type',\n",
       "              OrderedDict([('version', 'Decimal8'),\n",
       "                           ('id', 'Decimal8'),\n",
       "                           ('length', 'Decimal8'),\n",
       "                           ('module', 'Char')]))])"
      ]
     },
     "execution_count": 21,
     "metadata": {},
     "output_type": "execute_result"
    }
   ],
   "source": [
    "structure.field_types()"
   ]
  },
  {
   "cell_type": "code",
   "execution_count": 22,
   "metadata": {},
   "outputs": [
    {
     "data": {
      "text/plain": [
       "[('type.version', 'Decimal8'),\n",
       " ('type.id', 'Decimal8'),\n",
       " ('type.length', 'Decimal8'),\n",
       " ('type.module', 'Char')]"
      ]
     },
     "execution_count": 22,
     "metadata": {},
     "output_type": "execute_result"
    }
   ],
   "source": [
    "[(name, item.name) for name, item in structure.field_items()]"
   ]
  },
  {
   "cell_type": "code",
   "execution_count": 23,
   "metadata": {},
   "outputs": [
    {
     "data": {
      "text/plain": [
       "[('Structure.type.version', 0),\n",
       " ('Structure.type.id', 0),\n",
       " ('Structure.type.length', 0),\n",
       " ('Structure.type.module', '\\x00')]"
      ]
     },
     "execution_count": 23,
     "metadata": {},
     "output_type": "execute_result"
    }
   ],
   "source": [
    "structure.to_list()"
   ]
  },
  {
   "cell_type": "code",
   "execution_count": 24,
   "metadata": {},
   "outputs": [
    {
     "data": {
      "text/plain": [
       "OrderedDict([('Structure',\n",
       "              OrderedDict([('type.version', 0),\n",
       "                           ('type.id', 0),\n",
       "                           ('type.length', 0),\n",
       "                           ('type.module', '\\x00')]))])"
      ]
     },
     "execution_count": 24,
     "metadata": {},
     "output_type": "execute_result"
    }
   ],
   "source": [
    "structure.to_dict()"
   ]
  },
  {
   "cell_type": "markdown",
   "metadata": {},
   "source": [
    "### Save to a INI File"
   ]
  },
  {
   "cell_type": "code",
   "execution_count": 25,
   "metadata": {},
   "outputs": [],
   "source": [
    "structure.save('Structure.ini', nested=True)"
   ]
  },
  {
   "cell_type": "markdown",
   "metadata": {},
   "source": [
    "### Load from an INI File"
   ]
  },
  {
   "cell_type": "code",
   "execution_count": 26,
   "metadata": {},
   "outputs": [
    {
     "name": "stdout",
     "output_type": "stream",
     "text": [
      "[Structure]\n",
      "Structure.type.version = 0\n",
      "Structure.type.id = 0\n",
      "Structure.type.length = 0\n",
      "Structure.type.module = \u0000\n"
     ]
    }
   ],
   "source": [
    "structure.load('Structure.ini', nested=True)"
   ]
  },
  {
   "cell_type": "markdown",
   "metadata": {},
   "source": [
    "### Convert to JSON"
   ]
  },
  {
   "cell_type": "code",
   "execution_count": 33,
   "metadata": {
    "scrolled": false
   },
   "outputs": [
    {
     "data": {
      "text/plain": [
       "'{\"type\": {\"version\": 0, \"id\": 0, \"length\": 0, \"module\": \"\\\\u0000\"}}'"
      ]
     },
     "execution_count": 33,
     "metadata": {},
     "output_type": "execute_result"
    }
   ],
   "source": [
    "json.dumps(structure.field_values())"
   ]
  },
  {
   "cell_type": "code",
   "execution_count": 34,
   "metadata": {},
   "outputs": [
    {
     "data": {
      "text/plain": [
       "'{\"type\": {\"version\": \"Decimal8\", \"id\": \"Decimal8\", \"length\": \"Decimal8\", \"module\": \"Char\"}}'"
      ]
     },
     "execution_count": 34,
     "metadata": {},
     "output_type": "execute_result"
    }
   ],
   "source": [
    "json.dumps(structure.field_types())"
   ]
  },
  {
   "cell_type": "code",
   "execution_count": 35,
   "metadata": {},
   "outputs": [
    {
     "data": {
      "text/plain": [
       "'{\"type\": {\"version\": [0, 0, 0, 0, false], \"id\": [0, 8, 0, 0, false], \"length\": [0, 16, 0, 0, false], \"module\": [0, 24, 0, 0, false]}}'"
      ]
     },
     "execution_count": 35,
     "metadata": {},
     "output_type": "execute_result"
    }
   ],
   "source": [
    "json.dumps(structure.field_indexes())"
   ]
  },
  {
   "cell_type": "code",
   "execution_count": 36,
   "metadata": {},
   "outputs": [
    {
     "data": {
      "text/plain": [
       "'{\"Structure\": {\"type.version\": 0, \"type.id\": 0, \"type.length\": 0, \"type.module\": \"\\\\u0000\"}}'"
      ]
     },
     "execution_count": 36,
     "metadata": {},
     "output_type": "execute_result"
    }
   ],
   "source": [
    "json.dumps(structure.to_dict())"
   ]
  },
  {
   "cell_type": "code",
   "execution_count": 37,
   "metadata": {},
   "outputs": [
    {
     "data": {
      "text/plain": [
       "'[[\"Structure.type.version\", 0], [\"Structure.type.id\", 0], [\"Structure.type.length\", 0], [\"Structure.type.module\", \"\\\\u0000\"]]'"
      ]
     },
     "execution_count": 37,
     "metadata": {},
     "output_type": "execute_result"
    }
   ],
   "source": [
    "json.dumps(structure.to_list())"
   ]
  },
  {
   "cell_type": "markdown",
   "metadata": {
    "slideshow": {
     "slide_type": "-"
    }
   },
   "source": [
    "### View as CSV Table"
   ]
  },
  {
   "cell_type": "code",
   "execution_count": 32,
   "metadata": {},
   "outputs": [
    {
     "data": {
      "text/html": [
       "<div>\n",
       "<style scoped>\n",
       "    .dataframe tbody tr th:only-of-type {\n",
       "        vertical-align: middle;\n",
       "    }\n",
       "\n",
       "    .dataframe tbody tr th {\n",
       "        vertical-align: top;\n",
       "    }\n",
       "\n",
       "    .dataframe thead th {\n",
       "        text-align: right;\n",
       "    }\n",
       "</style>\n",
       "<table border=\"1\" class=\"dataframe\">\n",
       "  <thead>\n",
       "    <tr style=\"text-align: right;\">\n",
       "      <th></th>\n",
       "      <th>[Structure]</th>\n",
       "    </tr>\n",
       "  </thead>\n",
       "  <tbody>\n",
       "    <tr>\n",
       "      <th>type.version</th>\n",
       "      <td>0</td>\n",
       "    </tr>\n",
       "    <tr>\n",
       "      <th>type.id</th>\n",
       "      <td>0</td>\n",
       "    </tr>\n",
       "    <tr>\n",
       "      <th>type.length</th>\n",
       "      <td>0</td>\n",
       "    </tr>\n",
       "    <tr>\n",
       "      <th>type.module</th>\n",
       "      <td></td>\n",
       "    </tr>\n",
       "  </tbody>\n",
       "</table>\n",
       "</div>"
      ],
      "text/plain": [
       "              [Structure]\n",
       "type.version            0\n",
       "type.id                 0\n",
       "type.length             0\n",
       "type.module              "
      ]
     },
     "execution_count": 32,
     "metadata": {},
     "output_type": "execute_result"
    }
   ],
   "source": [
    "pd.read_csv('Structure.ini', '=')"
   ]
  },
  {
   "cell_type": "code",
   "execution_count": null,
   "metadata": {},
   "outputs": [],
   "source": []
  }
 ],
 "metadata": {
  "kernelspec": {
   "display_name": "Python 3",
   "language": "python",
   "name": "python3"
  },
  "language_info": {
   "codemirror_mode": {
    "name": "ipython",
    "version": 3
   },
   "file_extension": ".py",
   "mimetype": "text/x-python",
   "name": "python",
   "nbconvert_exporter": "python",
   "pygments_lexer": "ipython3",
   "version": "3.6.2"
  }
 },
 "nbformat": 4,
 "nbformat_minor": 2
}
