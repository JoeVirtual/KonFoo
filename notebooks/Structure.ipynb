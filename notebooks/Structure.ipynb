{
 "cells": [
  {
   "cell_type": "markdown",
   "metadata": {},
   "source": [
    "# Structures"
   ]
  },
  {
   "cell_type": "code",
   "execution_count": 1,
   "metadata": {},
   "outputs": [],
   "source": [
    "import json\n",
    "from konfoo import *"
   ]
  },
  {
   "cell_type": "markdown",
   "metadata": {},
   "source": [
    "## Create a new Structure Class"
   ]
  },
  {
   "cell_type": "code",
   "execution_count": 2,
   "metadata": {},
   "outputs": [],
   "source": [
    "class Identifier(Structure):\n",
    "\n",
    "    def __init__(self):\n",
    "        super().__init__()           # <- NEVER forget to call it first!\n",
    "        self.version = Decimal(8, 4) # 1st field\n",
    "        self.id = Decimal(8, 4)      # 2nd field\n",
    "        self.length = Decimal(8, 4)  # 3rd field\n",
    "        self.module = Char(4)        # 4th field\n",
    "        self.index_fields()          # <- Indexes all fields (optional)"
   ]
  },
  {
   "cell_type": "code",
   "execution_count": 3,
   "metadata": {},
   "outputs": [],
   "source": [
    "structure = Identifier()"
   ]
  },
  {
   "cell_type": "code",
   "execution_count": 4,
   "metadata": {},
   "outputs": [
    {
     "data": {
      "text/plain": [
       "Identifier([('version',\n",
       "             Decimal(index=Index(byte=0, bit=0, address=0, base_address=0, update=False), alignment=(4, 0), bit_size=8, value=0)),\n",
       "            ('id',\n",
       "             Decimal(index=Index(byte=0, bit=8, address=0, base_address=0, update=False), alignment=(4, 8), bit_size=8, value=0)),\n",
       "            ('length',\n",
       "             Decimal(index=Index(byte=0, bit=16, address=0, base_address=0, update=False), alignment=(4, 16), bit_size=8, value=0)),\n",
       "            ('module',\n",
       "             Char(index=Index(byte=0, bit=24, address=0, base_address=0, update=False), alignment=(4, 24), bit_size=8, value='\\x00'))])"
      ]
     },
     "execution_count": 4,
     "metadata": {},
     "output_type": "execute_result"
    }
   ],
   "source": [
    "structure"
   ]
  },
  {
   "cell_type": "markdown",
   "metadata": {},
   "source": [
    "## Create a new Structure on the Fly"
   ]
  },
  {
   "cell_type": "code",
   "execution_count": 5,
   "metadata": {},
   "outputs": [],
   "source": [
    "structure = Structure()\n",
    "structure.version = Decimal(8, 4)\n",
    "structure.id = Decimal(8, 4)\n",
    "structure.length = Decimal(8, 4)\n",
    "structure.module = Char(4)"
   ]
  },
  {
   "cell_type": "code",
   "execution_count": 6,
   "metadata": {},
   "outputs": [
    {
     "data": {
      "text/plain": [
       "Structure([('version',\n",
       "            Decimal(index=Index(byte=0, bit=0, address=0, base_address=0, update=False), alignment=(4, 0), bit_size=8, value=0)),\n",
       "           ('id',\n",
       "            Decimal(index=Index(byte=0, bit=0, address=0, base_address=0, update=False), alignment=(4, 0), bit_size=8, value=0)),\n",
       "           ('length',\n",
       "            Decimal(index=Index(byte=0, bit=0, address=0, base_address=0, update=False), alignment=(4, 0), bit_size=8, value=0)),\n",
       "           ('module',\n",
       "            Char(index=Index(byte=0, bit=0, address=0, base_address=0, update=False), alignment=(4, 0), bit_size=8, value='\\x00'))])"
      ]
     },
     "execution_count": 6,
     "metadata": {},
     "output_type": "execute_result"
    }
   ],
   "source": [
    "structure"
   ]
  },
  {
   "cell_type": "code",
   "execution_count": 7,
   "metadata": {},
   "outputs": [
    {
     "data": {
      "text/plain": [
       "OrderedDict([('version',\n",
       "              Index(byte=0, bit=0, address=0, base_address=0, update=False)),\n",
       "             ('id',\n",
       "              Index(byte=0, bit=0, address=0, base_address=0, update=False)),\n",
       "             ('length',\n",
       "              Index(byte=0, bit=0, address=0, base_address=0, update=False)),\n",
       "             ('module',\n",
       "              Index(byte=0, bit=0, address=0, base_address=0, update=False))])"
      ]
     },
     "execution_count": 7,
     "metadata": {},
     "output_type": "execute_result"
    }
   ],
   "source": [
    "structure.view_fields('index')"
   ]
  },
  {
   "cell_type": "markdown",
   "metadata": {},
   "source": [
    "## Create a new Structure with Keywords"
   ]
  },
  {
   "cell_type": "code",
   "execution_count": 8,
   "metadata": {},
   "outputs": [],
   "source": [
    "structure = Structure(\n",
    "    version=Decimal(8, 4), \n",
    "    id=Decimal(8, 4), \n",
    "    length=Decimal(8, 4), \n",
    "    module=Char(4))"
   ]
  },
  {
   "cell_type": "code",
   "execution_count": 9,
   "metadata": {},
   "outputs": [
    {
     "data": {
      "text/plain": [
       "Structure([('version',\n",
       "            Decimal(index=Index(byte=0, bit=0, address=0, base_address=0, update=False), alignment=(4, 0), bit_size=8, value=0)),\n",
       "           ('id',\n",
       "            Decimal(index=Index(byte=0, bit=0, address=0, base_address=0, update=False), alignment=(4, 0), bit_size=8, value=0)),\n",
       "           ('length',\n",
       "            Decimal(index=Index(byte=0, bit=0, address=0, base_address=0, update=False), alignment=(4, 0), bit_size=8, value=0)),\n",
       "           ('module',\n",
       "            Char(index=Index(byte=0, bit=0, address=0, base_address=0, update=False), alignment=(4, 0), bit_size=8, value='\\x00'))])"
      ]
     },
     "execution_count": 9,
     "metadata": {},
     "output_type": "execute_result"
    }
   ],
   "source": [
    "structure"
   ]
  },
  {
   "cell_type": "markdown",
   "metadata": {},
   "source": [
    "## Size of a Strucutrue"
   ]
  },
  {
   "cell_type": "code",
   "execution_count": 10,
   "metadata": {},
   "outputs": [
    {
     "data": {
      "text/plain": [
       "(4, 0)"
      ]
     },
     "execution_count": 10,
     "metadata": {},
     "output_type": "execute_result"
    }
   ],
   "source": [
    "structure.container_size()"
   ]
  },
  {
   "cell_type": "code",
   "execution_count": 11,
   "metadata": {},
   "outputs": [],
   "source": [
    "num_of_bytes, num_of_remaining_bits = structure.container_size()"
   ]
  },
  {
   "cell_type": "code",
   "execution_count": 12,
   "metadata": {},
   "outputs": [
    {
     "data": {
      "text/plain": [
       "4"
      ]
     },
     "execution_count": 12,
     "metadata": {},
     "output_type": "execute_result"
    }
   ],
   "source": [
    "num_of_bytes"
   ]
  },
  {
   "cell_type": "code",
   "execution_count": 13,
   "metadata": {},
   "outputs": [
    {
     "data": {
      "text/plain": [
       "0"
      ]
     },
     "execution_count": 13,
     "metadata": {},
     "output_type": "execute_result"
    }
   ],
   "source": [
    "num_of_remaining_bits"
   ]
  },
  {
   "cell_type": "markdown",
   "metadata": {},
   "source": [
    "## Indexing a Structure"
   ]
  },
  {
   "cell_type": "code",
   "execution_count": 14,
   "metadata": {},
   "outputs": [
    {
     "data": {
      "text/plain": [
       "Index(byte=4, bit=0, address=4, base_address=0, update=False)"
      ]
     },
     "execution_count": 14,
     "metadata": {},
     "output_type": "execute_result"
    }
   ],
   "source": [
    "structure.index_fields(index=Index())"
   ]
  },
  {
   "cell_type": "code",
   "execution_count": 15,
   "metadata": {},
   "outputs": [
    {
     "data": {
      "text/plain": [
       "Index(byte=4, bit=0, address=4, base_address=0, update=False)"
      ]
     },
     "execution_count": 15,
     "metadata": {},
     "output_type": "execute_result"
    }
   ],
   "source": [
    "structure.index_fields()"
   ]
  },
  {
   "cell_type": "code",
   "execution_count": 16,
   "metadata": {},
   "outputs": [
    {
     "data": {
      "text/plain": [
       "Structure([('version',\n",
       "            Decimal(index=Index(byte=0, bit=0, address=0, base_address=0, update=False), alignment=(4, 0), bit_size=8, value=0)),\n",
       "           ('id',\n",
       "            Decimal(index=Index(byte=0, bit=8, address=0, base_address=0, update=False), alignment=(4, 8), bit_size=8, value=0)),\n",
       "           ('length',\n",
       "            Decimal(index=Index(byte=0, bit=16, address=0, base_address=0, update=False), alignment=(4, 16), bit_size=8, value=0)),\n",
       "           ('module',\n",
       "            Char(index=Index(byte=0, bit=24, address=0, base_address=0, update=False), alignment=(4, 24), bit_size=8, value='\\x00'))])"
      ]
     },
     "execution_count": 16,
     "metadata": {},
     "output_type": "execute_result"
    }
   ],
   "source": [
    "structure"
   ]
  },
  {
   "cell_type": "code",
   "execution_count": 17,
   "metadata": {},
   "outputs": [
    {
     "data": {
      "text/plain": [
       "OrderedDict([('version',\n",
       "              Index(byte=0, bit=0, address=0, base_address=0, update=False)),\n",
       "             ('id',\n",
       "              Index(byte=0, bit=8, address=0, base_address=0, update=False)),\n",
       "             ('length',\n",
       "              Index(byte=0, bit=16, address=0, base_address=0, update=False)),\n",
       "             ('module',\n",
       "              Index(byte=0, bit=24, address=0, base_address=0, update=False))])"
      ]
     },
     "execution_count": 17,
     "metadata": {},
     "output_type": "execute_result"
    }
   ],
   "source": [
    "structure.view_fields('index')"
   ]
  },
  {
   "cell_type": "markdown",
   "metadata": {},
   "source": [
    "## Metadata of a Structure"
   ]
  },
  {
   "cell_type": "code",
   "execution_count": 18,
   "metadata": {},
   "outputs": [
    {
     "data": {
      "text/plain": [
       "OrderedDict([('class', 'Structure'),\n",
       "             ('name', 'Structure'),\n",
       "             ('size', 4),\n",
       "             ('type', 'Structure'),\n",
       "             ('member',\n",
       "              [OrderedDict([('address', 0),\n",
       "                            ('alignment', [4, 0]),\n",
       "                            ('class', 'Decimal8'),\n",
       "                            ('index', [0, 0]),\n",
       "                            ('max', 255),\n",
       "                            ('min', 0),\n",
       "                            ('name', 'version'),\n",
       "                            ('order', 'auto'),\n",
       "                            ('signed', False),\n",
       "                            ('size', 8),\n",
       "                            ('type', 'Field'),\n",
       "                            ('value', 0)]),\n",
       "               OrderedDict([('address', 0),\n",
       "                            ('alignment', [4, 8]),\n",
       "                            ('class', 'Decimal8'),\n",
       "                            ('index', [0, 8]),\n",
       "                            ('max', 255),\n",
       "                            ('min', 0),\n",
       "                            ('name', 'id'),\n",
       "                            ('order', 'auto'),\n",
       "                            ('signed', False),\n",
       "                            ('size', 8),\n",
       "                            ('type', 'Field'),\n",
       "                            ('value', 0)]),\n",
       "               OrderedDict([('address', 0),\n",
       "                            ('alignment', [4, 16]),\n",
       "                            ('class', 'Decimal8'),\n",
       "                            ('index', [0, 16]),\n",
       "                            ('max', 255),\n",
       "                            ('min', 0),\n",
       "                            ('name', 'length'),\n",
       "                            ('order', 'auto'),\n",
       "                            ('signed', False),\n",
       "                            ('size', 8),\n",
       "                            ('type', 'Field'),\n",
       "                            ('value', 0)]),\n",
       "               OrderedDict([('address', 0),\n",
       "                            ('alignment', [4, 24]),\n",
       "                            ('class', 'Char'),\n",
       "                            ('index', [0, 24]),\n",
       "                            ('max', 255),\n",
       "                            ('min', 0),\n",
       "                            ('name', 'module'),\n",
       "                            ('order', 'auto'),\n",
       "                            ('signed', False),\n",
       "                            ('size', 8),\n",
       "                            ('type', 'Field'),\n",
       "                            ('value', '\\x00')])])])"
      ]
     },
     "execution_count": 18,
     "metadata": {},
     "output_type": "execute_result"
    }
   ],
   "source": [
    "structure.describe()"
   ]
  },
  {
   "cell_type": "markdown",
   "metadata": {},
   "source": [
    "## Structure Members"
   ]
  },
  {
   "cell_type": "markdown",
   "metadata": {},
   "source": [
    "### Number of Structure Member Items"
   ]
  },
  {
   "cell_type": "code",
   "execution_count": 19,
   "metadata": {},
   "outputs": [
    {
     "data": {
      "text/plain": [
       "4"
      ]
     },
     "execution_count": 19,
     "metadata": {},
     "output_type": "execute_result"
    }
   ],
   "source": [
    "len(structure)"
   ]
  },
  {
   "cell_type": "markdown",
   "metadata": {},
   "source": [
    "### List of the Structure Member Items"
   ]
  },
  {
   "cell_type": "code",
   "execution_count": 20,
   "metadata": {},
   "outputs": [
    {
     "data": {
      "text/plain": [
       "[('version',\n",
       "  Decimal(index=Index(byte=0, bit=0, address=0, base_address=0, update=False), alignment=(4, 0), bit_size=8, value=0)),\n",
       " ('id',\n",
       "  Decimal(index=Index(byte=0, bit=8, address=0, base_address=0, update=False), alignment=(4, 8), bit_size=8, value=0)),\n",
       " ('length',\n",
       "  Decimal(index=Index(byte=0, bit=16, address=0, base_address=0, update=False), alignment=(4, 16), bit_size=8, value=0)),\n",
       " ('module',\n",
       "  Char(index=Index(byte=0, bit=24, address=0, base_address=0, update=False), alignment=(4, 24), bit_size=8, value='\\x00'))]"
      ]
     },
     "execution_count": 20,
     "metadata": {},
     "output_type": "execute_result"
    }
   ],
   "source": [
    "[(name, member) for name, member in structure.items()]"
   ]
  },
  {
   "cell_type": "markdown",
   "metadata": {},
   "source": [
    "### List of the Structure Member Names"
   ]
  },
  {
   "cell_type": "code",
   "execution_count": 21,
   "metadata": {},
   "outputs": [
    {
     "data": {
      "text/plain": [
       "['version', 'id', 'length', 'module']"
      ]
     },
     "execution_count": 21,
     "metadata": {},
     "output_type": "execute_result"
    }
   ],
   "source": [
    "[name for name in structure.keys()]"
   ]
  },
  {
   "cell_type": "markdown",
   "metadata": {},
   "source": [
    "### List of the Structure Members"
   ]
  },
  {
   "cell_type": "code",
   "execution_count": 22,
   "metadata": {},
   "outputs": [
    {
     "data": {
      "text/plain": [
       "[Decimal(index=Index(byte=0, bit=0, address=0, base_address=0, update=False), alignment=(4, 0), bit_size=8, value=0),\n",
       " Decimal(index=Index(byte=0, bit=8, address=0, base_address=0, update=False), alignment=(4, 8), bit_size=8, value=0),\n",
       " Decimal(index=Index(byte=0, bit=16, address=0, base_address=0, update=False), alignment=(4, 16), bit_size=8, value=0),\n",
       " Char(index=Index(byte=0, bit=24, address=0, base_address=0, update=False), alignment=(4, 24), bit_size=8, value='\\x00')]"
      ]
     },
     "execution_count": 22,
     "metadata": {},
     "output_type": "execute_result"
    }
   ],
   "source": [
    "[member for member in structure.values()]"
   ]
  },
  {
   "cell_type": "markdown",
   "metadata": {},
   "source": [
    "## Structure Fields"
   ]
  },
  {
   "cell_type": "markdown",
   "metadata": {},
   "source": [
    "### List of the Structure Field Items"
   ]
  },
  {
   "cell_type": "code",
   "execution_count": 23,
   "metadata": {},
   "outputs": [
    {
     "data": {
      "text/plain": [
       "[('version',\n",
       "  Decimal(index=Index(byte=0, bit=0, address=0, base_address=0, update=False), alignment=(4, 0), bit_size=8, value=0)),\n",
       " ('id',\n",
       "  Decimal(index=Index(byte=0, bit=8, address=0, base_address=0, update=False), alignment=(4, 8), bit_size=8, value=0)),\n",
       " ('length',\n",
       "  Decimal(index=Index(byte=0, bit=16, address=0, base_address=0, update=False), alignment=(4, 16), bit_size=8, value=0)),\n",
       " ('module',\n",
       "  Char(index=Index(byte=0, bit=24, address=0, base_address=0, update=False), alignment=(4, 24), bit_size=8, value='\\x00'))]"
      ]
     },
     "execution_count": 23,
     "metadata": {},
     "output_type": "execute_result"
    }
   ],
   "source": [
    "structure.field_items()"
   ]
  },
  {
   "cell_type": "markdown",
   "metadata": {},
   "source": [
    "### List of the Structure Field Attributes"
   ]
  },
  {
   "cell_type": "code",
   "execution_count": 24,
   "metadata": {},
   "outputs": [
    {
     "data": {
      "text/plain": [
       "[('version', 0, 8, 'Decimal8'),\n",
       " ('id', 0, 8, 'Decimal8'),\n",
       " ('length', 0, 8, 'Decimal8'),\n",
       " ('module', '\\x00', 8, 'Char')]"
      ]
     },
     "execution_count": 24,
     "metadata": {},
     "output_type": "execute_result"
    }
   ],
   "source": [
    "[(path, field.value, field.bit_size, field.name) for path, field in structure.field_items()]"
   ]
  },
  {
   "cell_type": "code",
   "execution_count": 25,
   "metadata": {},
   "outputs": [
    {
     "data": {
      "text/plain": [
       "[('Structure.version', (0, 8, 'Decimal8')),\n",
       " ('Structure.id', (0, 8, 'Decimal8')),\n",
       " ('Structure.length', (0, 8, 'Decimal8')),\n",
       " ('Structure.module', ('\\x00', 8, 'Char'))]"
      ]
     },
     "execution_count": 25,
     "metadata": {},
     "output_type": "execute_result"
    }
   ],
   "source": [
    "structure.to_list('value', 'bit_size', 'name')"
   ]
  },
  {
   "cell_type": "code",
   "execution_count": 26,
   "metadata": {},
   "outputs": [
    {
     "data": {
      "text/plain": [
       "OrderedDict([('Structure',\n",
       "              OrderedDict([('version', (0, 8, 'Decimal8')),\n",
       "                           ('id', (0, 8, 'Decimal8')),\n",
       "                           ('length', (0, 8, 'Decimal8')),\n",
       "                           ('module', ('\\x00', 8, 'Char'))]))])"
      ]
     },
     "execution_count": 26,
     "metadata": {},
     "output_type": "execute_result"
    }
   ],
   "source": [
    "structure.to_dict('value', 'bit_size', 'name')"
   ]
  },
  {
   "cell_type": "markdown",
   "metadata": {},
   "source": [
    "### View of the Structure Field Attributes"
   ]
  },
  {
   "cell_type": "code",
   "execution_count": 27,
   "metadata": {},
   "outputs": [
    {
     "data": {
      "text/plain": [
       "OrderedDict([('version', 0), ('id', 0), ('length', 0), ('module', '\\x00')])"
      ]
     },
     "execution_count": 27,
     "metadata": {},
     "output_type": "execute_result"
    }
   ],
   "source": [
    "structure.view_fields()"
   ]
  },
  {
   "cell_type": "code",
   "execution_count": 28,
   "metadata": {},
   "outputs": [
    {
     "data": {
      "text/plain": [
       "OrderedDict([('version', 0), ('id', 0), ('length', 0), ('module', '\\x00')])"
      ]
     },
     "execution_count": 28,
     "metadata": {},
     "output_type": "execute_result"
    }
   ],
   "source": [
    "structure.view_fields('value')"
   ]
  },
  {
   "cell_type": "markdown",
   "metadata": {},
   "source": [
    "### Save to an `.ini` File"
   ]
  },
  {
   "cell_type": "code",
   "execution_count": 29,
   "metadata": {},
   "outputs": [],
   "source": [
    "structure.save('Structure.ini', nested=True)"
   ]
  },
  {
   "cell_type": "markdown",
   "metadata": {},
   "source": [
    "### Load from an `.ini` File"
   ]
  },
  {
   "cell_type": "code",
   "execution_count": 30,
   "metadata": {},
   "outputs": [
    {
     "name": "stdout",
     "output_type": "stream",
     "text": [
      "[Structure]\n",
      "Structure.version = 0\n",
      "Structure.id = 0\n",
      "Structure.length = 0\n",
      "Structure.module = \u0000\n"
     ]
    }
   ],
   "source": [
    "structure.load('Structure.ini', nested=True)"
   ]
  },
  {
   "cell_type": "markdown",
   "metadata": {},
   "source": [
    "### Convert to JSON"
   ]
  },
  {
   "cell_type": "code",
   "execution_count": 31,
   "metadata": {},
   "outputs": [
    {
     "name": "stdout",
     "output_type": "stream",
     "text": [
      "{\n",
      "  \"class\": \"Structure\",\n",
      "  \"name\": \"Structure\",\n",
      "  \"size\": 4,\n",
      "  \"type\": \"Structure\",\n",
      "  \"member\": [\n",
      "    {\n",
      "      \"address\": 0,\n",
      "      \"alignment\": [\n",
      "        4,\n",
      "        0\n",
      "      ],\n",
      "      \"class\": \"Decimal8\",\n",
      "      \"index\": [\n",
      "        0,\n",
      "        0\n",
      "      ],\n",
      "      \"max\": 255,\n",
      "      \"min\": 0,\n",
      "      \"name\": \"version\",\n",
      "      \"order\": \"auto\",\n",
      "      \"signed\": false,\n",
      "      \"size\": 8,\n",
      "      \"type\": \"Field\",\n",
      "      \"value\": 0\n",
      "    },\n",
      "    {\n",
      "      \"address\": 0,\n",
      "      \"alignment\": [\n",
      "        4,\n",
      "        8\n",
      "      ],\n",
      "      \"class\": \"Decimal8\",\n",
      "      \"index\": [\n",
      "        0,\n",
      "        8\n",
      "      ],\n",
      "      \"max\": 255,\n",
      "      \"min\": 0,\n",
      "      \"name\": \"id\",\n",
      "      \"order\": \"auto\",\n",
      "      \"signed\": false,\n",
      "      \"size\": 8,\n",
      "      \"type\": \"Field\",\n",
      "      \"value\": 0\n",
      "    },\n",
      "    {\n",
      "      \"address\": 0,\n",
      "      \"alignment\": [\n",
      "        4,\n",
      "        16\n",
      "      ],\n",
      "      \"class\": \"Decimal8\",\n",
      "      \"index\": [\n",
      "        0,\n",
      "        16\n",
      "      ],\n",
      "      \"max\": 255,\n",
      "      \"min\": 0,\n",
      "      \"name\": \"length\",\n",
      "      \"order\": \"auto\",\n",
      "      \"signed\": false,\n",
      "      \"size\": 8,\n",
      "      \"type\": \"Field\",\n",
      "      \"value\": 0\n",
      "    },\n",
      "    {\n",
      "      \"address\": 0,\n",
      "      \"alignment\": [\n",
      "        4,\n",
      "        24\n",
      "      ],\n",
      "      \"class\": \"Char\",\n",
      "      \"index\": [\n",
      "        0,\n",
      "        24\n",
      "      ],\n",
      "      \"max\": 255,\n",
      "      \"min\": 0,\n",
      "      \"name\": \"module\",\n",
      "      \"order\": \"auto\",\n",
      "      \"signed\": false,\n",
      "      \"size\": 8,\n",
      "      \"type\": \"Field\",\n",
      "      \"value\": \"\\u0000\"\n",
      "    }\n",
      "  ]\n",
      "}\n"
     ]
    }
   ],
   "source": [
    "print(json.dumps(structure.describe(), indent=2))"
   ]
  },
  {
   "cell_type": "code",
   "execution_count": 32,
   "metadata": {
    "scrolled": false
   },
   "outputs": [
    {
     "name": "stdout",
     "output_type": "stream",
     "text": [
      "{\n",
      "  \"version\": 0,\n",
      "  \"id\": 0,\n",
      "  \"length\": 0,\n",
      "  \"module\": \"\\u0000\"\n",
      "}\n"
     ]
    }
   ],
   "source": [
    "print(json.dumps(structure.view_fields(), indent=2))"
   ]
  },
  {
   "cell_type": "code",
   "execution_count": 33,
   "metadata": {},
   "outputs": [
    {
     "name": "stdout",
     "output_type": "stream",
     "text": [
      "{\n",
      "  \"version\": [\n",
      "    \"Decimal8\",\n",
      "    8,\n",
      "    0,\n",
      "    [\n",
      "      0,\n",
      "      0,\n",
      "      0,\n",
      "      0,\n",
      "      false\n",
      "    ]\n",
      "  ],\n",
      "  \"id\": [\n",
      "    \"Decimal8\",\n",
      "    8,\n",
      "    0,\n",
      "    [\n",
      "      0,\n",
      "      8,\n",
      "      0,\n",
      "      0,\n",
      "      false\n",
      "    ]\n",
      "  ],\n",
      "  \"length\": [\n",
      "    \"Decimal8\",\n",
      "    8,\n",
      "    0,\n",
      "    [\n",
      "      0,\n",
      "      16,\n",
      "      0,\n",
      "      0,\n",
      "      false\n",
      "    ]\n",
      "  ],\n",
      "  \"module\": [\n",
      "    \"Char\",\n",
      "    8,\n",
      "    \"\\u0000\",\n",
      "    [\n",
      "      0,\n",
      "      24,\n",
      "      0,\n",
      "      0,\n",
      "      false\n",
      "    ]\n",
      "  ]\n",
      "}\n"
     ]
    }
   ],
   "source": [
    "print(json.dumps(structure.view_fields('name', 'bit_size', 'value', 'index'), indent=2))"
   ]
  },
  {
   "cell_type": "code",
   "execution_count": 34,
   "metadata": {},
   "outputs": [
    {
     "name": "stdout",
     "output_type": "stream",
     "text": [
      "{\n",
      "  \"Structure\": {\n",
      "    \"version\": 0,\n",
      "    \"id\": 0,\n",
      "    \"length\": 0,\n",
      "    \"module\": \"\\u0000\"\n",
      "  }\n",
      "}\n"
     ]
    }
   ],
   "source": [
    "print(json.dumps(structure.to_dict(), indent=2))"
   ]
  },
  {
   "cell_type": "code",
   "execution_count": 35,
   "metadata": {},
   "outputs": [
    {
     "name": "stdout",
     "output_type": "stream",
     "text": [
      "{\n",
      "  \"Structure\": {\n",
      "    \"version\": [\n",
      "      \"Decimal8\",\n",
      "      8,\n",
      "      0,\n",
      "      [\n",
      "        0,\n",
      "        0,\n",
      "        0,\n",
      "        0,\n",
      "        false\n",
      "      ]\n",
      "    ],\n",
      "    \"id\": [\n",
      "      \"Decimal8\",\n",
      "      8,\n",
      "      0,\n",
      "      [\n",
      "        0,\n",
      "        8,\n",
      "        0,\n",
      "        0,\n",
      "        false\n",
      "      ]\n",
      "    ],\n",
      "    \"length\": [\n",
      "      \"Decimal8\",\n",
      "      8,\n",
      "      0,\n",
      "      [\n",
      "        0,\n",
      "        16,\n",
      "        0,\n",
      "        0,\n",
      "        false\n",
      "      ]\n",
      "    ],\n",
      "    \"module\": [\n",
      "      \"Char\",\n",
      "      8,\n",
      "      \"\\u0000\",\n",
      "      [\n",
      "        0,\n",
      "        24,\n",
      "        0,\n",
      "        0,\n",
      "        false\n",
      "      ]\n",
      "    ]\n",
      "  }\n",
      "}\n"
     ]
    }
   ],
   "source": [
    "print(json.dumps(structure.to_dict('name', 'bit_size', 'value', 'index'), indent=2))"
   ]
  },
  {
   "cell_type": "code",
   "execution_count": null,
   "metadata": {},
   "outputs": [],
   "source": []
  }
 ],
 "metadata": {
  "kernelspec": {
   "display_name": "Python 3",
   "language": "python",
   "name": "python3"
  },
  "language_info": {
   "codemirror_mode": {
    "name": "ipython",
    "version": 3
   },
   "file_extension": ".py",
   "mimetype": "text/x-python",
   "name": "python",
   "nbconvert_exporter": "python",
   "pygments_lexer": "ipython3",
   "version": "3.6.4"
  }
 },
 "nbformat": 4,
 "nbformat_minor": 2
}
