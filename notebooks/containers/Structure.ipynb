{
 "cells": [
  {
   "cell_type": "markdown",
   "metadata": {},
   "source": [
    "# Structure"
   ]
  },
  {
   "cell_type": "code",
   "execution_count": 1,
   "metadata": {},
   "outputs": [],
   "source": [
    "import json\n",
    "import sys\n",
    "\n",
    "from konfoo import *"
   ]
  },
  {
   "cell_type": "markdown",
   "metadata": {},
   "source": [
    "## YAML Support"
   ]
  },
  {
   "cell_type": "code",
   "execution_count": 2,
   "metadata": {},
   "outputs": [],
   "source": [
    "import oyaml as yaml"
   ]
  },
  {
   "cell_type": "code",
   "execution_count": 3,
   "metadata": {},
   "outputs": [],
   "source": [
    "def to_yaml(container, *attributes, **options):\n",
    "    flow_style = options.pop('flow_style', False)\n",
    "    return yaml.safe_dump(container.view_fields(*attributes, **options), \n",
    "                          stream=sys.stdout, \n",
    "                          default_flow_style=flow_style)"
   ]
  },
  {
   "cell_type": "markdown",
   "metadata": {},
   "source": [
    "## Define a Structure"
   ]
  },
  {
   "cell_type": "code",
   "execution_count": 4,
   "metadata": {},
   "outputs": [],
   "source": [
    "class Identifier(Structure):\n",
    "\n",
    "    def __init__(self):\n",
    "        super().__init__()        # <- NEVER forget to call it first!\n",
    "        self.version = Decimal(8) # 1st field\n",
    "        self.id = Decimal(8)      # 2nd field\n",
    "        self.length = Decimal(8)  # 3rd field\n",
    "        self.module = Char()      # 4th field\n",
    "        self.index_fields()       # <- Indexes all fields (optional)"
   ]
  },
  {
   "cell_type": "code",
   "execution_count": 5,
   "metadata": {},
   "outputs": [],
   "source": [
    "structure = Identifier()"
   ]
  },
  {
   "cell_type": "code",
   "execution_count": 6,
   "metadata": {},
   "outputs": [
    {
     "data": {
      "text/plain": [
       "[('Identifier.version', 0),\n",
       " ('Identifier.id', 0),\n",
       " ('Identifier.length', 0),\n",
       " ('Identifier.module', '\\x00')]"
      ]
     },
     "execution_count": 6,
     "metadata": {},
     "output_type": "execute_result"
    }
   ],
   "source": [
    "structure.to_list()"
   ]
  },
  {
   "cell_type": "code",
   "execution_count": 7,
   "metadata": {},
   "outputs": [
    {
     "data": {
      "text/plain": [
       "[{'id': 'Identifier.version', 'value': 0},\n",
       " {'id': 'Identifier.id', 'value': 0},\n",
       " {'id': 'Identifier.length', 'value': 0},\n",
       " {'id': 'Identifier.module', 'value': '\\x00'}]"
      ]
     },
     "execution_count": 7,
     "metadata": {},
     "output_type": "execute_result"
    }
   ],
   "source": [
    "structure.to_csv()"
   ]
  },
  {
   "cell_type": "code",
   "execution_count": 8,
   "metadata": {},
   "outputs": [
    {
     "data": {
      "text/plain": [
       "'{\"version\": 0, \"id\": 0, \"length\": 0, \"module\": \"\\\\u0000\"}'"
      ]
     },
     "execution_count": 8,
     "metadata": {},
     "output_type": "execute_result"
    }
   ],
   "source": [
    "structure.to_json()"
   ]
  },
  {
   "cell_type": "code",
   "execution_count": 9,
   "metadata": {},
   "outputs": [
    {
     "name": "stdout",
     "output_type": "stream",
     "text": [
      "version: 0\n",
      "id: 0\n",
      "length: 0\n",
      "module: \"\\0\"\n"
     ]
    }
   ],
   "source": [
    "to_yaml(structure, flow_style=False)"
   ]
  },
  {
   "cell_type": "markdown",
   "metadata": {},
   "source": [
    "## Align Fields in a Structure"
   ]
  },
  {
   "cell_type": "code",
   "execution_count": 10,
   "metadata": {},
   "outputs": [],
   "source": [
    "class Identifier(Structure):\n",
    "\n",
    "    def __init__(self):\n",
    "        super().__init__()\n",
    "        self.version = Decimal(8, align_to=4)\n",
    "        self.id = Decimal(8, align_to=4)\n",
    "        self.length = Decimal(8, align_to=4)\n",
    "        self.module = Char(align_to=4)\n",
    "        self.index_fields()"
   ]
  },
  {
   "cell_type": "code",
   "execution_count": 11,
   "metadata": {},
   "outputs": [],
   "source": [
    "structure = Identifier()"
   ]
  },
  {
   "cell_type": "code",
   "execution_count": 12,
   "metadata": {},
   "outputs": [
    {
     "data": {
      "text/plain": [
       "[('Identifier.version', Alignment(byte_size=4, bit_offset=0)),\n",
       " ('Identifier.id', Alignment(byte_size=4, bit_offset=8)),\n",
       " ('Identifier.length', Alignment(byte_size=4, bit_offset=16)),\n",
       " ('Identifier.module', Alignment(byte_size=4, bit_offset=24))]"
      ]
     },
     "execution_count": 12,
     "metadata": {},
     "output_type": "execute_result"
    }
   ],
   "source": [
    "structure.to_list('alignment')"
   ]
  },
  {
   "cell_type": "code",
   "execution_count": 13,
   "metadata": {},
   "outputs": [
    {
     "data": {
      "text/plain": [
       "[{'id': 'Identifier.version', 'size': 4, 'offset': 0},\n",
       " {'id': 'Identifier.id', 'size': 4, 'offset': 8},\n",
       " {'id': 'Identifier.length', 'size': 4, 'offset': 16},\n",
       " {'id': 'Identifier.module', 'size': 4, 'offset': 24}]"
      ]
     },
     "execution_count": 13,
     "metadata": {},
     "output_type": "execute_result"
    }
   ],
   "source": [
    "structure.to_csv('alignment.byte_size', 'alignment.bit_offset', fieldnames=('id', 'size', 'offset'))"
   ]
  },
  {
   "cell_type": "code",
   "execution_count": 14,
   "metadata": {},
   "outputs": [
    {
     "data": {
      "text/plain": [
       "'{\"version\": [4, 0], \"id\": [4, 8], \"length\": [4, 16], \"module\": [4, 24]}'"
      ]
     },
     "execution_count": 14,
     "metadata": {},
     "output_type": "execute_result"
    }
   ],
   "source": [
    "structure.to_json('alignment')"
   ]
  },
  {
   "cell_type": "markdown",
   "metadata": {},
   "source": [
    "## Inherit from a Structure"
   ]
  },
  {
   "cell_type": "code",
   "execution_count": 15,
   "metadata": {},
   "outputs": [],
   "source": [
    "class HeaderV1(Structure):\n",
    "    \n",
    "    def __init__(self):\n",
    "        super().__init__()\n",
    "        self.type = Identifier()\n",
    "        self.index_fields()"
   ]
  },
  {
   "cell_type": "code",
   "execution_count": 16,
   "metadata": {},
   "outputs": [],
   "source": [
    "header = HeaderV1()"
   ]
  },
  {
   "cell_type": "code",
   "execution_count": 17,
   "metadata": {},
   "outputs": [
    {
     "data": {
      "text/plain": [
       "[('HeaderV1.type.version', 0),\n",
       " ('HeaderV1.type.id', 0),\n",
       " ('HeaderV1.type.length', 0),\n",
       " ('HeaderV1.type.module', '\\x00')]"
      ]
     },
     "execution_count": 17,
     "metadata": {},
     "output_type": "execute_result"
    }
   ],
   "source": [
    "header.to_list()"
   ]
  },
  {
   "cell_type": "code",
   "execution_count": 18,
   "metadata": {},
   "outputs": [
    {
     "data": {
      "text/plain": [
       "[{'id': 'HeaderV1.type.version', 'value': 0},\n",
       " {'id': 'HeaderV1.type.id', 'value': 0},\n",
       " {'id': 'HeaderV1.type.length', 'value': 0},\n",
       " {'id': 'HeaderV1.type.module', 'value': '\\x00'}]"
      ]
     },
     "execution_count": 18,
     "metadata": {},
     "output_type": "execute_result"
    }
   ],
   "source": [
    "header.to_csv()"
   ]
  },
  {
   "cell_type": "code",
   "execution_count": 19,
   "metadata": {},
   "outputs": [
    {
     "data": {
      "text/plain": [
       "'{\"type\": {\"version\": 0, \"id\": 0, \"length\": 0, \"module\": \"\\\\u0000\"}}'"
      ]
     },
     "execution_count": 19,
     "metadata": {},
     "output_type": "execute_result"
    }
   ],
   "source": [
    "header.to_json()"
   ]
  },
  {
   "cell_type": "code",
   "execution_count": 20,
   "metadata": {},
   "outputs": [
    {
     "name": "stdout",
     "output_type": "stream",
     "text": [
      "type:\n",
      "  version: 0\n",
      "  id: 0\n",
      "  length: 0\n",
      "  module: \"\\0\"\n"
     ]
    }
   ],
   "source": [
    "to_yaml(header, flow_style=False)"
   ]
  },
  {
   "cell_type": "code",
   "execution_count": 21,
   "metadata": {},
   "outputs": [],
   "source": [
    "class HeaderV2(HeaderV1):\n",
    "\n",
    "    def __init__(self):\n",
    "        super().__init__()\n",
    "        self.size = Decimal32()\n",
    "        self.index_fields()"
   ]
  },
  {
   "cell_type": "code",
   "execution_count": 22,
   "metadata": {},
   "outputs": [],
   "source": [
    "header = HeaderV2()"
   ]
  },
  {
   "cell_type": "code",
   "execution_count": 23,
   "metadata": {},
   "outputs": [
    {
     "data": {
      "text/plain": [
       "[('HeaderV2.type.version', 0),\n",
       " ('HeaderV2.type.id', 0),\n",
       " ('HeaderV2.type.length', 0),\n",
       " ('HeaderV2.type.module', '\\x00'),\n",
       " ('HeaderV2.size', 0)]"
      ]
     },
     "execution_count": 23,
     "metadata": {},
     "output_type": "execute_result"
    }
   ],
   "source": [
    "header.to_list()"
   ]
  },
  {
   "cell_type": "code",
   "execution_count": 24,
   "metadata": {},
   "outputs": [
    {
     "data": {
      "text/plain": [
       "[{'id': 'HeaderV2.type.version', 'value': 0},\n",
       " {'id': 'HeaderV2.type.id', 'value': 0},\n",
       " {'id': 'HeaderV2.type.length', 'value': 0},\n",
       " {'id': 'HeaderV2.type.module', 'value': '\\x00'},\n",
       " {'id': 'HeaderV2.size', 'value': 0}]"
      ]
     },
     "execution_count": 24,
     "metadata": {},
     "output_type": "execute_result"
    }
   ],
   "source": [
    "header.to_csv()"
   ]
  },
  {
   "cell_type": "code",
   "execution_count": 25,
   "metadata": {},
   "outputs": [
    {
     "data": {
      "text/plain": [
       "'{\"type\": {\"version\": 0, \"id\": 0, \"length\": 0, \"module\": \"\\\\u0000\"}, \"size\": 0}'"
      ]
     },
     "execution_count": 25,
     "metadata": {},
     "output_type": "execute_result"
    }
   ],
   "source": [
    "header.to_json()"
   ]
  },
  {
   "cell_type": "code",
   "execution_count": 26,
   "metadata": {},
   "outputs": [
    {
     "name": "stdout",
     "output_type": "stream",
     "text": [
      "type:\n",
      "  version: 0\n",
      "  id: 0\n",
      "  length: 0\n",
      "  module: \"\\0\"\n",
      "size: 0\n"
     ]
    }
   ],
   "source": [
    "to_yaml(header)"
   ]
  },
  {
   "cell_type": "markdown",
   "metadata": {},
   "source": [
    "## Create a Structure on the Fly"
   ]
  },
  {
   "cell_type": "code",
   "execution_count": 27,
   "metadata": {},
   "outputs": [],
   "source": [
    "structure = Structure()\n",
    "structure.version = Decimal(8, align_to=4)\n",
    "structure.id = Decimal(8, align_to=4)\n",
    "structure.length = Decimal(8, align_to=4)\n",
    "structure.module = Char(align_to=4)"
   ]
  },
  {
   "cell_type": "code",
   "execution_count": 28,
   "metadata": {},
   "outputs": [
    {
     "data": {
      "text/plain": [
       "[('Structure.version', 0),\n",
       " ('Structure.id', 0),\n",
       " ('Structure.length', 0),\n",
       " ('Structure.module', '\\x00')]"
      ]
     },
     "execution_count": 28,
     "metadata": {},
     "output_type": "execute_result"
    }
   ],
   "source": [
    "structure.to_list()"
   ]
  },
  {
   "cell_type": "code",
   "execution_count": 29,
   "metadata": {},
   "outputs": [
    {
     "data": {
      "text/plain": [
       "[{'id': 'Structure.version', 'value': 0},\n",
       " {'id': 'Structure.id', 'value': 0},\n",
       " {'id': 'Structure.length', 'value': 0},\n",
       " {'id': 'Structure.module', 'value': '\\x00'}]"
      ]
     },
     "execution_count": 29,
     "metadata": {},
     "output_type": "execute_result"
    }
   ],
   "source": [
    "structure.to_csv()"
   ]
  },
  {
   "cell_type": "code",
   "execution_count": 30,
   "metadata": {},
   "outputs": [
    {
     "data": {
      "text/plain": [
       "'{\"version\": 0, \"id\": 0, \"length\": 0, \"module\": \"\\\\u0000\"}'"
      ]
     },
     "execution_count": 30,
     "metadata": {},
     "output_type": "execute_result"
    }
   ],
   "source": [
    "structure.to_json()"
   ]
  },
  {
   "cell_type": "code",
   "execution_count": 31,
   "metadata": {},
   "outputs": [
    {
     "name": "stdout",
     "output_type": "stream",
     "text": [
      "version: 0\n",
      "id: 0\n",
      "length: 0\n",
      "module: \"\\0\"\n"
     ]
    }
   ],
   "source": [
    "to_yaml(structure, flow_style=False)"
   ]
  },
  {
   "cell_type": "markdown",
   "metadata": {},
   "source": [
    "## Create a Structure with Keywords"
   ]
  },
  {
   "cell_type": "code",
   "execution_count": 32,
   "metadata": {},
   "outputs": [],
   "source": [
    "structure = Structure(\n",
    "    version=Decimal(8, 4),\n",
    "    id=Decimal(8, 4), \n",
    "    length=Decimal(8, 4), \n",
    "    module=Char(4))"
   ]
  },
  {
   "cell_type": "code",
   "execution_count": 33,
   "metadata": {},
   "outputs": [
    {
     "data": {
      "text/plain": [
       "[('Structure.version', 0),\n",
       " ('Structure.id', 0),\n",
       " ('Structure.length', 0),\n",
       " ('Structure.module', '\\x00')]"
      ]
     },
     "execution_count": 33,
     "metadata": {},
     "output_type": "execute_result"
    }
   ],
   "source": [
    "structure.to_list()"
   ]
  },
  {
   "cell_type": "code",
   "execution_count": 34,
   "metadata": {},
   "outputs": [
    {
     "data": {
      "text/plain": [
       "[{'id': 'Structure.version', 'value': 0},\n",
       " {'id': 'Structure.id', 'value': 0},\n",
       " {'id': 'Structure.length', 'value': 0},\n",
       " {'id': 'Structure.module', 'value': '\\x00'}]"
      ]
     },
     "execution_count": 34,
     "metadata": {},
     "output_type": "execute_result"
    }
   ],
   "source": [
    "structure.to_csv()"
   ]
  },
  {
   "cell_type": "code",
   "execution_count": 35,
   "metadata": {},
   "outputs": [
    {
     "data": {
      "text/plain": [
       "'{\"version\": 0, \"id\": 0, \"length\": 0, \"module\": \"\\\\u0000\"}'"
      ]
     },
     "execution_count": 35,
     "metadata": {},
     "output_type": "execute_result"
    }
   ],
   "source": [
    "structure.to_json()"
   ]
  },
  {
   "cell_type": "code",
   "execution_count": 36,
   "metadata": {},
   "outputs": [
    {
     "name": "stdout",
     "output_type": "stream",
     "text": [
      "version: 0\n",
      "id: 0\n",
      "length: 0\n",
      "module: \"\\0\"\n"
     ]
    }
   ],
   "source": [
    "to_yaml(structure, flow_style=False)"
   ]
  },
  {
   "cell_type": "markdown",
   "metadata": {},
   "source": [
    "## Nest Structures"
   ]
  },
  {
   "cell_type": "code",
   "execution_count": 37,
   "metadata": {},
   "outputs": [],
   "source": [
    "structure = Structure(\n",
    "    type=Structure(version=Decimal(8, 4), \n",
    "                   id=Decimal(8, 4), \n",
    "                   length=Decimal(8, 4), \n",
    "                   module=Char(4)),\n",
    "    size=Decimal32())"
   ]
  },
  {
   "cell_type": "code",
   "execution_count": 38,
   "metadata": {},
   "outputs": [
    {
     "data": {
      "text/plain": [
       "[('Structure.type.version', 0),\n",
       " ('Structure.type.id', 0),\n",
       " ('Structure.type.length', 0),\n",
       " ('Structure.type.module', '\\x00'),\n",
       " ('Structure.size', 0)]"
      ]
     },
     "execution_count": 38,
     "metadata": {},
     "output_type": "execute_result"
    }
   ],
   "source": [
    "structure.to_list()"
   ]
  },
  {
   "cell_type": "code",
   "execution_count": 39,
   "metadata": {},
   "outputs": [
    {
     "data": {
      "text/plain": [
       "[{'id': 'Structure.type.version', 'value': 0},\n",
       " {'id': 'Structure.type.id', 'value': 0},\n",
       " {'id': 'Structure.type.length', 'value': 0},\n",
       " {'id': 'Structure.type.module', 'value': '\\x00'},\n",
       " {'id': 'Structure.size', 'value': 0}]"
      ]
     },
     "execution_count": 39,
     "metadata": {},
     "output_type": "execute_result"
    }
   ],
   "source": [
    "structure.to_csv()"
   ]
  },
  {
   "cell_type": "code",
   "execution_count": 40,
   "metadata": {},
   "outputs": [
    {
     "data": {
      "text/plain": [
       "'{\"type\": {\"version\": 0, \"id\": 0, \"length\": 0, \"module\": \"\\\\u0000\"}, \"size\": 0}'"
      ]
     },
     "execution_count": 40,
     "metadata": {},
     "output_type": "execute_result"
    }
   ],
   "source": [
    "structure.to_json()"
   ]
  },
  {
   "cell_type": "code",
   "execution_count": 41,
   "metadata": {},
   "outputs": [
    {
     "name": "stdout",
     "output_type": "stream",
     "text": [
      "type:\n",
      "  version: 0\n",
      "  id: 0\n",
      "  length: 0\n",
      "  module: \"\\0\"\n",
      "size: 0\n"
     ]
    }
   ],
   "source": [
    "to_yaml(structure, flow_style=False)"
   ]
  },
  {
   "cell_type": "markdown",
   "metadata": {},
   "source": [
    "## Initialize a Structure"
   ]
  },
  {
   "cell_type": "code",
   "execution_count": 42,
   "metadata": {},
   "outputs": [],
   "source": [
    "structure = Structure(\n",
    "    version=Decimal(8, 4), \n",
    "    id=Decimal(8, 4), \n",
    "    length=Decimal(8, 4), \n",
    "    module=Char(4))"
   ]
  },
  {
   "cell_type": "code",
   "execution_count": 43,
   "metadata": {},
   "outputs": [
    {
     "data": {
      "text/plain": [
       "[('Structure.version', 0),\n",
       " ('Structure.id', 0),\n",
       " ('Structure.length', 0),\n",
       " ('Structure.module', '\\x00')]"
      ]
     },
     "execution_count": 43,
     "metadata": {},
     "output_type": "execute_result"
    }
   ],
   "source": [
    "structure.to_list()"
   ]
  },
  {
   "cell_type": "code",
   "execution_count": 44,
   "metadata": {},
   "outputs": [
    {
     "data": {
      "text/plain": [
       "[{'id': 'Structure.version', 'value': 0},\n",
       " {'id': 'Structure.id', 'value': 0},\n",
       " {'id': 'Structure.length', 'value': 0},\n",
       " {'id': 'Structure.module', 'value': '\\x00'}]"
      ]
     },
     "execution_count": 44,
     "metadata": {},
     "output_type": "execute_result"
    }
   ],
   "source": [
    "structure.to_csv()"
   ]
  },
  {
   "cell_type": "code",
   "execution_count": 45,
   "metadata": {},
   "outputs": [
    {
     "data": {
      "text/plain": [
       "'{\"version\": 0, \"id\": 0, \"length\": 0, \"module\": \"\\\\u0000\"}'"
      ]
     },
     "execution_count": 45,
     "metadata": {},
     "output_type": "execute_result"
    }
   ],
   "source": [
    "structure.to_json()"
   ]
  },
  {
   "cell_type": "code",
   "execution_count": 46,
   "metadata": {},
   "outputs": [
    {
     "name": "stdout",
     "output_type": "stream",
     "text": [
      "version: 0\n",
      "id: 0\n",
      "length: 0\n",
      "module: \"\\0\"\n"
     ]
    }
   ],
   "source": [
    "to_yaml(structure, flow_style=False)"
   ]
  },
  {
   "cell_type": "code",
   "execution_count": 47,
   "metadata": {},
   "outputs": [],
   "source": [
    "structure.initialize_fields(dict(version=1, id=2, length=9, module='F'))"
   ]
  },
  {
   "cell_type": "code",
   "execution_count": 48,
   "metadata": {},
   "outputs": [],
   "source": [
    "structure.initialize_fields({\"version\": 1, \"id\": 2, \"length\": 9, \"module\": \"F\"})"
   ]
  },
  {
   "cell_type": "code",
   "execution_count": 49,
   "metadata": {},
   "outputs": [
    {
     "data": {
      "text/plain": [
       "[('Structure.version', 1),\n",
       " ('Structure.id', 2),\n",
       " ('Structure.length', 9),\n",
       " ('Structure.module', 'F')]"
      ]
     },
     "execution_count": 49,
     "metadata": {},
     "output_type": "execute_result"
    }
   ],
   "source": [
    "structure.to_list()"
   ]
  },
  {
   "cell_type": "code",
   "execution_count": 50,
   "metadata": {},
   "outputs": [
    {
     "data": {
      "text/plain": [
       "[{'id': 'Structure.version', 'value': 1},\n",
       " {'id': 'Structure.id', 'value': 2},\n",
       " {'id': 'Structure.length', 'value': 9},\n",
       " {'id': 'Structure.module', 'value': 'F'}]"
      ]
     },
     "execution_count": 50,
     "metadata": {},
     "output_type": "execute_result"
    }
   ],
   "source": [
    "structure.to_csv()"
   ]
  },
  {
   "cell_type": "code",
   "execution_count": 51,
   "metadata": {},
   "outputs": [
    {
     "data": {
      "text/plain": [
       "'{\"version\": 1, \"id\": 2, \"length\": 9, \"module\": \"F\"}'"
      ]
     },
     "execution_count": 51,
     "metadata": {},
     "output_type": "execute_result"
    }
   ],
   "source": [
    "structure.to_json()"
   ]
  },
  {
   "cell_type": "code",
   "execution_count": 52,
   "metadata": {},
   "outputs": [
    {
     "name": "stdout",
     "output_type": "stream",
     "text": [
      "version: 1\n",
      "id: 2\n",
      "length: 9\n",
      "module: F\n"
     ]
    }
   ],
   "source": [
    "to_yaml(structure, flow_style=False)"
   ]
  },
  {
   "cell_type": "markdown",
   "metadata": {},
   "source": [
    "## Display a Structure"
   ]
  },
  {
   "cell_type": "code",
   "execution_count": 53,
   "metadata": {},
   "outputs": [
    {
     "data": {
      "text/plain": [
       "{'version': Decimal(index=Index(byte=0, bit=0, address=0, base_address=0, update=False), alignment=Alignment(byte_size=4, bit_offset=0), bit_size=8, value=1),\n",
       " 'id': Decimal(index=Index(byte=0, bit=0, address=0, base_address=0, update=False), alignment=Alignment(byte_size=4, bit_offset=0), bit_size=8, value=2),\n",
       " 'length': Decimal(index=Index(byte=0, bit=0, address=0, base_address=0, update=False), alignment=Alignment(byte_size=4, bit_offset=0), bit_size=8, value=9),\n",
       " 'module': Char(index=Index(byte=0, bit=0, address=0, base_address=0, update=False), alignment=Alignment(byte_size=4, bit_offset=0), bit_size=8, value='F')}"
      ]
     },
     "execution_count": 53,
     "metadata": {},
     "output_type": "execute_result"
    }
   ],
   "source": [
    "structure"
   ]
  },
  {
   "cell_type": "markdown",
   "metadata": {},
   "source": [
    "## Metadata of a Structure"
   ]
  },
  {
   "cell_type": "code",
   "execution_count": 54,
   "metadata": {},
   "outputs": [
    {
     "data": {
      "text/plain": [
       "{'class': 'Structure',\n",
       " 'name': 'Structure',\n",
       " 'size': 4,\n",
       " 'type': 'Structure',\n",
       " 'member': [{'address': 0,\n",
       "   'alignment': [4, 0],\n",
       "   'class': 'Decimal8',\n",
       "   'index': [0, 0],\n",
       "   'max': 255,\n",
       "   'min': 0,\n",
       "   'name': 'version',\n",
       "   'order': 'auto',\n",
       "   'signed': False,\n",
       "   'size': 8,\n",
       "   'type': 'Field',\n",
       "   'value': 1},\n",
       "  {'address': 0,\n",
       "   'alignment': [4, 0],\n",
       "   'class': 'Decimal8',\n",
       "   'index': [0, 0],\n",
       "   'max': 255,\n",
       "   'min': 0,\n",
       "   'name': 'id',\n",
       "   'order': 'auto',\n",
       "   'signed': False,\n",
       "   'size': 8,\n",
       "   'type': 'Field',\n",
       "   'value': 2},\n",
       "  {'address': 0,\n",
       "   'alignment': [4, 0],\n",
       "   'class': 'Decimal8',\n",
       "   'index': [0, 0],\n",
       "   'max': 255,\n",
       "   'min': 0,\n",
       "   'name': 'length',\n",
       "   'order': 'auto',\n",
       "   'signed': False,\n",
       "   'size': 8,\n",
       "   'type': 'Field',\n",
       "   'value': 9},\n",
       "  {'address': 0,\n",
       "   'alignment': [4, 0],\n",
       "   'class': 'Char',\n",
       "   'index': [0, 0],\n",
       "   'max': 255,\n",
       "   'min': 0,\n",
       "   'name': 'module',\n",
       "   'order': 'auto',\n",
       "   'signed': False,\n",
       "   'size': 8,\n",
       "   'type': 'Field',\n",
       "   'value': 'F'}]}"
      ]
     },
     "execution_count": 54,
     "metadata": {},
     "output_type": "execute_result"
    }
   ],
   "source": [
    "structure.describe()"
   ]
  },
  {
   "cell_type": "code",
   "execution_count": 55,
   "metadata": {},
   "outputs": [
    {
     "name": "stdout",
     "output_type": "stream",
     "text": [
      "{\n",
      "  \"class\": \"Structure\",\n",
      "  \"name\": \"Structure\",\n",
      "  \"size\": 4,\n",
      "  \"type\": \"Structure\",\n",
      "  \"member\": [\n",
      "    {\n",
      "      \"address\": 0,\n",
      "      \"alignment\": [\n",
      "        4,\n",
      "        0\n",
      "      ],\n",
      "      \"class\": \"Decimal8\",\n",
      "      \"index\": [\n",
      "        0,\n",
      "        0\n",
      "      ],\n",
      "      \"max\": 255,\n",
      "      \"min\": 0,\n",
      "      \"name\": \"version\",\n",
      "      \"order\": \"auto\",\n",
      "      \"signed\": false,\n",
      "      \"size\": 8,\n",
      "      \"type\": \"Field\",\n",
      "      \"value\": 1\n",
      "    },\n",
      "    {\n",
      "      \"address\": 0,\n",
      "      \"alignment\": [\n",
      "        4,\n",
      "        0\n",
      "      ],\n",
      "      \"class\": \"Decimal8\",\n",
      "      \"index\": [\n",
      "        0,\n",
      "        0\n",
      "      ],\n",
      "      \"max\": 255,\n",
      "      \"min\": 0,\n",
      "      \"name\": \"id\",\n",
      "      \"order\": \"auto\",\n",
      "      \"signed\": false,\n",
      "      \"size\": 8,\n",
      "      \"type\": \"Field\",\n",
      "      \"value\": 2\n",
      "    },\n",
      "    {\n",
      "      \"address\": 0,\n",
      "      \"alignment\": [\n",
      "        4,\n",
      "        0\n",
      "      ],\n",
      "      \"class\": \"Decimal8\",\n",
      "      \"index\": [\n",
      "        0,\n",
      "        0\n",
      "      ],\n",
      "      \"max\": 255,\n",
      "      \"min\": 0,\n",
      "      \"name\": \"length\",\n",
      "      \"order\": \"auto\",\n",
      "      \"signed\": false,\n",
      "      \"size\": 8,\n",
      "      \"type\": \"Field\",\n",
      "      \"value\": 9\n",
      "    },\n",
      "    {\n",
      "      \"address\": 0,\n",
      "      \"alignment\": [\n",
      "        4,\n",
      "        0\n",
      "      ],\n",
      "      \"class\": \"Char\",\n",
      "      \"index\": [\n",
      "        0,\n",
      "        0\n",
      "      ],\n",
      "      \"max\": 255,\n",
      "      \"min\": 0,\n",
      "      \"name\": \"module\",\n",
      "      \"order\": \"auto\",\n",
      "      \"signed\": false,\n",
      "      \"size\": 8,\n",
      "      \"type\": \"Field\",\n",
      "      \"value\": \"F\"\n",
      "    }\n",
      "  ]\n",
      "}"
     ]
    }
   ],
   "source": [
    "json.dump(structure.describe(), sys.stdout, indent=2)"
   ]
  },
  {
   "cell_type": "code",
   "execution_count": 56,
   "metadata": {},
   "outputs": [
    {
     "name": "stdout",
     "output_type": "stream",
     "text": [
      "{\n",
      "  \"class\": \"Structure\",\n",
      "  \"name\": \"Structure\",\n",
      "  \"children\": [\n",
      "    {\n",
      "      \"class\": \"Decimal8\",\n",
      "      \"name\": \"version\",\n",
      "      \"size\": 8,\n",
      "      \"value\": 1\n",
      "    },\n",
      "    {\n",
      "      \"class\": \"Decimal8\",\n",
      "      \"name\": \"id\",\n",
      "      \"size\": 8,\n",
      "      \"value\": 2\n",
      "    },\n",
      "    {\n",
      "      \"class\": \"Decimal8\",\n",
      "      \"name\": \"length\",\n",
      "      \"size\": 8,\n",
      "      \"value\": 9\n",
      "    },\n",
      "    {\n",
      "      \"class\": \"Char\",\n",
      "      \"name\": \"module\",\n",
      "      \"size\": 8,\n",
      "      \"value\": \"F\"\n",
      "    }\n",
      "  ]\n",
      "}"
     ]
    }
   ],
   "source": [
    "d3flare_json(structure.describe(), sys.stdout, indent=2)"
   ]
  },
  {
   "cell_type": "markdown",
   "metadata": {},
   "source": [
    "## Size of a Strucutrue"
   ]
  },
  {
   "cell_type": "code",
   "execution_count": 57,
   "metadata": {},
   "outputs": [
    {
     "data": {
      "text/plain": [
       "(4, 0)"
      ]
     },
     "execution_count": 57,
     "metadata": {},
     "output_type": "execute_result"
    }
   ],
   "source": [
    "structure.container_size()"
   ]
  },
  {
   "cell_type": "code",
   "execution_count": 58,
   "metadata": {},
   "outputs": [],
   "source": [
    "num_of_bytes, num_of_remaining_bits = structure.container_size()"
   ]
  },
  {
   "cell_type": "code",
   "execution_count": 59,
   "metadata": {},
   "outputs": [
    {
     "data": {
      "text/plain": [
       "4"
      ]
     },
     "execution_count": 59,
     "metadata": {},
     "output_type": "execute_result"
    }
   ],
   "source": [
    "num_of_bytes"
   ]
  },
  {
   "cell_type": "code",
   "execution_count": 60,
   "metadata": {},
   "outputs": [
    {
     "data": {
      "text/plain": [
       "0"
      ]
     },
     "execution_count": 60,
     "metadata": {},
     "output_type": "execute_result"
    }
   ],
   "source": [
    "num_of_remaining_bits"
   ]
  },
  {
   "cell_type": "markdown",
   "metadata": {},
   "source": [
    "## Indexing"
   ]
  },
  {
   "cell_type": "code",
   "execution_count": 61,
   "metadata": {},
   "outputs": [
    {
     "data": {
      "text/plain": [
       "[('Structure.version',\n",
       "  Index(byte=0, bit=0, address=0, base_address=0, update=False)),\n",
       " ('Structure.id',\n",
       "  Index(byte=0, bit=0, address=0, base_address=0, update=False)),\n",
       " ('Structure.length',\n",
       "  Index(byte=0, bit=0, address=0, base_address=0, update=False)),\n",
       " ('Structure.module',\n",
       "  Index(byte=0, bit=0, address=0, base_address=0, update=False))]"
      ]
     },
     "execution_count": 61,
     "metadata": {},
     "output_type": "execute_result"
    }
   ],
   "source": [
    "structure.to_list('index')"
   ]
  },
  {
   "cell_type": "code",
   "execution_count": 62,
   "metadata": {},
   "outputs": [
    {
     "data": {
      "text/plain": [
       "[{'id': 'Structure.version', 'index': 0, 'offset': 0, 'address': 0},\n",
       " {'id': 'Structure.id', 'index': 0, 'offset': 0, 'address': 0},\n",
       " {'id': 'Structure.length', 'index': 0, 'offset': 0, 'address': 0},\n",
       " {'id': 'Structure.module', 'index': 0, 'offset': 0, 'address': 0}]"
      ]
     },
     "execution_count": 62,
     "metadata": {},
     "output_type": "execute_result"
    }
   ],
   "source": [
    "structure.to_csv('index.byte', 'index.bit', 'index.address', fieldnames=('id', 'index', 'offset', 'address'))"
   ]
  },
  {
   "cell_type": "code",
   "execution_count": 63,
   "metadata": {},
   "outputs": [
    {
     "data": {
      "text/plain": [
       "'{\"version\": [0, 0, 0, 0, false], \"id\": [0, 0, 0, 0, false], \"length\": [0, 0, 0, 0, false], \"module\": [0, 0, 0, 0, false]}'"
      ]
     },
     "execution_count": 63,
     "metadata": {},
     "output_type": "execute_result"
    }
   ],
   "source": [
    "structure.to_json('index')"
   ]
  },
  {
   "cell_type": "code",
   "execution_count": 64,
   "metadata": {},
   "outputs": [
    {
     "data": {
      "text/plain": [
       "Index(byte=4, bit=0, address=4, base_address=0, update=False)"
      ]
     },
     "execution_count": 64,
     "metadata": {},
     "output_type": "execute_result"
    }
   ],
   "source": [
    "structure.index_fields(index=Index())"
   ]
  },
  {
   "cell_type": "code",
   "execution_count": 65,
   "metadata": {},
   "outputs": [
    {
     "data": {
      "text/plain": [
       "Index(byte=4, bit=0, address=4, base_address=0, update=False)"
      ]
     },
     "execution_count": 65,
     "metadata": {},
     "output_type": "execute_result"
    }
   ],
   "source": [
    "structure.index_fields()"
   ]
  },
  {
   "cell_type": "code",
   "execution_count": 66,
   "metadata": {},
   "outputs": [
    {
     "data": {
      "text/plain": [
       "[('Structure.version',\n",
       "  Index(byte=0, bit=0, address=0, base_address=0, update=False)),\n",
       " ('Structure.id',\n",
       "  Index(byte=0, bit=8, address=0, base_address=0, update=False)),\n",
       " ('Structure.length',\n",
       "  Index(byte=0, bit=16, address=0, base_address=0, update=False)),\n",
       " ('Structure.module',\n",
       "  Index(byte=0, bit=24, address=0, base_address=0, update=False))]"
      ]
     },
     "execution_count": 66,
     "metadata": {},
     "output_type": "execute_result"
    }
   ],
   "source": [
    "structure.to_list('index')"
   ]
  },
  {
   "cell_type": "code",
   "execution_count": 67,
   "metadata": {},
   "outputs": [
    {
     "data": {
      "text/plain": [
       "[{'id': 'Structure.version', 'index': 0, 'offset': 0, 'address': 0},\n",
       " {'id': 'Structure.id', 'index': 0, 'offset': 8, 'address': 0},\n",
       " {'id': 'Structure.length', 'index': 0, 'offset': 16, 'address': 0},\n",
       " {'id': 'Structure.module', 'index': 0, 'offset': 24, 'address': 0}]"
      ]
     },
     "execution_count": 67,
     "metadata": {},
     "output_type": "execute_result"
    }
   ],
   "source": [
    "structure.to_csv('index.byte', 'index.bit', 'index.address', fieldnames=('id', 'index', 'offset', 'address'))"
   ]
  },
  {
   "cell_type": "code",
   "execution_count": 68,
   "metadata": {},
   "outputs": [
    {
     "data": {
      "text/plain": [
       "'{\"version\": [0, 0, 0, 0, false], \"id\": [0, 8, 0, 0, false], \"length\": [0, 16, 0, 0, false], \"module\": [0, 24, 0, 0, false]}'"
      ]
     },
     "execution_count": 68,
     "metadata": {},
     "output_type": "execute_result"
    }
   ],
   "source": [
    "structure.to_json('index')"
   ]
  },
  {
   "cell_type": "markdown",
   "metadata": {},
   "source": [
    "## De-Serializing"
   ]
  },
  {
   "cell_type": "code",
   "execution_count": 69,
   "metadata": {},
   "outputs": [
    {
     "data": {
      "text/plain": [
       "Index(byte=4, bit=0, address=4, base_address=0, update=False)"
      ]
     },
     "execution_count": 69,
     "metadata": {},
     "output_type": "execute_result"
    }
   ],
   "source": [
    "structure.deserialize(bytes.fromhex('01020946f00f00'))"
   ]
  },
  {
   "cell_type": "code",
   "execution_count": 70,
   "metadata": {},
   "outputs": [
    {
     "data": {
      "text/plain": [
       "[('Structure.version', 1),\n",
       " ('Structure.id', 2),\n",
       " ('Structure.length', 9),\n",
       " ('Structure.module', 'F')]"
      ]
     },
     "execution_count": 70,
     "metadata": {},
     "output_type": "execute_result"
    }
   ],
   "source": [
    "structure.to_list()"
   ]
  },
  {
   "cell_type": "code",
   "execution_count": 71,
   "metadata": {},
   "outputs": [
    {
     "data": {
      "text/plain": [
       "[{'id': 'Structure.version', 'value': 1},\n",
       " {'id': 'Structure.id', 'value': 2},\n",
       " {'id': 'Structure.length', 'value': 9},\n",
       " {'id': 'Structure.module', 'value': 'F'}]"
      ]
     },
     "execution_count": 71,
     "metadata": {},
     "output_type": "execute_result"
    }
   ],
   "source": [
    "structure.to_csv()"
   ]
  },
  {
   "cell_type": "code",
   "execution_count": 72,
   "metadata": {},
   "outputs": [
    {
     "data": {
      "text/plain": [
       "'{\"version\": 1, \"id\": 2, \"length\": 9, \"module\": \"F\"}'"
      ]
     },
     "execution_count": 72,
     "metadata": {},
     "output_type": "execute_result"
    }
   ],
   "source": [
    "structure.to_json()"
   ]
  },
  {
   "cell_type": "code",
   "execution_count": 73,
   "metadata": {},
   "outputs": [
    {
     "name": "stdout",
     "output_type": "stream",
     "text": [
      "version: 1\n",
      "id: 2\n",
      "length: 9\n",
      "module: F\n"
     ]
    }
   ],
   "source": [
    "to_yaml(structure, flow_style=False)"
   ]
  },
  {
   "cell_type": "markdown",
   "metadata": {},
   "source": [
    "## Serializing"
   ]
  },
  {
   "cell_type": "code",
   "execution_count": 74,
   "metadata": {},
   "outputs": [
    {
     "data": {
      "text/plain": [
       "''"
      ]
     },
     "execution_count": 74,
     "metadata": {},
     "output_type": "execute_result"
    }
   ],
   "source": [
    "bytestream = bytearray()\n",
    "bytestream.hex()"
   ]
  },
  {
   "cell_type": "code",
   "execution_count": 75,
   "metadata": {},
   "outputs": [
    {
     "data": {
      "text/plain": [
       "Index(byte=4, bit=0, address=4, base_address=0, update=False)"
      ]
     },
     "execution_count": 75,
     "metadata": {},
     "output_type": "execute_result"
    }
   ],
   "source": [
    "structure.serialize(bytestream)"
   ]
  },
  {
   "cell_type": "code",
   "execution_count": 76,
   "metadata": {},
   "outputs": [
    {
     "data": {
      "text/plain": [
       "'01020946'"
      ]
     },
     "execution_count": 76,
     "metadata": {},
     "output_type": "execute_result"
    }
   ],
   "source": [
    "bytes(structure).hex()"
   ]
  },
  {
   "cell_type": "code",
   "execution_count": 77,
   "metadata": {},
   "outputs": [
    {
     "data": {
      "text/plain": [
       "'01020946'"
      ]
     },
     "execution_count": 77,
     "metadata": {},
     "output_type": "execute_result"
    }
   ],
   "source": [
    "bytestream.hex()"
   ]
  },
  {
   "cell_type": "markdown",
   "metadata": {},
   "source": [
    "## Structure Members"
   ]
  },
  {
   "cell_type": "markdown",
   "metadata": {},
   "source": [
    "### Number of Members"
   ]
  },
  {
   "cell_type": "code",
   "execution_count": 78,
   "metadata": {},
   "outputs": [
    {
     "data": {
      "text/plain": [
       "4"
      ]
     },
     "execution_count": 78,
     "metadata": {},
     "output_type": "execute_result"
    }
   ],
   "source": [
    "len(structure)"
   ]
  },
  {
   "cell_type": "markdown",
   "metadata": {},
   "source": [
    "### Access a Member"
   ]
  },
  {
   "cell_type": "code",
   "execution_count": 79,
   "metadata": {},
   "outputs": [
    {
     "data": {
      "text/plain": [
       "Decimal(index=Index(byte=0, bit=0, address=0, base_address=0, update=False), alignment=Alignment(byte_size=4, bit_offset=0), bit_size=8, value=1)"
      ]
     },
     "execution_count": 79,
     "metadata": {},
     "output_type": "execute_result"
    }
   ],
   "source": [
    "structure.version"
   ]
  },
  {
   "cell_type": "code",
   "execution_count": 80,
   "metadata": {},
   "outputs": [
    {
     "data": {
      "text/plain": [
       "Decimal(index=Index(byte=0, bit=0, address=0, base_address=0, update=False), alignment=Alignment(byte_size=4, bit_offset=0), bit_size=8, value=1)"
      ]
     },
     "execution_count": 80,
     "metadata": {},
     "output_type": "execute_result"
    }
   ],
   "source": [
    "structure['version']"
   ]
  },
  {
   "cell_type": "markdown",
   "metadata": {},
   "source": [
    "### Access the Attributes of a Member Field"
   ]
  },
  {
   "cell_type": "code",
   "execution_count": 81,
   "metadata": {},
   "outputs": [
    {
     "data": {
      "text/plain": [
       "'Decimal8'"
      ]
     },
     "execution_count": 81,
     "metadata": {},
     "output_type": "execute_result"
    }
   ],
   "source": [
    "structure.version.name"
   ]
  },
  {
   "cell_type": "code",
   "execution_count": 82,
   "metadata": {},
   "outputs": [
    {
     "data": {
      "text/plain": [
       "1"
      ]
     },
     "execution_count": 82,
     "metadata": {},
     "output_type": "execute_result"
    }
   ],
   "source": [
    "structure.version.value"
   ]
  },
  {
   "cell_type": "code",
   "execution_count": 83,
   "metadata": {},
   "outputs": [
    {
     "data": {
      "text/plain": [
       "8"
      ]
     },
     "execution_count": 83,
     "metadata": {},
     "output_type": "execute_result"
    }
   ],
   "source": [
    "structure.version.bit_size"
   ]
  },
  {
   "cell_type": "code",
   "execution_count": 84,
   "metadata": {},
   "outputs": [
    {
     "data": {
      "text/plain": [
       "Alignment(byte_size=4, bit_offset=0)"
      ]
     },
     "execution_count": 84,
     "metadata": {},
     "output_type": "execute_result"
    }
   ],
   "source": [
    "structure.version.alignment"
   ]
  },
  {
   "cell_type": "code",
   "execution_count": 85,
   "metadata": {},
   "outputs": [
    {
     "data": {
      "text/plain": [
       "4"
      ]
     },
     "execution_count": 85,
     "metadata": {},
     "output_type": "execute_result"
    }
   ],
   "source": [
    "structure.version.alignment.byte_size"
   ]
  },
  {
   "cell_type": "code",
   "execution_count": 86,
   "metadata": {},
   "outputs": [
    {
     "data": {
      "text/plain": [
       "0"
      ]
     },
     "execution_count": 86,
     "metadata": {},
     "output_type": "execute_result"
    }
   ],
   "source": [
    "structure.version.alignment.bit_offset"
   ]
  },
  {
   "cell_type": "code",
   "execution_count": 87,
   "metadata": {},
   "outputs": [
    {
     "data": {
      "text/plain": [
       "Byteorder.auto = 'auto'"
      ]
     },
     "execution_count": 87,
     "metadata": {},
     "output_type": "execute_result"
    }
   ],
   "source": [
    "structure.version.byte_order"
   ]
  },
  {
   "cell_type": "code",
   "execution_count": 88,
   "metadata": {},
   "outputs": [
    {
     "data": {
      "text/plain": [
       "'auto'"
      ]
     },
     "execution_count": 88,
     "metadata": {},
     "output_type": "execute_result"
    }
   ],
   "source": [
    "structure.version.byte_order.value"
   ]
  },
  {
   "cell_type": "code",
   "execution_count": 89,
   "metadata": {},
   "outputs": [
    {
     "data": {
      "text/plain": [
       "Index(byte=0, bit=0, address=0, base_address=0, update=False)"
      ]
     },
     "execution_count": 89,
     "metadata": {},
     "output_type": "execute_result"
    }
   ],
   "source": [
    "structure.version.index"
   ]
  },
  {
   "cell_type": "code",
   "execution_count": 90,
   "metadata": {},
   "outputs": [
    {
     "data": {
      "text/plain": [
       "0"
      ]
     },
     "execution_count": 90,
     "metadata": {},
     "output_type": "execute_result"
    }
   ],
   "source": [
    "structure.version.index.byte"
   ]
  },
  {
   "cell_type": "code",
   "execution_count": 91,
   "metadata": {},
   "outputs": [
    {
     "data": {
      "text/plain": [
       "0"
      ]
     },
     "execution_count": 91,
     "metadata": {},
     "output_type": "execute_result"
    }
   ],
   "source": [
    "structure.version.index.bit"
   ]
  },
  {
   "cell_type": "code",
   "execution_count": 92,
   "metadata": {},
   "outputs": [
    {
     "data": {
      "text/plain": [
       "0"
      ]
     },
     "execution_count": 92,
     "metadata": {},
     "output_type": "execute_result"
    }
   ],
   "source": [
    "structure.version.index.address"
   ]
  },
  {
   "cell_type": "code",
   "execution_count": 93,
   "metadata": {},
   "outputs": [
    {
     "data": {
      "text/plain": [
       "0"
      ]
     },
     "execution_count": 93,
     "metadata": {},
     "output_type": "execute_result"
    }
   ],
   "source": [
    "structure.version.index.base_address"
   ]
  },
  {
   "cell_type": "code",
   "execution_count": 94,
   "metadata": {},
   "outputs": [
    {
     "data": {
      "text/plain": [
       "False"
      ]
     },
     "execution_count": 94,
     "metadata": {},
     "output_type": "execute_result"
    }
   ],
   "source": [
    "structure.version.index.update"
   ]
  },
  {
   "cell_type": "markdown",
   "metadata": {},
   "source": [
    "### List the Member Items"
   ]
  },
  {
   "cell_type": "code",
   "execution_count": 95,
   "metadata": {},
   "outputs": [
    {
     "data": {
      "text/plain": [
       "[('version',\n",
       "  Decimal(index=Index(byte=0, bit=0, address=0, base_address=0, update=False), alignment=Alignment(byte_size=4, bit_offset=0), bit_size=8, value=1)),\n",
       " ('id',\n",
       "  Decimal(index=Index(byte=0, bit=8, address=0, base_address=0, update=False), alignment=Alignment(byte_size=4, bit_offset=8), bit_size=8, value=2)),\n",
       " ('length',\n",
       "  Decimal(index=Index(byte=0, bit=16, address=0, base_address=0, update=False), alignment=Alignment(byte_size=4, bit_offset=16), bit_size=8, value=9)),\n",
       " ('module',\n",
       "  Char(index=Index(byte=0, bit=24, address=0, base_address=0, update=False), alignment=Alignment(byte_size=4, bit_offset=24), bit_size=8, value='F'))]"
      ]
     },
     "execution_count": 95,
     "metadata": {},
     "output_type": "execute_result"
    }
   ],
   "source": [
    "[(name, member) for name, member in structure.items()]"
   ]
  },
  {
   "cell_type": "markdown",
   "metadata": {},
   "source": [
    "### List the Member Names"
   ]
  },
  {
   "cell_type": "code",
   "execution_count": 96,
   "metadata": {},
   "outputs": [
    {
     "data": {
      "text/plain": [
       "['version', 'id', 'length', 'module']"
      ]
     },
     "execution_count": 96,
     "metadata": {},
     "output_type": "execute_result"
    }
   ],
   "source": [
    "[name for name in structure.keys()]"
   ]
  },
  {
   "cell_type": "markdown",
   "metadata": {},
   "source": [
    "### List the Members"
   ]
  },
  {
   "cell_type": "code",
   "execution_count": 97,
   "metadata": {},
   "outputs": [
    {
     "data": {
      "text/plain": [
       "[Decimal(index=Index(byte=0, bit=0, address=0, base_address=0, update=False), alignment=Alignment(byte_size=4, bit_offset=0), bit_size=8, value=1),\n",
       " Decimal(index=Index(byte=0, bit=8, address=0, base_address=0, update=False), alignment=Alignment(byte_size=4, bit_offset=8), bit_size=8, value=2),\n",
       " Decimal(index=Index(byte=0, bit=16, address=0, base_address=0, update=False), alignment=Alignment(byte_size=4, bit_offset=16), bit_size=8, value=9),\n",
       " Char(index=Index(byte=0, bit=24, address=0, base_address=0, update=False), alignment=Alignment(byte_size=4, bit_offset=24), bit_size=8, value='F')]"
      ]
     },
     "execution_count": 97,
     "metadata": {},
     "output_type": "execute_result"
    }
   ],
   "source": [
    "[member for member in structure.values()]"
   ]
  },
  {
   "cell_type": "markdown",
   "metadata": {},
   "source": [
    "## Structure Fields"
   ]
  },
  {
   "cell_type": "markdown",
   "metadata": {},
   "source": [
    "### View Field Attributes"
   ]
  },
  {
   "cell_type": "code",
   "execution_count": 98,
   "metadata": {},
   "outputs": [
    {
     "data": {
      "text/plain": [
       "{'version': 1, 'id': 2, 'length': 9, 'module': 'F'}"
      ]
     },
     "execution_count": 98,
     "metadata": {},
     "output_type": "execute_result"
    }
   ],
   "source": [
    "structure.view_fields()"
   ]
  },
  {
   "cell_type": "code",
   "execution_count": 99,
   "metadata": {},
   "outputs": [
    {
     "data": {
      "text/plain": [
       "{'version': {'name': 'Decimal8',\n",
       "  'bit_size': 8,\n",
       "  'value': 1,\n",
       "  'index': Index(byte=0, bit=0, address=0, base_address=0, update=False),\n",
       "  'alignment': Alignment(byte_size=4, bit_offset=0),\n",
       "  'byte_order.name': 'auto'},\n",
       " 'id': {'name': 'Decimal8',\n",
       "  'bit_size': 8,\n",
       "  'value': 2,\n",
       "  'index': Index(byte=0, bit=8, address=0, base_address=0, update=False),\n",
       "  'alignment': Alignment(byte_size=4, bit_offset=8),\n",
       "  'byte_order.name': 'auto'},\n",
       " 'length': {'name': 'Decimal8',\n",
       "  'bit_size': 8,\n",
       "  'value': 9,\n",
       "  'index': Index(byte=0, bit=16, address=0, base_address=0, update=False),\n",
       "  'alignment': Alignment(byte_size=4, bit_offset=16),\n",
       "  'byte_order.name': 'auto'},\n",
       " 'module': {'name': 'Char',\n",
       "  'bit_size': 8,\n",
       "  'value': 'F',\n",
       "  'index': Index(byte=0, bit=24, address=0, base_address=0, update=False),\n",
       "  'alignment': Alignment(byte_size=4, bit_offset=24),\n",
       "  'byte_order.name': 'auto'}}"
      ]
     },
     "execution_count": 99,
     "metadata": {},
     "output_type": "execute_result"
    }
   ],
   "source": [
    "structure.view_fields('name', 'bit_size', 'value', 'index', 'alignment', 'byte_order.name')"
   ]
  },
  {
   "cell_type": "markdown",
   "metadata": {},
   "source": [
    "### View as a JSON string"
   ]
  },
  {
   "cell_type": "code",
   "execution_count": 100,
   "metadata": {},
   "outputs": [
    {
     "data": {
      "text/plain": [
       "'{\"version\": 1, \"id\": 2, \"length\": 9, \"module\": \"F\"}'"
      ]
     },
     "execution_count": 100,
     "metadata": {},
     "output_type": "execute_result"
    }
   ],
   "source": [
    "structure.to_json()"
   ]
  },
  {
   "cell_type": "code",
   "execution_count": 101,
   "metadata": {},
   "outputs": [
    {
     "name": "stdout",
     "output_type": "stream",
     "text": [
      "{\n",
      "  \"version\": 1,\n",
      "  \"id\": 2,\n",
      "  \"length\": 9,\n",
      "  \"module\": \"F\"\n",
      "}\n"
     ]
    }
   ],
   "source": [
    "print(structure.to_json(indent=2))"
   ]
  },
  {
   "cell_type": "code",
   "execution_count": 102,
   "metadata": {},
   "outputs": [
    {
     "data": {
      "text/plain": [
       "'{\"version\": {\"name\": \"Decimal8\", \"bit_size\": 8, \"value\": 1, \"index\": [0, 0, 0, 0, false], \"alignment\": [4, 0], \"byte_order\": \"auto\"}, \"id\": {\"name\": \"Decimal8\", \"bit_size\": 8, \"value\": 2, \"index\": [0, 8, 0, 0, false], \"alignment\": [4, 8], \"byte_order\": \"auto\"}, \"length\": {\"name\": \"Decimal8\", \"bit_size\": 8, \"value\": 9, \"index\": [0, 16, 0, 0, false], \"alignment\": [4, 16], \"byte_order\": \"auto\"}, \"module\": {\"name\": \"Char\", \"bit_size\": 8, \"value\": \"F\", \"index\": [0, 24, 0, 0, false], \"alignment\": [4, 24], \"byte_order\": \"auto\"}}'"
      ]
     },
     "execution_count": 102,
     "metadata": {},
     "output_type": "execute_result"
    }
   ],
   "source": [
    "structure.to_json('name', 'bit_size', 'value', 'index', 'alignment', 'byte_order')"
   ]
  },
  {
   "cell_type": "code",
   "execution_count": 103,
   "metadata": {},
   "outputs": [
    {
     "name": "stdout",
     "output_type": "stream",
     "text": [
      "{\n",
      "  \"version\": {\n",
      "    \"name\": \"Decimal8\",\n",
      "    \"bit_size\": 8,\n",
      "    \"value\": 1,\n",
      "    \"index\": [\n",
      "      0,\n",
      "      0,\n",
      "      0,\n",
      "      0,\n",
      "      false\n",
      "    ],\n",
      "    \"alignment\": [\n",
      "      4,\n",
      "      0\n",
      "    ],\n",
      "    \"byte_order\": \"auto\"\n",
      "  },\n",
      "  \"id\": {\n",
      "    \"name\": \"Decimal8\",\n",
      "    \"bit_size\": 8,\n",
      "    \"value\": 2,\n",
      "    \"index\": [\n",
      "      0,\n",
      "      8,\n",
      "      0,\n",
      "      0,\n",
      "      false\n",
      "    ],\n",
      "    \"alignment\": [\n",
      "      4,\n",
      "      8\n",
      "    ],\n",
      "    \"byte_order\": \"auto\"\n",
      "  },\n",
      "  \"length\": {\n",
      "    \"name\": \"Decimal8\",\n",
      "    \"bit_size\": 8,\n",
      "    \"value\": 9,\n",
      "    \"index\": [\n",
      "      0,\n",
      "      16,\n",
      "      0,\n",
      "      0,\n",
      "      false\n",
      "    ],\n",
      "    \"alignment\": [\n",
      "      4,\n",
      "      16\n",
      "    ],\n",
      "    \"byte_order\": \"auto\"\n",
      "  },\n",
      "  \"module\": {\n",
      "    \"name\": \"Char\",\n",
      "    \"bit_size\": 8,\n",
      "    \"value\": \"F\",\n",
      "    \"index\": [\n",
      "      0,\n",
      "      24,\n",
      "      0,\n",
      "      0,\n",
      "      false\n",
      "    ],\n",
      "    \"alignment\": [\n",
      "      4,\n",
      "      24\n",
      "    ],\n",
      "    \"byte_order\": \"auto\"\n",
      "  }\n",
      "}\n"
     ]
    }
   ],
   "source": [
    "print(structure.to_json('name', 'bit_size', 'value', 'index', 'alignment', 'byte_order', indent=2))"
   ]
  },
  {
   "cell_type": "markdown",
   "metadata": {},
   "source": [
    "### Write to a JSON file"
   ]
  },
  {
   "cell_type": "code",
   "execution_count": 104,
   "metadata": {},
   "outputs": [],
   "source": [
    "structure.write_json('Structure.json')"
   ]
  },
  {
   "cell_type": "markdown",
   "metadata": {},
   "source": [
    "### List the Field Items"
   ]
  },
  {
   "cell_type": "code",
   "execution_count": 105,
   "metadata": {},
   "outputs": [
    {
     "data": {
      "text/plain": [
       "[('version',\n",
       "  Decimal(index=Index(byte=0, bit=0, address=0, base_address=0, update=False), alignment=Alignment(byte_size=4, bit_offset=0), bit_size=8, value=1)),\n",
       " ('id',\n",
       "  Decimal(index=Index(byte=0, bit=8, address=0, base_address=0, update=False), alignment=Alignment(byte_size=4, bit_offset=8), bit_size=8, value=2)),\n",
       " ('length',\n",
       "  Decimal(index=Index(byte=0, bit=16, address=0, base_address=0, update=False), alignment=Alignment(byte_size=4, bit_offset=16), bit_size=8, value=9)),\n",
       " ('module',\n",
       "  Char(index=Index(byte=0, bit=24, address=0, base_address=0, update=False), alignment=Alignment(byte_size=4, bit_offset=24), bit_size=8, value='F'))]"
      ]
     },
     "execution_count": 105,
     "metadata": {},
     "output_type": "execute_result"
    }
   ],
   "source": [
    "structure.field_items()"
   ]
  },
  {
   "cell_type": "markdown",
   "metadata": {},
   "source": [
    "### List the Field Attributes"
   ]
  },
  {
   "cell_type": "code",
   "execution_count": 106,
   "metadata": {},
   "outputs": [
    {
     "data": {
      "text/plain": [
       "[('Structure.version', 1),\n",
       " ('Structure.id', 2),\n",
       " ('Structure.length', 9),\n",
       " ('Structure.module', 'F')]"
      ]
     },
     "execution_count": 106,
     "metadata": {},
     "output_type": "execute_result"
    }
   ],
   "source": [
    "structure.to_list()"
   ]
  },
  {
   "cell_type": "code",
   "execution_count": 107,
   "metadata": {},
   "outputs": [
    {
     "data": {
      "text/plain": [
       "[('Structure.version',\n",
       "  ('Decimal8',\n",
       "   8,\n",
       "   1,\n",
       "   Index(byte=0, bit=0, address=0, base_address=0, update=False),\n",
       "   Alignment(byte_size=4, bit_offset=0),\n",
       "   'auto')),\n",
       " ('Structure.id',\n",
       "  ('Decimal8',\n",
       "   8,\n",
       "   2,\n",
       "   Index(byte=0, bit=8, address=0, base_address=0, update=False),\n",
       "   Alignment(byte_size=4, bit_offset=8),\n",
       "   'auto')),\n",
       " ('Structure.length',\n",
       "  ('Decimal8',\n",
       "   8,\n",
       "   9,\n",
       "   Index(byte=0, bit=16, address=0, base_address=0, update=False),\n",
       "   Alignment(byte_size=4, bit_offset=16),\n",
       "   'auto')),\n",
       " ('Structure.module',\n",
       "  ('Char',\n",
       "   8,\n",
       "   'F',\n",
       "   Index(byte=0, bit=24, address=0, base_address=0, update=False),\n",
       "   Alignment(byte_size=4, bit_offset=24),\n",
       "   'auto'))]"
      ]
     },
     "execution_count": 107,
     "metadata": {},
     "output_type": "execute_result"
    }
   ],
   "source": [
    "structure.to_list('name', 'bit_size', 'value', 'index', 'alignment', 'byte_order.name')"
   ]
  },
  {
   "cell_type": "code",
   "execution_count": 108,
   "metadata": {},
   "outputs": [
    {
     "data": {
      "text/plain": [
       "{'Structure': {'version': 1, 'id': 2, 'length': 9, 'module': 'F'}}"
      ]
     },
     "execution_count": 108,
     "metadata": {},
     "output_type": "execute_result"
    }
   ],
   "source": [
    "structure.to_dict()"
   ]
  },
  {
   "cell_type": "code",
   "execution_count": 109,
   "metadata": {},
   "outputs": [
    {
     "data": {
      "text/plain": [
       "{'Structure': {'version': ('Decimal8',\n",
       "   8,\n",
       "   1,\n",
       "   Index(byte=0, bit=0, address=0, base_address=0, update=False),\n",
       "   Alignment(byte_size=4, bit_offset=0),\n",
       "   Byteorder.auto = 'auto'),\n",
       "  'id': ('Decimal8',\n",
       "   8,\n",
       "   2,\n",
       "   Index(byte=0, bit=8, address=0, base_address=0, update=False),\n",
       "   Alignment(byte_size=4, bit_offset=8),\n",
       "   Byteorder.auto = 'auto'),\n",
       "  'length': ('Decimal8',\n",
       "   8,\n",
       "   9,\n",
       "   Index(byte=0, bit=16, address=0, base_address=0, update=False),\n",
       "   Alignment(byte_size=4, bit_offset=16),\n",
       "   Byteorder.auto = 'auto'),\n",
       "  'module': ('Char',\n",
       "   8,\n",
       "   'F',\n",
       "   Index(byte=0, bit=24, address=0, base_address=0, update=False),\n",
       "   Alignment(byte_size=4, bit_offset=24),\n",
       "   Byteorder.auto = 'auto')}}"
      ]
     },
     "execution_count": 109,
     "metadata": {},
     "output_type": "execute_result"
    }
   ],
   "source": [
    "structure.to_dict('name', 'bit_size', 'value', 'index', 'alignment', 'byte_order')"
   ]
  },
  {
   "cell_type": "code",
   "execution_count": 110,
   "metadata": {},
   "outputs": [
    {
     "data": {
      "text/plain": [
       "[{'id': 'Structure.version', 'value': 1},\n",
       " {'id': 'Structure.id', 'value': 2},\n",
       " {'id': 'Structure.length', 'value': 9},\n",
       " {'id': 'Structure.module', 'value': 'F'}]"
      ]
     },
     "execution_count": 110,
     "metadata": {},
     "output_type": "execute_result"
    }
   ],
   "source": [
    "structure.to_csv()"
   ]
  },
  {
   "cell_type": "code",
   "execution_count": 111,
   "metadata": {},
   "outputs": [
    {
     "data": {
      "text/plain": [
       "[{'id': 'Structure.version', 'type': 'Decimal8', 'size': 8, 'value': 1},\n",
       " {'id': 'Structure.id', 'type': 'Decimal8', 'size': 8, 'value': 2},\n",
       " {'id': 'Structure.length', 'type': 'Decimal8', 'size': 8, 'value': 9},\n",
       " {'id': 'Structure.module', 'type': 'Char', 'size': 8, 'value': 'F'}]"
      ]
     },
     "execution_count": 111,
     "metadata": {},
     "output_type": "execute_result"
    }
   ],
   "source": [
    "structure.to_csv('name', 'bit_size', 'value', fieldnames=('id', 'type', 'size', 'value'))"
   ]
  },
  {
   "cell_type": "markdown",
   "metadata": {},
   "source": [
    "### Write the Field Attributes to a `.csv` File"
   ]
  },
  {
   "cell_type": "code",
   "execution_count": 112,
   "metadata": {},
   "outputs": [],
   "source": [
    "structure.write_csv('Structure.csv', 'name', 'bit_size', 'value', fieldnames=('id', 'type', 'size', 'value'))"
   ]
  },
  {
   "cell_type": "markdown",
   "metadata": {},
   "source": [
    "### Save the Field Attributes to an `.ini` File"
   ]
  },
  {
   "cell_type": "code",
   "execution_count": 113,
   "metadata": {},
   "outputs": [],
   "source": [
    "structure.save('Structure.ini')"
   ]
  },
  {
   "cell_type": "markdown",
   "metadata": {},
   "source": [
    "### Load the Field Value from an `.ini` File"
   ]
  },
  {
   "cell_type": "code",
   "execution_count": 114,
   "metadata": {},
   "outputs": [
    {
     "name": "stdout",
     "output_type": "stream",
     "text": [
      "[Structure]\n",
      "Structure.version = 1\n",
      "Structure.id = 2\n",
      "Structure.length = 9\n",
      "Structure.module = F\n"
     ]
    }
   ],
   "source": [
    "structure.load('Structure.ini')"
   ]
  },
  {
   "cell_type": "code",
   "execution_count": null,
   "metadata": {},
   "outputs": [],
   "source": []
  }
 ],
 "metadata": {
  "kernelspec": {
   "display_name": "Python 3 (ipykernel)",
   "language": "python",
   "name": "python3"
  },
  "language_info": {
   "codemirror_mode": {
    "name": "ipython",
    "version": 3
   },
   "file_extension": ".py",
   "mimetype": "text/x-python",
   "name": "python",
   "nbconvert_exporter": "python",
   "pygments_lexer": "ipython3",
   "version": "3.9.13"
  }
 },
 "nbformat": 4,
 "nbformat_minor": 4
}
