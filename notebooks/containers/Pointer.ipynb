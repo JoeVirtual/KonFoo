{
 "cells": [
  {
   "cell_type": "markdown",
   "metadata": {},
   "source": [
    "# Pointer"
   ]
  },
  {
   "cell_type": "code",
   "execution_count": 1,
   "metadata": {},
   "outputs": [],
   "source": [
    "import json\n",
    "import sys\n",
    "\n",
    "from konfoo import *"
   ]
  },
  {
   "cell_type": "markdown",
   "metadata": {},
   "source": [
    "## YAML Support"
   ]
  },
  {
   "cell_type": "code",
   "execution_count": 2,
   "metadata": {},
   "outputs": [],
   "source": [
    "import oyaml as yaml"
   ]
  },
  {
   "cell_type": "code",
   "execution_count": 3,
   "metadata": {},
   "outputs": [],
   "source": [
    "def to_yaml(container, *attributes, **options):\n",
    "    flow_style = options.pop('flow_style', False)\n",
    "    return yaml.safe_dump(container.view_fields(*attributes, **options), \n",
    "                          stream=sys.stdout, \n",
    "                          default_flow_style=flow_style)"
   ]
  },
  {
   "cell_type": "markdown",
   "metadata": {},
   "source": [
    "## Define a Data Object"
   ]
  },
  {
   "cell_type": "code",
   "execution_count": 4,
   "metadata": {},
   "outputs": [],
   "source": [
    "class DataObject(Structure):\n",
    "    def __init__(self):\n",
    "        super().__init__()\n",
    "        self.size = Decimal(16)\n",
    "        self.item = Pointer()\n",
    "        self.index_fields()"
   ]
  },
  {
   "cell_type": "code",
   "execution_count": 5,
   "metadata": {},
   "outputs": [],
   "source": [
    "data_object = DataObject()"
   ]
  },
  {
   "cell_type": "code",
   "execution_count": 6,
   "metadata": {},
   "outputs": [
    {
     "data": {
      "text/plain": [
       "[('DataObject.size', 0), ('DataObject.item', '0x0')]"
      ]
     },
     "execution_count": 6,
     "metadata": {},
     "output_type": "execute_result"
    }
   ],
   "source": [
    "data_object.to_list()"
   ]
  },
  {
   "cell_type": "code",
   "execution_count": 7,
   "metadata": {},
   "outputs": [
    {
     "data": {
      "text/plain": [
       "'{\"size\": 0, \"item\": \"0x0\"}'"
      ]
     },
     "execution_count": 7,
     "metadata": {},
     "output_type": "execute_result"
    }
   ],
   "source": [
    "data_object.to_json()"
   ]
  },
  {
   "cell_type": "code",
   "execution_count": 8,
   "metadata": {},
   "outputs": [
    {
     "name": "stdout",
     "output_type": "stream",
     "text": [
      "size: 0\n",
      "item: '0x0'\n"
     ]
    }
   ],
   "source": [
    "to_yaml(data_object, flow_style=False)"
   ]
  },
  {
   "cell_type": "code",
   "execution_count": 9,
   "metadata": {},
   "outputs": [
    {
     "data": {
      "text/plain": [
       "[('DataObject.size', 0), ('DataObject.item', '0x0')]"
      ]
     },
     "execution_count": 9,
     "metadata": {},
     "output_type": "execute_result"
    }
   ],
   "source": [
    "data_object.to_list(nested=True)"
   ]
  },
  {
   "cell_type": "code",
   "execution_count": 10,
   "metadata": {},
   "outputs": [
    {
     "data": {
      "text/plain": [
       "'{\"size\": 0, \"item\": {\"value\": \"0x0\", \"data\": null}}'"
      ]
     },
     "execution_count": 10,
     "metadata": {},
     "output_type": "execute_result"
    }
   ],
   "source": [
    "data_object.to_json(nested=True)"
   ]
  },
  {
   "cell_type": "code",
   "execution_count": 11,
   "metadata": {},
   "outputs": [
    {
     "name": "stdout",
     "output_type": "stream",
     "text": [
      "size: 0\n",
      "item:\n",
      "  value: '0x0'\n",
      "  data: null\n"
     ]
    }
   ],
   "source": [
    "to_yaml(data_object, nested=True, flow_style=False)"
   ]
  },
  {
   "cell_type": "markdown",
   "metadata": {},
   "source": [
    "## Define a Data Object Pointer"
   ]
  },
  {
   "cell_type": "code",
   "execution_count": 12,
   "metadata": {},
   "outputs": [],
   "source": [
    "class DataObjectPointer(Pointer):\n",
    "\n",
    "    def __init__(self, address=None, byte_order=BYTEORDER):\n",
    "        super().__init__(template=DataObject(),\n",
    "                         address=address,\n",
    "                         data_order=byte_order)"
   ]
  },
  {
   "cell_type": "code",
   "execution_count": 13,
   "metadata": {},
   "outputs": [],
   "source": [
    "pointer = DataObjectPointer()"
   ]
  },
  {
   "cell_type": "code",
   "execution_count": 14,
   "metadata": {},
   "outputs": [
    {
     "data": {
      "text/plain": [
       "[('DataObjectPointer.field', '0x0'),\n",
       " ('DataObjectPointer.data.size', 0),\n",
       " ('DataObjectPointer.data.item', '0x0')]"
      ]
     },
     "execution_count": 14,
     "metadata": {},
     "output_type": "execute_result"
    }
   ],
   "source": [
    "pointer.to_list()"
   ]
  },
  {
   "cell_type": "code",
   "execution_count": 15,
   "metadata": {},
   "outputs": [
    {
     "data": {
      "text/plain": [
       "'{\"value\": \"0x0\", \"data\": {\"size\": 0, \"item\": \"0x0\"}}'"
      ]
     },
     "execution_count": 15,
     "metadata": {},
     "output_type": "execute_result"
    }
   ],
   "source": [
    "pointer.to_json()"
   ]
  },
  {
   "cell_type": "code",
   "execution_count": 16,
   "metadata": {},
   "outputs": [
    {
     "name": "stdout",
     "output_type": "stream",
     "text": [
      "value: '0x0'\n",
      "data:\n",
      "  size: 0\n",
      "  item: '0x0'\n"
     ]
    }
   ],
   "source": [
    "to_yaml(pointer, flow_style=False)"
   ]
  },
  {
   "cell_type": "code",
   "execution_count": 17,
   "metadata": {},
   "outputs": [
    {
     "data": {
      "text/plain": [
       "[('DataObjectPointer.field', '0x0'),\n",
       " ('DataObjectPointer.data.size', 0),\n",
       " ('DataObjectPointer.data.item', '0x0')]"
      ]
     },
     "execution_count": 17,
     "metadata": {},
     "output_type": "execute_result"
    }
   ],
   "source": [
    "pointer.to_list(nested=True)"
   ]
  },
  {
   "cell_type": "code",
   "execution_count": 18,
   "metadata": {},
   "outputs": [
    {
     "data": {
      "text/plain": [
       "'{\"value\": \"0x0\", \"data\": {\"size\": 0, \"item\": {\"value\": \"0x0\", \"data\": null}}}'"
      ]
     },
     "execution_count": 18,
     "metadata": {},
     "output_type": "execute_result"
    }
   ],
   "source": [
    "pointer.to_json(nested=True)"
   ]
  },
  {
   "cell_type": "code",
   "execution_count": 19,
   "metadata": {},
   "outputs": [
    {
     "name": "stdout",
     "output_type": "stream",
     "text": [
      "value: '0x0'\n",
      "data:\n",
      "  size: 0\n",
      "  item:\n",
      "    value: '0x0'\n",
      "    data: null\n"
     ]
    }
   ],
   "source": [
    "to_yaml(pointer, nested=True, flow_style=False)"
   ]
  },
  {
   "cell_type": "markdown",
   "metadata": {},
   "source": [
    "## Nest Pointers"
   ]
  },
  {
   "cell_type": "markdown",
   "metadata": {},
   "source": [
    "### Nested `pointer` with no `data object`."
   ]
  },
  {
   "cell_type": "code",
   "execution_count": 20,
   "metadata": {},
   "outputs": [],
   "source": [
    "pointer = Pointer(Pointer())"
   ]
  },
  {
   "cell_type": "code",
   "execution_count": 21,
   "metadata": {},
   "outputs": [
    {
     "data": {
      "text/plain": [
       "[('Pointer.field', '0x0'), ('Pointer.data', '0x0')]"
      ]
     },
     "execution_count": 21,
     "metadata": {},
     "output_type": "execute_result"
    }
   ],
   "source": [
    "pointer.to_list()"
   ]
  },
  {
   "cell_type": "code",
   "execution_count": 22,
   "metadata": {},
   "outputs": [
    {
     "data": {
      "text/plain": [
       "'{\"value\": \"0x0\", \"data\": \"0x0\"}'"
      ]
     },
     "execution_count": 22,
     "metadata": {},
     "output_type": "execute_result"
    }
   ],
   "source": [
    "pointer.to_json()"
   ]
  },
  {
   "cell_type": "code",
   "execution_count": 23,
   "metadata": {},
   "outputs": [
    {
     "name": "stdout",
     "output_type": "stream",
     "text": [
      "value: '0x0'\n",
      "data: '0x0'\n"
     ]
    }
   ],
   "source": [
    "to_yaml(pointer, flow_style=False)"
   ]
  },
  {
   "cell_type": "code",
   "execution_count": 24,
   "metadata": {},
   "outputs": [
    {
     "data": {
      "text/plain": [
       "[('Pointer.field', '0x0'), ('Pointer.data', '0x0')]"
      ]
     },
     "execution_count": 24,
     "metadata": {},
     "output_type": "execute_result"
    }
   ],
   "source": [
    "pointer.to_list(nested=True)"
   ]
  },
  {
   "cell_type": "code",
   "execution_count": 25,
   "metadata": {},
   "outputs": [
    {
     "data": {
      "text/plain": [
       "'{\"value\": \"0x0\", \"data\": {\"value\": \"0x0\", \"data\": null}}'"
      ]
     },
     "execution_count": 25,
     "metadata": {},
     "output_type": "execute_result"
    }
   ],
   "source": [
    "pointer.to_json(nested=True)"
   ]
  },
  {
   "cell_type": "code",
   "execution_count": 26,
   "metadata": {},
   "outputs": [
    {
     "name": "stdout",
     "output_type": "stream",
     "text": [
      "value: '0x0'\n",
      "data:\n",
      "  value: '0x0'\n",
      "  data: null\n"
     ]
    }
   ],
   "source": [
    "to_yaml(pointer, nested=True, flow_style=False)"
   ]
  },
  {
   "cell_type": "markdown",
   "metadata": {},
   "source": [
    "### Nested `pointer` with an `data object`"
   ]
  },
  {
   "cell_type": "code",
   "execution_count": 27,
   "metadata": {},
   "outputs": [],
   "source": [
    "pointer = Pointer(Pointer(Byte()))"
   ]
  },
  {
   "cell_type": "code",
   "execution_count": 28,
   "metadata": {},
   "outputs": [
    {
     "data": {
      "text/plain": [
       "[('Pointer.field', '0x0'), ('Pointer.data', '0x0')]"
      ]
     },
     "execution_count": 28,
     "metadata": {},
     "output_type": "execute_result"
    }
   ],
   "source": [
    "pointer.to_list()"
   ]
  },
  {
   "cell_type": "code",
   "execution_count": 29,
   "metadata": {},
   "outputs": [
    {
     "data": {
      "text/plain": [
       "'{\"value\": \"0x0\", \"data\": \"0x0\"}'"
      ]
     },
     "execution_count": 29,
     "metadata": {},
     "output_type": "execute_result"
    }
   ],
   "source": [
    "pointer.to_json()"
   ]
  },
  {
   "cell_type": "code",
   "execution_count": 30,
   "metadata": {},
   "outputs": [
    {
     "name": "stdout",
     "output_type": "stream",
     "text": [
      "value: '0x0'\n",
      "data: '0x0'\n"
     ]
    }
   ],
   "source": [
    "to_yaml(pointer, flow_style=False)"
   ]
  },
  {
   "cell_type": "code",
   "execution_count": 31,
   "metadata": {},
   "outputs": [
    {
     "data": {
      "text/plain": [
       "[('Pointer.field', '0x0'),\n",
       " ('Pointer.data', '0x0'),\n",
       " ('Pointer.data.data', '0x0')]"
      ]
     },
     "execution_count": 31,
     "metadata": {},
     "output_type": "execute_result"
    }
   ],
   "source": [
    "pointer.to_list(nested=True)"
   ]
  },
  {
   "cell_type": "code",
   "execution_count": 32,
   "metadata": {},
   "outputs": [
    {
     "data": {
      "text/plain": [
       "'{\"value\": \"0x0\", \"data\": {\"value\": \"0x0\", \"data\": \"0x0\"}}'"
      ]
     },
     "execution_count": 32,
     "metadata": {},
     "output_type": "execute_result"
    }
   ],
   "source": [
    "pointer.to_json(nested=True)"
   ]
  },
  {
   "cell_type": "code",
   "execution_count": 33,
   "metadata": {},
   "outputs": [
    {
     "name": "stdout",
     "output_type": "stream",
     "text": [
      "value: '0x0'\n",
      "data:\n",
      "  value: '0x0'\n",
      "  data: '0x0'\n"
     ]
    }
   ],
   "source": [
    "to_yaml(pointer, nested=True, flow_style=False)"
   ]
  },
  {
   "cell_type": "markdown",
   "metadata": {},
   "source": [
    "## Access the Data Object"
   ]
  },
  {
   "cell_type": "code",
   "execution_count": 34,
   "metadata": {},
   "outputs": [],
   "source": [
    "pointer = Pointer(Pointer(Byte()))"
   ]
  },
  {
   "cell_type": "code",
   "execution_count": 35,
   "metadata": {},
   "outputs": [
    {
     "data": {
      "text/plain": [
       "Pointer(index=Index(byte=0, bit=0, address=0, base_address=0, update=False), alignment=Alignment(byte_size=4, bit_offset=0), bit_size=32, value='0x0')"
      ]
     },
     "execution_count": 35,
     "metadata": {},
     "output_type": "execute_result"
    }
   ],
   "source": [
    "pointer.data"
   ]
  },
  {
   "cell_type": "code",
   "execution_count": 36,
   "metadata": {},
   "outputs": [
    {
     "data": {
      "text/plain": [
       "Byte(index=Index(byte=0, bit=0, address=0, base_address=0, update=False), alignment=Alignment(byte_size=1, bit_offset=0), bit_size=8, value='0x0')"
      ]
     },
     "execution_count": 36,
     "metadata": {},
     "output_type": "execute_result"
    }
   ],
   "source": [
    "pointer.data.data"
   ]
  },
  {
   "cell_type": "markdown",
   "metadata": {},
   "source": [
    "## Address of the Data Object"
   ]
  },
  {
   "cell_type": "code",
   "execution_count": 37,
   "metadata": {},
   "outputs": [
    {
     "data": {
      "text/plain": [
       "0"
      ]
     },
     "execution_count": 37,
     "metadata": {},
     "output_type": "execute_result"
    }
   ],
   "source": [
    "pointer.address"
   ]
  },
  {
   "cell_type": "markdown",
   "metadata": {},
   "source": [
    "## Byte Order of the Data Object"
   ]
  },
  {
   "cell_type": "code",
   "execution_count": 38,
   "metadata": {},
   "outputs": [
    {
     "data": {
      "text/plain": [
       "Byteorder.little = 'little'"
      ]
     },
     "execution_count": 38,
     "metadata": {},
     "output_type": "execute_result"
    }
   ],
   "source": [
    "pointer.data_byte_order"
   ]
  },
  {
   "cell_type": "code",
   "execution_count": 39,
   "metadata": {},
   "outputs": [],
   "source": [
    "pointer.data_byte_order = 'big'"
   ]
  },
  {
   "cell_type": "code",
   "execution_count": 40,
   "metadata": {},
   "outputs": [
    {
     "data": {
      "text/plain": [
       "Byteorder.big = 'big'"
      ]
     },
     "execution_count": 40,
     "metadata": {},
     "output_type": "execute_result"
    }
   ],
   "source": [
    "pointer.data_byte_order"
   ]
  },
  {
   "cell_type": "markdown",
   "metadata": {},
   "source": [
    "## Byte Stream for the Data Object"
   ]
  },
  {
   "cell_type": "code",
   "execution_count": 41,
   "metadata": {},
   "outputs": [
    {
     "data": {
      "text/plain": [
       "''"
      ]
     },
     "execution_count": 41,
     "metadata": {},
     "output_type": "execute_result"
    }
   ],
   "source": [
    "pointer.bytestream"
   ]
  },
  {
   "cell_type": "code",
   "execution_count": 42,
   "metadata": {},
   "outputs": [],
   "source": [
    "pointer.bytestream = '000000000000'"
   ]
  },
  {
   "cell_type": "code",
   "execution_count": 43,
   "metadata": {},
   "outputs": [
    {
     "data": {
      "text/plain": [
       "'000000000000'"
      ]
     },
     "execution_count": 43,
     "metadata": {},
     "output_type": "execute_result"
    }
   ],
   "source": [
    "pointer.bytestream"
   ]
  },
  {
   "cell_type": "markdown",
   "metadata": {},
   "source": [
    "## Initialize a Pointer"
   ]
  },
  {
   "cell_type": "code",
   "execution_count": 44,
   "metadata": {},
   "outputs": [],
   "source": [
    "pointer = Pointer(\n",
    "    Structure(\n",
    "        size=Decimal(16),\n",
    "        item=Pointer(String(14))))"
   ]
  },
  {
   "cell_type": "code",
   "execution_count": 45,
   "metadata": {},
   "outputs": [
    {
     "data": {
      "text/plain": [
       "[('Pointer.field', '0x0'),\n",
       " ('Pointer.data.size', 0),\n",
       " ('Pointer.data.item', '0x0'),\n",
       " ('Pointer.data.item.data', '')]"
      ]
     },
     "execution_count": 45,
     "metadata": {},
     "output_type": "execute_result"
    }
   ],
   "source": [
    "pointer.to_list(nested=True)"
   ]
  },
  {
   "cell_type": "code",
   "execution_count": 46,
   "metadata": {},
   "outputs": [
    {
     "data": {
      "text/plain": [
       "'{\"value\": \"0x0\", \"data\": {\"size\": 0, \"item\": {\"value\": \"0x0\", \"data\": \"\"}}}'"
      ]
     },
     "execution_count": 46,
     "metadata": {},
     "output_type": "execute_result"
    }
   ],
   "source": [
    "pointer.to_json(nested=True)"
   ]
  },
  {
   "cell_type": "code",
   "execution_count": 47,
   "metadata": {},
   "outputs": [
    {
     "name": "stdout",
     "output_type": "stream",
     "text": [
      "value: '0x0'\n",
      "data:\n",
      "  size: 0\n",
      "  item:\n",
      "    value: '0x0'\n",
      "    data: ''\n"
     ]
    }
   ],
   "source": [
    "to_yaml(pointer, nested=True, flow_style=False)"
   ]
  },
  {
   "cell_type": "code",
   "execution_count": 48,
   "metadata": {},
   "outputs": [],
   "source": [
    "pointer.initialize_fields({\n",
    "    'value': 0x1,\n",
    "    'data': {\n",
    "        'size': 14,\n",
    "        'item': {'value': 0x10,\n",
    "                 'data': 'Konfoo is Fun'}}})"
   ]
  },
  {
   "cell_type": "code",
   "execution_count": 49,
   "metadata": {},
   "outputs": [
    {
     "data": {
      "text/plain": [
       "[('Pointer.field', '0x1'),\n",
       " ('Pointer.data.size', 14),\n",
       " ('Pointer.data.item', '0x10'),\n",
       " ('Pointer.data.item.data', 'Konfoo is Fun')]"
      ]
     },
     "execution_count": 49,
     "metadata": {},
     "output_type": "execute_result"
    }
   ],
   "source": [
    "pointer.to_list(nested=True)"
   ]
  },
  {
   "cell_type": "code",
   "execution_count": 50,
   "metadata": {},
   "outputs": [
    {
     "data": {
      "text/plain": [
       "'{\"value\": \"0x1\", \"data\": {\"size\": 14, \"item\": {\"value\": \"0x10\", \"data\": \"Konfoo is Fun\"}}}'"
      ]
     },
     "execution_count": 50,
     "metadata": {},
     "output_type": "execute_result"
    }
   ],
   "source": [
    "pointer.to_json(nested=True)"
   ]
  },
  {
   "cell_type": "code",
   "execution_count": 51,
   "metadata": {},
   "outputs": [
    {
     "name": "stdout",
     "output_type": "stream",
     "text": [
      "value: '0x1'\n",
      "data:\n",
      "  size: 14\n",
      "  item:\n",
      "    value: '0x10'\n",
      "    data: Konfoo is Fun\n"
     ]
    }
   ],
   "source": [
    "to_yaml(pointer, nested=True, flow_style=False)"
   ]
  },
  {
   "cell_type": "markdown",
   "metadata": {},
   "source": [
    "## Display a Pointer"
   ]
  },
  {
   "cell_type": "code",
   "execution_count": 52,
   "metadata": {},
   "outputs": [],
   "source": [
    "pointer = Pointer(\n",
    "    Structure(\n",
    "        size=Decimal(16),\n",
    "        item=Pointer(String())))"
   ]
  },
  {
   "cell_type": "code",
   "execution_count": 53,
   "metadata": {},
   "outputs": [
    {
     "data": {
      "text/plain": [
       "Index(byte=4, bit=0, address=4, base_address=0, update=False)"
      ]
     },
     "execution_count": 53,
     "metadata": {},
     "output_type": "execute_result"
    }
   ],
   "source": [
    "pointer.index_fields()"
   ]
  },
  {
   "cell_type": "code",
   "execution_count": 54,
   "metadata": {},
   "outputs": [
    {
     "data": {
      "text/plain": [
       "Pointer(index=Index(byte=0, bit=0, address=0, base_address=0, update=False), alignment=Alignment(byte_size=4, bit_offset=0), bit_size=32, value='0x0')"
      ]
     },
     "execution_count": 54,
     "metadata": {},
     "output_type": "execute_result"
    }
   ],
   "source": [
    "pointer"
   ]
  },
  {
   "cell_type": "markdown",
   "metadata": {},
   "source": [
    "## Display the Data Object"
   ]
  },
  {
   "cell_type": "code",
   "execution_count": 55,
   "metadata": {},
   "outputs": [
    {
     "data": {
      "text/plain": [
       "Structure([('size',\n",
       "            Decimal(index=Index(byte=0, bit=0, address=0, base_address=0, update=False), alignment=Alignment(byte_size=2, bit_offset=0), bit_size=16, value=0)),\n",
       "           ('item',\n",
       "            Pointer(index=Index(byte=2, bit=0, address=2, base_address=0, update=False), alignment=Alignment(byte_size=4, bit_offset=0), bit_size=32, value='0x0'))])"
      ]
     },
     "execution_count": 55,
     "metadata": {},
     "output_type": "execute_result"
    }
   ],
   "source": [
    "pointer.data"
   ]
  },
  {
   "cell_type": "markdown",
   "metadata": {},
   "source": [
    "## Metadata of a Pointer"
   ]
  },
  {
   "cell_type": "code",
   "execution_count": 56,
   "metadata": {},
   "outputs": [
    {
     "data": {
      "text/plain": [
       "OrderedDict([('address', 0),\n",
       "             ('alignment', [4, 0]),\n",
       "             ('class', 'Pointer'),\n",
       "             ('index', [0, 0]),\n",
       "             ('max', 4294967295),\n",
       "             ('min', 0),\n",
       "             ('name', 'Pointer'),\n",
       "             ('order', 'auto'),\n",
       "             ('signed', False),\n",
       "             ('size', 32),\n",
       "             ('type', 'Pointer'),\n",
       "             ('value', '0x0'),\n",
       "             ('member',\n",
       "              [OrderedDict([('class', 'Structure'),\n",
       "                            ('name', 'data'),\n",
       "                            ('size', 2),\n",
       "                            ('type', 'Structure'),\n",
       "                            ('member',\n",
       "                             [OrderedDict([('address', 0),\n",
       "                                           ('alignment', [2, 0]),\n",
       "                                           ('class', 'Decimal16'),\n",
       "                                           ('index', [0, 0]),\n",
       "                                           ('max', 65535),\n",
       "                                           ('min', 0),\n",
       "                                           ('name', 'size'),\n",
       "                                           ('order', 'auto'),\n",
       "                                           ('signed', False),\n",
       "                                           ('size', 16),\n",
       "                                           ('type', 'Field'),\n",
       "                                           ('value', 0)]),\n",
       "                              OrderedDict([('address', 2),\n",
       "                                           ('alignment', [4, 0]),\n",
       "                                           ('class', 'Pointer'),\n",
       "                                           ('index', [2, 0]),\n",
       "                                           ('max', 4294967295),\n",
       "                                           ('min', 0),\n",
       "                                           ('name', 'item'),\n",
       "                                           ('order', 'auto'),\n",
       "                                           ('signed', False),\n",
       "                                           ('size', 32),\n",
       "                                           ('type', 'Pointer'),\n",
       "                                           ('value', '0x0'),\n",
       "                                           ('member',\n",
       "                                            [OrderedDict([('address', 0),\n",
       "                                                          ('alignment',\n",
       "                                                           [0, 0]),\n",
       "                                                          ('class', 'String'),\n",
       "                                                          ('index', [0, 0]),\n",
       "                                                          ('name', 'data'),\n",
       "                                                          ('order', 'auto'),\n",
       "                                                          ('size', 0),\n",
       "                                                          ('type', 'Field'),\n",
       "                                                          ('value',\n",
       "                                                           '')])])])])])])])"
      ]
     },
     "execution_count": 56,
     "metadata": {},
     "output_type": "execute_result"
    }
   ],
   "source": [
    "pointer.describe()"
   ]
  },
  {
   "cell_type": "code",
   "execution_count": 57,
   "metadata": {},
   "outputs": [
    {
     "name": "stdout",
     "output_type": "stream",
     "text": [
      "{\n",
      "  \"address\": 0,\n",
      "  \"alignment\": [\n",
      "    4,\n",
      "    0\n",
      "  ],\n",
      "  \"class\": \"Pointer\",\n",
      "  \"index\": [\n",
      "    0,\n",
      "    0\n",
      "  ],\n",
      "  \"max\": 4294967295,\n",
      "  \"min\": 0,\n",
      "  \"name\": \"Pointer\",\n",
      "  \"order\": \"auto\",\n",
      "  \"signed\": false,\n",
      "  \"size\": 32,\n",
      "  \"type\": \"Pointer\",\n",
      "  \"value\": \"0x0\",\n",
      "  \"member\": [\n",
      "    {\n",
      "      \"class\": \"Structure\",\n",
      "      \"name\": \"data\",\n",
      "      \"size\": 2,\n",
      "      \"type\": \"Structure\",\n",
      "      \"member\": [\n",
      "        {\n",
      "          \"address\": 0,\n",
      "          \"alignment\": [\n",
      "            2,\n",
      "            0\n",
      "          ],\n",
      "          \"class\": \"Decimal16\",\n",
      "          \"index\": [\n",
      "            0,\n",
      "            0\n",
      "          ],\n",
      "          \"max\": 65535,\n",
      "          \"min\": 0,\n",
      "          \"name\": \"size\",\n",
      "          \"order\": \"auto\",\n",
      "          \"signed\": false,\n",
      "          \"size\": 16,\n",
      "          \"type\": \"Field\",\n",
      "          \"value\": 0\n",
      "        },\n",
      "        {\n",
      "          \"address\": 2,\n",
      "          \"alignment\": [\n",
      "            4,\n",
      "            0\n",
      "          ],\n",
      "          \"class\": \"Pointer\",\n",
      "          \"index\": [\n",
      "            2,\n",
      "            0\n",
      "          ],\n",
      "          \"max\": 4294967295,\n",
      "          \"min\": 0,\n",
      "          \"name\": \"item\",\n",
      "          \"order\": \"auto\",\n",
      "          \"signed\": false,\n",
      "          \"size\": 32,\n",
      "          \"type\": \"Pointer\",\n",
      "          \"value\": \"0x0\",\n",
      "          \"member\": [\n",
      "            {\n",
      "              \"address\": 0,\n",
      "              \"alignment\": [\n",
      "                0,\n",
      "                0\n",
      "              ],\n",
      "              \"class\": \"String\",\n",
      "              \"index\": [\n",
      "                0,\n",
      "                0\n",
      "              ],\n",
      "              \"name\": \"data\",\n",
      "              \"order\": \"auto\",\n",
      "              \"size\": 0,\n",
      "              \"type\": \"Field\",\n",
      "              \"value\": \"\"\n",
      "            }\n",
      "          ]\n",
      "        }\n",
      "      ]\n",
      "    }\n",
      "  ]\n",
      "}"
     ]
    }
   ],
   "source": [
    "json.dump(pointer.describe(), sys.stdout, indent=2)"
   ]
  },
  {
   "cell_type": "code",
   "execution_count": 58,
   "metadata": {},
   "outputs": [
    {
     "name": "stdout",
     "output_type": "stream",
     "text": [
      "{\n",
      "  \"class\": \"Pointer\",\n",
      "  \"name\": \"Pointer\",\n",
      "  \"children\": [\n",
      "    {\n",
      "      \"class\": \"Pointer\",\n",
      "      \"name\": \"*Pointer\",\n",
      "      \"size\": 32,\n",
      "      \"value\": \"0x0\"\n",
      "    },\n",
      "    {\n",
      "      \"class\": \"Structure\",\n",
      "      \"name\": \"data\",\n",
      "      \"children\": [\n",
      "        {\n",
      "          \"class\": \"Decimal16\",\n",
      "          \"name\": \"size\",\n",
      "          \"size\": 16,\n",
      "          \"value\": 0\n",
      "        },\n",
      "        {\n",
      "          \"class\": \"Pointer\",\n",
      "          \"name\": \"item\",\n",
      "          \"children\": [\n",
      "            {\n",
      "              \"class\": \"Pointer\",\n",
      "              \"name\": \"*item\",\n",
      "              \"size\": 32,\n",
      "              \"value\": \"0x0\"\n",
      "            },\n",
      "            {\n",
      "              \"class\": \"String\",\n",
      "              \"name\": \"data\",\n",
      "              \"size\": 0,\n",
      "              \"value\": \"\"\n",
      "            }\n",
      "          ]\n",
      "        }\n",
      "      ]\n",
      "    }\n",
      "  ]\n",
      "}"
     ]
    }
   ],
   "source": [
    "d3flare_json(pointer.describe(), sys.stdout, indent=2)"
   ]
  },
  {
   "cell_type": "markdown",
   "metadata": {},
   "source": [
    "## Size of the Data Object"
   ]
  },
  {
   "cell_type": "code",
   "execution_count": 59,
   "metadata": {},
   "outputs": [
    {
     "data": {
      "text/plain": [
       "6"
      ]
     },
     "execution_count": 59,
     "metadata": {},
     "output_type": "execute_result"
    }
   ],
   "source": [
    "pointer.data_size"
   ]
  },
  {
   "cell_type": "markdown",
   "metadata": {},
   "source": [
    "## Indexing"
   ]
  },
  {
   "cell_type": "code",
   "execution_count": 60,
   "metadata": {},
   "outputs": [],
   "source": [
    "pointer = Pointer(\n",
    "    Structure(\n",
    "        size=Decimal(16),\n",
    "        item=Pointer(String())))"
   ]
  },
  {
   "cell_type": "code",
   "execution_count": 61,
   "metadata": {},
   "outputs": [
    {
     "data": {
      "text/plain": [
       "[('Pointer.field',\n",
       "  Index(byte=0, bit=0, address=0, base_address=0, update=False)),\n",
       " ('Pointer.data.size',\n",
       "  Index(byte=0, bit=0, address=0, base_address=0, update=False)),\n",
       " ('Pointer.data.item',\n",
       "  Index(byte=0, bit=0, address=0, base_address=0, update=False)),\n",
       " ('Pointer.data.item.data',\n",
       "  Index(byte=0, bit=0, address=0, base_address=0, update=False))]"
      ]
     },
     "execution_count": 61,
     "metadata": {},
     "output_type": "execute_result"
    }
   ],
   "source": [
    "pointer.to_list('index', nested=True)"
   ]
  },
  {
   "cell_type": "code",
   "execution_count": 62,
   "metadata": {},
   "outputs": [
    {
     "data": {
      "text/plain": [
       "'{\"value\": [0, 0, 0, 0, false], \"data\": {\"size\": [0, 0, 0, 0, false], \"item\": {\"value\": [0, 0, 0, 0, false], \"data\": [0, 0, 0, 0, false]}}}'"
      ]
     },
     "execution_count": 62,
     "metadata": {},
     "output_type": "execute_result"
    }
   ],
   "source": [
    "pointer.to_json('index', nested=True)"
   ]
  },
  {
   "cell_type": "code",
   "execution_count": 63,
   "metadata": {},
   "outputs": [
    {
     "data": {
      "text/plain": [
       "Index(byte=4, bit=0, address=4, base_address=0, update=False)"
      ]
     },
     "execution_count": 63,
     "metadata": {},
     "output_type": "execute_result"
    }
   ],
   "source": [
    "pointer.index_fields(index=Index())"
   ]
  },
  {
   "cell_type": "code",
   "execution_count": 64,
   "metadata": {},
   "outputs": [
    {
     "data": {
      "text/plain": [
       "Index(byte=4, bit=0, address=4, base_address=0, update=False)"
      ]
     },
     "execution_count": 64,
     "metadata": {},
     "output_type": "execute_result"
    }
   ],
   "source": [
    "pointer.index_fields()"
   ]
  },
  {
   "cell_type": "code",
   "execution_count": 65,
   "metadata": {},
   "outputs": [
    {
     "data": {
      "text/plain": [
       "[('Pointer.field',\n",
       "  Index(byte=0, bit=0, address=0, base_address=0, update=False)),\n",
       " ('Pointer.data.size',\n",
       "  Index(byte=0, bit=0, address=0, base_address=0, update=False)),\n",
       " ('Pointer.data.item',\n",
       "  Index(byte=2, bit=0, address=2, base_address=0, update=False)),\n",
       " ('Pointer.data.item.data',\n",
       "  Index(byte=0, bit=0, address=0, base_address=0, update=False))]"
      ]
     },
     "execution_count": 65,
     "metadata": {},
     "output_type": "execute_result"
    }
   ],
   "source": [
    "pointer.to_list('index', nested=True)"
   ]
  },
  {
   "cell_type": "code",
   "execution_count": 66,
   "metadata": {},
   "outputs": [
    {
     "data": {
      "text/plain": [
       "'{\"value\": [0, 0, 0, 0, false], \"data\": {\"size\": [0, 0, 0, 0, false], \"item\": {\"value\": [2, 0, 2, 0, false], \"data\": [0, 0, 0, 0, false]}}}'"
      ]
     },
     "execution_count": 66,
     "metadata": {},
     "output_type": "execute_result"
    }
   ],
   "source": [
    "pointer.to_json('index', nested=True)"
   ]
  },
  {
   "cell_type": "markdown",
   "metadata": {},
   "source": [
    "### Index the Pointer Field"
   ]
  },
  {
   "cell_type": "code",
   "execution_count": 67,
   "metadata": {},
   "outputs": [],
   "source": [
    "pointer = Pointer(\n",
    "    Structure(\n",
    "        size=Decimal(16),\n",
    "        item=Pointer(String())))"
   ]
  },
  {
   "cell_type": "markdown",
   "metadata": {},
   "source": [
    "### Index the Data Object"
   ]
  },
  {
   "cell_type": "code",
   "execution_count": 68,
   "metadata": {},
   "outputs": [],
   "source": [
    "pointer = Pointer(\n",
    "    Structure(\n",
    "        size=Decimal(16),\n",
    "        item=Pointer(String())))"
   ]
  },
  {
   "cell_type": "code",
   "execution_count": 69,
   "metadata": {},
   "outputs": [
    {
     "data": {
      "text/plain": [
       "[('Structure.size',\n",
       "  Index(byte=0, bit=0, address=0, base_address=0, update=False)),\n",
       " ('Structure.item',\n",
       "  Index(byte=0, bit=0, address=0, base_address=0, update=False)),\n",
       " ('Structure.item.data',\n",
       "  Index(byte=0, bit=0, address=0, base_address=0, update=False))]"
      ]
     },
     "execution_count": 69,
     "metadata": {},
     "output_type": "execute_result"
    }
   ],
   "source": [
    "pointer.data.to_list('index', nested=True)"
   ]
  },
  {
   "cell_type": "code",
   "execution_count": 70,
   "metadata": {},
   "outputs": [
    {
     "data": {
      "text/plain": [
       "'{\"size\": [0, 0, 0, 0, false], \"item\": {\"value\": [0, 0, 0, 0, false], \"data\": [0, 0, 0, 0, false]}}'"
      ]
     },
     "execution_count": 70,
     "metadata": {},
     "output_type": "execute_result"
    }
   ],
   "source": [
    "pointer.data.to_json('index', nested=True)"
   ]
  },
  {
   "cell_type": "code",
   "execution_count": 71,
   "metadata": {},
   "outputs": [],
   "source": [
    "pointer.index_data()"
   ]
  },
  {
   "cell_type": "code",
   "execution_count": 72,
   "metadata": {
    "scrolled": true
   },
   "outputs": [
    {
     "data": {
      "text/plain": [
       "[('Structure.size',\n",
       "  Index(byte=0, bit=0, address=0, base_address=0, update=False)),\n",
       " ('Structure.item',\n",
       "  Index(byte=2, bit=0, address=2, base_address=0, update=False)),\n",
       " ('Structure.item.data',\n",
       "  Index(byte=0, bit=0, address=0, base_address=0, update=False))]"
      ]
     },
     "execution_count": 72,
     "metadata": {},
     "output_type": "execute_result"
    }
   ],
   "source": [
    "pointer.data.to_list('index', nested=True)"
   ]
  },
  {
   "cell_type": "code",
   "execution_count": 73,
   "metadata": {},
   "outputs": [
    {
     "data": {
      "text/plain": [
       "'{\"size\": [0, 0, 0, 0, false], \"item\": {\"value\": [2, 0, 2, 0, false], \"data\": [0, 0, 0, 0, false]}}'"
      ]
     },
     "execution_count": 73,
     "metadata": {},
     "output_type": "execute_result"
    }
   ],
   "source": [
    "pointer.data.to_json('index', nested=True)"
   ]
  },
  {
   "cell_type": "markdown",
   "metadata": {},
   "source": [
    "## De-Serializing"
   ]
  },
  {
   "cell_type": "code",
   "execution_count": 74,
   "metadata": {},
   "outputs": [
    {
     "data": {
      "text/plain": [
       "Index(byte=4, bit=0, address=4, base_address=0, update=False)"
      ]
     },
     "execution_count": 74,
     "metadata": {},
     "output_type": "execute_result"
    }
   ],
   "source": [
    "pointer.deserialize(bytes.fromhex('00000000f00f00'))"
   ]
  },
  {
   "cell_type": "code",
   "execution_count": 75,
   "metadata": {},
   "outputs": [
    {
     "data": {
      "text/plain": [
       "[('Pointer.field', '0x0'),\n",
       " ('Pointer.data.size', 0),\n",
       " ('Pointer.data.item', '0x0')]"
      ]
     },
     "execution_count": 75,
     "metadata": {},
     "output_type": "execute_result"
    }
   ],
   "source": [
    "pointer.to_list()"
   ]
  },
  {
   "cell_type": "code",
   "execution_count": 76,
   "metadata": {},
   "outputs": [
    {
     "data": {
      "text/plain": [
       "'{\"value\": \"0x0\", \"data\": {\"size\": 0, \"item\": \"0x0\"}}'"
      ]
     },
     "execution_count": 76,
     "metadata": {},
     "output_type": "execute_result"
    }
   ],
   "source": [
    "pointer.to_json()"
   ]
  },
  {
   "cell_type": "code",
   "execution_count": 77,
   "metadata": {
    "scrolled": false
   },
   "outputs": [
    {
     "name": "stdout",
     "output_type": "stream",
     "text": [
      "value: '0x0'\n",
      "data:\n",
      "  size: 0\n",
      "  item: '0x0'\n"
     ]
    }
   ],
   "source": [
    "to_yaml(pointer, flow_style=False)"
   ]
  },
  {
   "cell_type": "markdown",
   "metadata": {},
   "source": [
    "## Serializing"
   ]
  },
  {
   "cell_type": "code",
   "execution_count": 78,
   "metadata": {},
   "outputs": [
    {
     "data": {
      "text/plain": [
       "''"
      ]
     },
     "execution_count": 78,
     "metadata": {},
     "output_type": "execute_result"
    }
   ],
   "source": [
    "bytestream = bytearray()\n",
    "bytestream.hex()"
   ]
  },
  {
   "cell_type": "code",
   "execution_count": 79,
   "metadata": {},
   "outputs": [
    {
     "data": {
      "text/plain": [
       "Index(byte=4, bit=0, address=4, base_address=0, update=False)"
      ]
     },
     "execution_count": 79,
     "metadata": {},
     "output_type": "execute_result"
    }
   ],
   "source": [
    "pointer.serialize(bytestream)"
   ]
  },
  {
   "cell_type": "code",
   "execution_count": 80,
   "metadata": {},
   "outputs": [
    {
     "data": {
      "text/plain": [
       "'00000000'"
      ]
     },
     "execution_count": 80,
     "metadata": {},
     "output_type": "execute_result"
    }
   ],
   "source": [
    "bytes(pointer).hex()"
   ]
  },
  {
   "cell_type": "code",
   "execution_count": 81,
   "metadata": {},
   "outputs": [
    {
     "data": {
      "text/plain": [
       "'00000000'"
      ]
     },
     "execution_count": 81,
     "metadata": {},
     "output_type": "execute_result"
    }
   ],
   "source": [
    "bytestream.hex()"
   ]
  },
  {
   "cell_type": "markdown",
   "metadata": {},
   "source": [
    "## Pointer Members"
   ]
  },
  {
   "cell_type": "markdown",
   "metadata": {},
   "source": [
    "### Access the Data Object of a Pointer Field"
   ]
  },
  {
   "cell_type": "code",
   "execution_count": 82,
   "metadata": {},
   "outputs": [
    {
     "data": {
      "text/plain": [
       "Structure([('size',\n",
       "            Decimal(index=Index(byte=0, bit=0, address=0, base_address=0, update=False), alignment=Alignment(byte_size=2, bit_offset=0), bit_size=16, value=0)),\n",
       "           ('item',\n",
       "            Pointer(index=Index(byte=2, bit=0, address=2, base_address=0, update=False), alignment=Alignment(byte_size=4, bit_offset=0), bit_size=32, value='0x0'))])"
      ]
     },
     "execution_count": 82,
     "metadata": {},
     "output_type": "execute_result"
    }
   ],
   "source": [
    "pointer.data"
   ]
  },
  {
   "cell_type": "markdown",
   "metadata": {},
   "source": [
    "### Access the Attributes of a Pointer Field"
   ]
  },
  {
   "cell_type": "code",
   "execution_count": 83,
   "metadata": {},
   "outputs": [
    {
     "data": {
      "text/plain": [
       "'Pointer32'"
      ]
     },
     "execution_count": 83,
     "metadata": {},
     "output_type": "execute_result"
    }
   ],
   "source": [
    "pointer.name"
   ]
  },
  {
   "cell_type": "code",
   "execution_count": 84,
   "metadata": {},
   "outputs": [
    {
     "data": {
      "text/plain": [
       "'0x0'"
      ]
     },
     "execution_count": 84,
     "metadata": {},
     "output_type": "execute_result"
    }
   ],
   "source": [
    "pointer.value"
   ]
  },
  {
   "cell_type": "code",
   "execution_count": 85,
   "metadata": {},
   "outputs": [
    {
     "data": {
      "text/plain": [
       "32"
      ]
     },
     "execution_count": 85,
     "metadata": {},
     "output_type": "execute_result"
    }
   ],
   "source": [
    "pointer.bit_size"
   ]
  },
  {
   "cell_type": "code",
   "execution_count": 86,
   "metadata": {},
   "outputs": [
    {
     "data": {
      "text/plain": [
       "Alignment(byte_size=4, bit_offset=0)"
      ]
     },
     "execution_count": 86,
     "metadata": {},
     "output_type": "execute_result"
    }
   ],
   "source": [
    "pointer.alignment"
   ]
  },
  {
   "cell_type": "code",
   "execution_count": 87,
   "metadata": {},
   "outputs": [
    {
     "data": {
      "text/plain": [
       "4"
      ]
     },
     "execution_count": 87,
     "metadata": {},
     "output_type": "execute_result"
    }
   ],
   "source": [
    "pointer.alignment.byte_size"
   ]
  },
  {
   "cell_type": "code",
   "execution_count": 88,
   "metadata": {},
   "outputs": [
    {
     "data": {
      "text/plain": [
       "0"
      ]
     },
     "execution_count": 88,
     "metadata": {},
     "output_type": "execute_result"
    }
   ],
   "source": [
    "pointer.alignment.bit_offset"
   ]
  },
  {
   "cell_type": "code",
   "execution_count": 89,
   "metadata": {},
   "outputs": [
    {
     "data": {
      "text/plain": [
       "Byteorder.auto = 'auto'"
      ]
     },
     "execution_count": 89,
     "metadata": {},
     "output_type": "execute_result"
    }
   ],
   "source": [
    "pointer.byte_order"
   ]
  },
  {
   "cell_type": "code",
   "execution_count": 90,
   "metadata": {},
   "outputs": [
    {
     "data": {
      "text/plain": [
       "'auto'"
      ]
     },
     "execution_count": 90,
     "metadata": {},
     "output_type": "execute_result"
    }
   ],
   "source": [
    "pointer.byte_order.value"
   ]
  },
  {
   "cell_type": "code",
   "execution_count": 91,
   "metadata": {},
   "outputs": [
    {
     "data": {
      "text/plain": [
       "Index(byte=0, bit=0, address=0, base_address=0, update=False)"
      ]
     },
     "execution_count": 91,
     "metadata": {},
     "output_type": "execute_result"
    }
   ],
   "source": [
    "pointer.index"
   ]
  },
  {
   "cell_type": "code",
   "execution_count": 92,
   "metadata": {},
   "outputs": [
    {
     "data": {
      "text/plain": [
       "0"
      ]
     },
     "execution_count": 92,
     "metadata": {},
     "output_type": "execute_result"
    }
   ],
   "source": [
    "pointer.index.byte"
   ]
  },
  {
   "cell_type": "code",
   "execution_count": 93,
   "metadata": {},
   "outputs": [
    {
     "data": {
      "text/plain": [
       "0"
      ]
     },
     "execution_count": 93,
     "metadata": {},
     "output_type": "execute_result"
    }
   ],
   "source": [
    "pointer.index.bit"
   ]
  },
  {
   "cell_type": "code",
   "execution_count": 94,
   "metadata": {},
   "outputs": [
    {
     "data": {
      "text/plain": [
       "0"
      ]
     },
     "execution_count": 94,
     "metadata": {},
     "output_type": "execute_result"
    }
   ],
   "source": [
    "pointer.index.address"
   ]
  },
  {
   "cell_type": "code",
   "execution_count": 95,
   "metadata": {},
   "outputs": [
    {
     "data": {
      "text/plain": [
       "0"
      ]
     },
     "execution_count": 95,
     "metadata": {},
     "output_type": "execute_result"
    }
   ],
   "source": [
    "pointer.index.base_address"
   ]
  },
  {
   "cell_type": "code",
   "execution_count": 96,
   "metadata": {},
   "outputs": [
    {
     "data": {
      "text/plain": [
       "False"
      ]
     },
     "execution_count": 96,
     "metadata": {},
     "output_type": "execute_result"
    }
   ],
   "source": [
    "pointer.index.update"
   ]
  },
  {
   "cell_type": "markdown",
   "metadata": {},
   "source": [
    "## Pointer Fields"
   ]
  },
  {
   "cell_type": "markdown",
   "metadata": {},
   "source": [
    "### View Field Attributes"
   ]
  },
  {
   "cell_type": "code",
   "execution_count": 97,
   "metadata": {},
   "outputs": [
    {
     "data": {
      "text/plain": [
       "OrderedDict([('value', '0x0'),\n",
       "             ('data', OrderedDict([('size', 0), ('item', '0x0')]))])"
      ]
     },
     "execution_count": 97,
     "metadata": {},
     "output_type": "execute_result"
    }
   ],
   "source": [
    "pointer.view_fields()"
   ]
  },
  {
   "cell_type": "code",
   "execution_count": 98,
   "metadata": {},
   "outputs": [
    {
     "data": {
      "text/plain": [
       "OrderedDict([('value', '0x0'),\n",
       "             ('data',\n",
       "              OrderedDict([('size', 0),\n",
       "                           ('item',\n",
       "                            OrderedDict([('value', '0x0'), ('data', '')]))]))])"
      ]
     },
     "execution_count": 98,
     "metadata": {},
     "output_type": "execute_result"
    }
   ],
   "source": [
    "pointer.view_fields(nested=True)"
   ]
  },
  {
   "cell_type": "code",
   "execution_count": 99,
   "metadata": {},
   "outputs": [
    {
     "data": {
      "text/plain": [
       "OrderedDict([('name', 'Pointer32'),\n",
       "             ('bit_size', 32),\n",
       "             ('value', '0x0'),\n",
       "             ('index',\n",
       "              Index(byte=0, bit=0, address=0, base_address=0, update=False)),\n",
       "             ('alignment', Alignment(byte_size=4, bit_offset=0)),\n",
       "             ('byte_order.name', 'auto'),\n",
       "             ('data',\n",
       "              OrderedDict([('size',\n",
       "                            {'name': 'Decimal16',\n",
       "                             'bit_size': 16,\n",
       "                             'value': 0,\n",
       "                             'index': Index(byte=0, bit=0, address=0, base_address=0, update=False),\n",
       "                             'alignment': Alignment(byte_size=2, bit_offset=0),\n",
       "                             'byte_order.name': 'auto'}),\n",
       "                           ('item',\n",
       "                            {'name': 'Pointer32',\n",
       "                             'bit_size': 32,\n",
       "                             'value': '0x0',\n",
       "                             'index': Index(byte=2, bit=0, address=2, base_address=0, update=False),\n",
       "                             'alignment': Alignment(byte_size=4, bit_offset=0),\n",
       "                             'byte_order.name': 'auto'})]))])"
      ]
     },
     "execution_count": 99,
     "metadata": {},
     "output_type": "execute_result"
    }
   ],
   "source": [
    "pointer.view_fields('name', 'bit_size', 'value', 'index', 'alignment', 'byte_order.name')"
   ]
  },
  {
   "cell_type": "markdown",
   "metadata": {},
   "source": [
    "### View as a JSON string"
   ]
  },
  {
   "cell_type": "code",
   "execution_count": 100,
   "metadata": {},
   "outputs": [
    {
     "data": {
      "text/plain": [
       "'{\"value\": \"0x0\", \"data\": {\"size\": 0, \"item\": \"0x0\"}}'"
      ]
     },
     "execution_count": 100,
     "metadata": {},
     "output_type": "execute_result"
    }
   ],
   "source": [
    "pointer.to_json()"
   ]
  },
  {
   "cell_type": "code",
   "execution_count": 101,
   "metadata": {},
   "outputs": [
    {
     "name": "stdout",
     "output_type": "stream",
     "text": [
      "{\n",
      "  \"value\": \"0x0\",\n",
      "  \"data\": {\n",
      "    \"size\": 0,\n",
      "    \"item\": \"0x0\"\n",
      "  }\n",
      "}\n"
     ]
    }
   ],
   "source": [
    "print(pointer.to_json(indent=2))"
   ]
  },
  {
   "cell_type": "code",
   "execution_count": 102,
   "metadata": {},
   "outputs": [
    {
     "data": {
      "text/plain": [
       "'{\"value\": \"0x0\", \"data\": {\"size\": 0, \"item\": {\"value\": \"0x0\", \"data\": \"\"}}}'"
      ]
     },
     "execution_count": 102,
     "metadata": {},
     "output_type": "execute_result"
    }
   ],
   "source": [
    "pointer.to_json(nested=True)"
   ]
  },
  {
   "cell_type": "code",
   "execution_count": 103,
   "metadata": {},
   "outputs": [
    {
     "name": "stdout",
     "output_type": "stream",
     "text": [
      "{\n",
      "  \"value\": \"0x0\",\n",
      "  \"data\": {\n",
      "    \"size\": 0,\n",
      "    \"item\": {\n",
      "      \"value\": \"0x0\",\n",
      "      \"data\": \"\"\n",
      "    }\n",
      "  }\n",
      "}\n"
     ]
    }
   ],
   "source": [
    "print(pointer.to_json(nested=True, indent=2))"
   ]
  },
  {
   "cell_type": "code",
   "execution_count": 104,
   "metadata": {},
   "outputs": [
    {
     "data": {
      "text/plain": [
       "'{\"name\": \"Pointer32\", \"bit_size\": 32, \"value\": \"0x0\", \"index\": [0, 0, 0, 0, false], \"alignment\": [4, 0], \"byte_order\": \"auto\", \"data\": {\"size\": {\"name\": \"Decimal16\", \"bit_size\": 16, \"value\": 0, \"index\": [0, 0, 0, 0, false], \"alignment\": [2, 0], \"byte_order\": \"auto\"}, \"item\": {\"name\": \"Pointer32\", \"bit_size\": 32, \"value\": \"0x0\", \"index\": [2, 0, 2, 0, false], \"alignment\": [4, 0], \"byte_order\": \"auto\"}}}'"
      ]
     },
     "execution_count": 104,
     "metadata": {},
     "output_type": "execute_result"
    }
   ],
   "source": [
    "pointer.to_json('name', 'bit_size', 'value', 'index', 'alignment', 'byte_order')"
   ]
  },
  {
   "cell_type": "code",
   "execution_count": 105,
   "metadata": {},
   "outputs": [
    {
     "name": "stdout",
     "output_type": "stream",
     "text": [
      "{\n",
      "  \"name\": \"Pointer32\",\n",
      "  \"bit_size\": 32,\n",
      "  \"value\": \"0x0\",\n",
      "  \"index\": [\n",
      "    0,\n",
      "    0,\n",
      "    0,\n",
      "    0,\n",
      "    false\n",
      "  ],\n",
      "  \"alignment\": [\n",
      "    4,\n",
      "    0\n",
      "  ],\n",
      "  \"byte_order\": \"auto\",\n",
      "  \"data\": {\n",
      "    \"size\": {\n",
      "      \"name\": \"Decimal16\",\n",
      "      \"bit_size\": 16,\n",
      "      \"value\": 0,\n",
      "      \"index\": [\n",
      "        0,\n",
      "        0,\n",
      "        0,\n",
      "        0,\n",
      "        false\n",
      "      ],\n",
      "      \"alignment\": [\n",
      "        2,\n",
      "        0\n",
      "      ],\n",
      "      \"byte_order\": \"auto\"\n",
      "    },\n",
      "    \"item\": {\n",
      "      \"name\": \"Pointer32\",\n",
      "      \"bit_size\": 32,\n",
      "      \"value\": \"0x0\",\n",
      "      \"index\": [\n",
      "        2,\n",
      "        0,\n",
      "        2,\n",
      "        0,\n",
      "        false\n",
      "      ],\n",
      "      \"alignment\": [\n",
      "        4,\n",
      "        0\n",
      "      ],\n",
      "      \"byte_order\": \"auto\"\n",
      "    }\n",
      "  }\n",
      "}\n"
     ]
    }
   ],
   "source": [
    "print(pointer.to_json('name', 'bit_size', 'value', 'index', 'alignment', 'byte_order', indent=2))"
   ]
  },
  {
   "cell_type": "markdown",
   "metadata": {},
   "source": [
    "### List the Field Items"
   ]
  },
  {
   "cell_type": "code",
   "execution_count": 106,
   "metadata": {},
   "outputs": [
    {
     "data": {
      "text/plain": [
       "[('field',\n",
       "  Pointer(index=Index(byte=0, bit=0, address=0, base_address=0, update=False), alignment=Alignment(byte_size=4, bit_offset=0), bit_size=32, value='0x0')),\n",
       " ('data.size',\n",
       "  Decimal(index=Index(byte=0, bit=0, address=0, base_address=0, update=False), alignment=Alignment(byte_size=2, bit_offset=0), bit_size=16, value=0)),\n",
       " ('data.item',\n",
       "  Pointer(index=Index(byte=2, bit=0, address=2, base_address=0, update=False), alignment=Alignment(byte_size=4, bit_offset=0), bit_size=32, value='0x0'))]"
      ]
     },
     "execution_count": 106,
     "metadata": {},
     "output_type": "execute_result"
    }
   ],
   "source": [
    "pointer.field_items()"
   ]
  },
  {
   "cell_type": "markdown",
   "metadata": {},
   "source": [
    "### List the Field Attributes"
   ]
  },
  {
   "cell_type": "code",
   "execution_count": 107,
   "metadata": {},
   "outputs": [
    {
     "data": {
      "text/plain": [
       "[('Pointer.field', '0x0'),\n",
       " ('Pointer.data.size', 0),\n",
       " ('Pointer.data.item', '0x0')]"
      ]
     },
     "execution_count": 107,
     "metadata": {},
     "output_type": "execute_result"
    }
   ],
   "source": [
    "pointer.to_list()"
   ]
  },
  {
   "cell_type": "code",
   "execution_count": 108,
   "metadata": {},
   "outputs": [
    {
     "data": {
      "text/plain": [
       "[('Pointer.field', '0x0'),\n",
       " ('Pointer.data.size', 0),\n",
       " ('Pointer.data.item', '0x0'),\n",
       " ('Pointer.data.item.data', '')]"
      ]
     },
     "execution_count": 108,
     "metadata": {},
     "output_type": "execute_result"
    }
   ],
   "source": [
    "pointer.to_list(nested=True)"
   ]
  },
  {
   "cell_type": "code",
   "execution_count": 109,
   "metadata": {},
   "outputs": [
    {
     "data": {
      "text/plain": [
       "[('Pointer.field',\n",
       "  ('Pointer32',\n",
       "   32,\n",
       "   '0x0',\n",
       "   Index(byte=0, bit=0, address=0, base_address=0, update=False),\n",
       "   Alignment(byte_size=4, bit_offset=0),\n",
       "   Byteorder.auto = 'auto')),\n",
       " ('Pointer.data.size',\n",
       "  ('Decimal16',\n",
       "   16,\n",
       "   0,\n",
       "   Index(byte=0, bit=0, address=0, base_address=0, update=False),\n",
       "   Alignment(byte_size=2, bit_offset=0),\n",
       "   Byteorder.auto = 'auto')),\n",
       " ('Pointer.data.item',\n",
       "  ('Pointer32',\n",
       "   32,\n",
       "   '0x0',\n",
       "   Index(byte=2, bit=0, address=2, base_address=0, update=False),\n",
       "   Alignment(byte_size=4, bit_offset=0),\n",
       "   Byteorder.auto = 'auto'))]"
      ]
     },
     "execution_count": 109,
     "metadata": {},
     "output_type": "execute_result"
    }
   ],
   "source": [
    "pointer.to_list('name', 'bit_size', 'value', 'index', 'alignment', 'byte_order')"
   ]
  },
  {
   "cell_type": "code",
   "execution_count": 110,
   "metadata": {},
   "outputs": [
    {
     "data": {
      "text/plain": [
       "OrderedDict([('Pointer',\n",
       "              OrderedDict([('field', '0x0'),\n",
       "                           ('data.size', 0),\n",
       "                           ('data.item', '0x0')]))])"
      ]
     },
     "execution_count": 110,
     "metadata": {},
     "output_type": "execute_result"
    }
   ],
   "source": [
    "pointer.to_dict()"
   ]
  },
  {
   "cell_type": "code",
   "execution_count": 111,
   "metadata": {},
   "outputs": [
    {
     "data": {
      "text/plain": [
       "OrderedDict([('Pointer',\n",
       "              OrderedDict([('field', '0x0'),\n",
       "                           ('data.size', 0),\n",
       "                           ('data.item', '0x0'),\n",
       "                           ('data.item.data', '')]))])"
      ]
     },
     "execution_count": 111,
     "metadata": {},
     "output_type": "execute_result"
    }
   ],
   "source": [
    "pointer.to_dict(nested=True)"
   ]
  },
  {
   "cell_type": "code",
   "execution_count": 112,
   "metadata": {},
   "outputs": [
    {
     "data": {
      "text/plain": [
       "OrderedDict([('Pointer',\n",
       "              OrderedDict([('field',\n",
       "                            ('Pointer32',\n",
       "                             32,\n",
       "                             '0x0',\n",
       "                             Index(byte=0, bit=0, address=0, base_address=0, update=False),\n",
       "                             Alignment(byte_size=4, bit_offset=0),\n",
       "                             Byteorder.auto = 'auto')),\n",
       "                           ('data.size',\n",
       "                            ('Decimal16',\n",
       "                             16,\n",
       "                             0,\n",
       "                             Index(byte=0, bit=0, address=0, base_address=0, update=False),\n",
       "                             Alignment(byte_size=2, bit_offset=0),\n",
       "                             Byteorder.auto = 'auto')),\n",
       "                           ('data.item',\n",
       "                            ('Pointer32',\n",
       "                             32,\n",
       "                             '0x0',\n",
       "                             Index(byte=2, bit=0, address=2, base_address=0, update=False),\n",
       "                             Alignment(byte_size=4, bit_offset=0),\n",
       "                             Byteorder.auto = 'auto'))]))])"
      ]
     },
     "execution_count": 112,
     "metadata": {},
     "output_type": "execute_result"
    }
   ],
   "source": [
    "pointer.to_dict('name', 'bit_size', 'value', 'index', 'alignment', 'byte_order')"
   ]
  },
  {
   "cell_type": "markdown",
   "metadata": {},
   "source": [
    "### Save the Field Attributes to an `.ini` File"
   ]
  },
  {
   "cell_type": "code",
   "execution_count": 113,
   "metadata": {},
   "outputs": [],
   "source": [
    "pointer.save('Pointer.ini', nested=True)"
   ]
  },
  {
   "cell_type": "markdown",
   "metadata": {},
   "source": [
    "### Load the Field Value from an `.ini` File"
   ]
  },
  {
   "cell_type": "code",
   "execution_count": 114,
   "metadata": {},
   "outputs": [
    {
     "name": "stdout",
     "output_type": "stream",
     "text": [
      "[Pointer]\n",
      "Pointer.field = 0x0\n",
      "Pointer.data.size = 0\n",
      "Pointer.data.item = 0x0\n",
      "Pointer.data.item.data = \n"
     ]
    }
   ],
   "source": [
    "pointer.load('Pointer.ini', nested=True)"
   ]
  },
  {
   "cell_type": "code",
   "execution_count": null,
   "metadata": {},
   "outputs": [],
   "source": []
  }
 ],
 "metadata": {
  "kernelspec": {
   "display_name": "Python 3",
   "language": "python",
   "name": "python3"
  },
  "language_info": {
   "codemirror_mode": {
    "name": "ipython",
    "version": 3
   },
   "file_extension": ".py",
   "mimetype": "text/x-python",
   "name": "python",
   "nbconvert_exporter": "python",
   "pygments_lexer": "ipython3",
   "version": "3.7.0"
  }
 },
 "nbformat": 4,
 "nbformat_minor": 2
}
