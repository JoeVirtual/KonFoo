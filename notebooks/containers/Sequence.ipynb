{
 "cells": [
  {
   "cell_type": "markdown",
   "metadata": {},
   "source": [
    "# Sequence"
   ]
  },
  {
   "cell_type": "code",
   "execution_count": 1,
   "metadata": {},
   "outputs": [],
   "source": [
    "import json\n",
    "import sys\n",
    "\n",
    "from konfoo import *"
   ]
  },
  {
   "cell_type": "markdown",
   "metadata": {},
   "source": [
    "## YAML Support"
   ]
  },
  {
   "cell_type": "code",
   "execution_count": 2,
   "metadata": {},
   "outputs": [],
   "source": [
    "import oyaml as yaml"
   ]
  },
  {
   "cell_type": "code",
   "execution_count": 3,
   "metadata": {},
   "outputs": [],
   "source": [
    "def to_yaml(container, *attributes, **options):\n",
    "    flow_style = options.pop('flow_style', False)\n",
    "    return yaml.safe_dump(container.view_fields(*attributes, **options), \n",
    "                          stream=sys.stdout, \n",
    "                          default_flow_style=flow_style)"
   ]
  },
  {
   "cell_type": "markdown",
   "metadata": {},
   "source": [
    "## Create a new Sequence"
   ]
  },
  {
   "cell_type": "code",
   "execution_count": 4,
   "metadata": {},
   "outputs": [],
   "source": [
    "sequence = Sequence([Byte(), Unsigned8(), Decimal8(), Char()])"
   ]
  },
  {
   "cell_type": "code",
   "execution_count": 5,
   "metadata": {},
   "outputs": [
    {
     "data": {
      "text/plain": [
       "[('Sequence[0]', '0x0'),\n",
       " ('Sequence[1]', '0x0'),\n",
       " ('Sequence[2]', 0),\n",
       " ('Sequence[3]', '\\x00')]"
      ]
     },
     "execution_count": 5,
     "metadata": {},
     "output_type": "execute_result"
    }
   ],
   "source": [
    "sequence.to_list()"
   ]
  },
  {
   "cell_type": "code",
   "execution_count": 6,
   "metadata": {},
   "outputs": [
    {
     "data": {
      "text/plain": [
       "[{'id': 'Sequence[0]', 'value': '0x0'},\n",
       " {'id': 'Sequence[1]', 'value': '0x0'},\n",
       " {'id': 'Sequence[2]', 'value': 0},\n",
       " {'id': 'Sequence[3]', 'value': '\\x00'}]"
      ]
     },
     "execution_count": 6,
     "metadata": {},
     "output_type": "execute_result"
    }
   ],
   "source": [
    "sequence.to_csv()"
   ]
  },
  {
   "cell_type": "code",
   "execution_count": 7,
   "metadata": {},
   "outputs": [
    {
     "data": {
      "text/plain": [
       "'[\"0x0\", \"0x0\", 0, \"\\\\u0000\"]'"
      ]
     },
     "execution_count": 7,
     "metadata": {},
     "output_type": "execute_result"
    }
   ],
   "source": [
    "sequence.to_json()"
   ]
  },
  {
   "cell_type": "code",
   "execution_count": 8,
   "metadata": {},
   "outputs": [
    {
     "name": "stdout",
     "output_type": "stream",
     "text": [
      "- '0x0'\n",
      "- '0x0'\n",
      "- 0\n",
      "- \"\\0\"\n"
     ]
    }
   ],
   "source": [
    "to_yaml(sequence, flow_style=False)"
   ]
  },
  {
   "cell_type": "markdown",
   "metadata": {},
   "source": [
    "## Append a Member"
   ]
  },
  {
   "cell_type": "code",
   "execution_count": 9,
   "metadata": {},
   "outputs": [],
   "source": [
    "sequence = Sequence()"
   ]
  },
  {
   "cell_type": "code",
   "execution_count": 10,
   "metadata": {},
   "outputs": [],
   "source": [
    "sequence.append(Unsigned8())"
   ]
  },
  {
   "cell_type": "code",
   "execution_count": 11,
   "metadata": {},
   "outputs": [
    {
     "data": {
      "text/plain": [
       "[('Sequence[0]', '0x0')]"
      ]
     },
     "execution_count": 11,
     "metadata": {},
     "output_type": "execute_result"
    }
   ],
   "source": [
    "sequence.to_list()"
   ]
  },
  {
   "cell_type": "code",
   "execution_count": 12,
   "metadata": {},
   "outputs": [
    {
     "data": {
      "text/plain": [
       "[{'id': 'Sequence[0]', 'value': '0x0'}]"
      ]
     },
     "execution_count": 12,
     "metadata": {},
     "output_type": "execute_result"
    }
   ],
   "source": [
    "sequence.to_csv()"
   ]
  },
  {
   "cell_type": "code",
   "execution_count": 13,
   "metadata": {},
   "outputs": [
    {
     "data": {
      "text/plain": [
       "'[\"0x0\"]'"
      ]
     },
     "execution_count": 13,
     "metadata": {},
     "output_type": "execute_result"
    }
   ],
   "source": [
    "sequence.to_json()"
   ]
  },
  {
   "cell_type": "code",
   "execution_count": 14,
   "metadata": {},
   "outputs": [
    {
     "name": "stdout",
     "output_type": "stream",
     "text": [
      "- '0x0'\n"
     ]
    }
   ],
   "source": [
    "to_yaml(sequence, flow_style=False)"
   ]
  },
  {
   "cell_type": "markdown",
   "metadata": {},
   "source": [
    "## Insert a Member"
   ]
  },
  {
   "cell_type": "code",
   "execution_count": 15,
   "metadata": {},
   "outputs": [],
   "source": [
    "sequence.insert(0, Byte())"
   ]
  },
  {
   "cell_type": "code",
   "execution_count": 16,
   "metadata": {},
   "outputs": [
    {
     "data": {
      "text/plain": [
       "[('Sequence[0]', '0x0'), ('Sequence[1]', '0x0')]"
      ]
     },
     "execution_count": 16,
     "metadata": {},
     "output_type": "execute_result"
    }
   ],
   "source": [
    "sequence.to_list()"
   ]
  },
  {
   "cell_type": "code",
   "execution_count": 17,
   "metadata": {},
   "outputs": [
    {
     "data": {
      "text/plain": [
       "[{'id': 'Sequence[0]', 'value': '0x0'}, {'id': 'Sequence[1]', 'value': '0x0'}]"
      ]
     },
     "execution_count": 17,
     "metadata": {},
     "output_type": "execute_result"
    }
   ],
   "source": [
    "sequence.to_csv()"
   ]
  },
  {
   "cell_type": "code",
   "execution_count": 18,
   "metadata": {},
   "outputs": [
    {
     "data": {
      "text/plain": [
       "'[\"0x0\", \"0x0\"]'"
      ]
     },
     "execution_count": 18,
     "metadata": {},
     "output_type": "execute_result"
    }
   ],
   "source": [
    "sequence.to_json()"
   ]
  },
  {
   "cell_type": "code",
   "execution_count": 19,
   "metadata": {},
   "outputs": [
    {
     "name": "stdout",
     "output_type": "stream",
     "text": [
      "- '0x0'\n",
      "- '0x0'\n"
     ]
    }
   ],
   "source": [
    "to_yaml(sequence, flow_style=False)"
   ]
  },
  {
   "cell_type": "markdown",
   "metadata": {},
   "source": [
    "## Extend a Sequence"
   ]
  },
  {
   "cell_type": "code",
   "execution_count": 20,
   "metadata": {},
   "outputs": [],
   "source": [
    "sequence.extend([Decimal8(), Char()])"
   ]
  },
  {
   "cell_type": "code",
   "execution_count": 21,
   "metadata": {},
   "outputs": [
    {
     "data": {
      "text/plain": [
       "[('Sequence[0]', '0x0'),\n",
       " ('Sequence[1]', '0x0'),\n",
       " ('Sequence[2]', 0),\n",
       " ('Sequence[3]', '\\x00')]"
      ]
     },
     "execution_count": 21,
     "metadata": {},
     "output_type": "execute_result"
    }
   ],
   "source": [
    "sequence.to_list()"
   ]
  },
  {
   "cell_type": "code",
   "execution_count": 22,
   "metadata": {},
   "outputs": [
    {
     "data": {
      "text/plain": [
       "[{'id': 'Sequence[0]', 'value': '0x0'},\n",
       " {'id': 'Sequence[1]', 'value': '0x0'},\n",
       " {'id': 'Sequence[2]', 'value': 0},\n",
       " {'id': 'Sequence[3]', 'value': '\\x00'}]"
      ]
     },
     "execution_count": 22,
     "metadata": {},
     "output_type": "execute_result"
    }
   ],
   "source": [
    "sequence.to_csv()"
   ]
  },
  {
   "cell_type": "code",
   "execution_count": 23,
   "metadata": {},
   "outputs": [
    {
     "data": {
      "text/plain": [
       "'[\"0x0\", \"0x0\", 0, \"\\\\u0000\"]'"
      ]
     },
     "execution_count": 23,
     "metadata": {},
     "output_type": "execute_result"
    }
   ],
   "source": [
    "sequence.to_json()"
   ]
  },
  {
   "cell_type": "code",
   "execution_count": 24,
   "metadata": {},
   "outputs": [
    {
     "name": "stdout",
     "output_type": "stream",
     "text": [
      "- '0x0'\n",
      "- '0x0'\n",
      "- 0\n",
      "- \"\\0\"\n"
     ]
    }
   ],
   "source": [
    "to_yaml(sequence, flow_style=False)"
   ]
  },
  {
   "cell_type": "markdown",
   "metadata": {},
   "source": [
    "## Initialize a Sequence"
   ]
  },
  {
   "cell_type": "code",
   "execution_count": 25,
   "metadata": {},
   "outputs": [],
   "source": [
    "sequence.initialize_fields([1, 2, 9, 'F'])"
   ]
  },
  {
   "cell_type": "code",
   "execution_count": 26,
   "metadata": {},
   "outputs": [
    {
     "data": {
      "text/plain": [
       "[('Sequence[0]', '0x1'),\n",
       " ('Sequence[1]', '0x2'),\n",
       " ('Sequence[2]', 9),\n",
       " ('Sequence[3]', 'F')]"
      ]
     },
     "execution_count": 26,
     "metadata": {},
     "output_type": "execute_result"
    }
   ],
   "source": [
    "sequence.to_list()"
   ]
  },
  {
   "cell_type": "code",
   "execution_count": 27,
   "metadata": {},
   "outputs": [
    {
     "data": {
      "text/plain": [
       "[{'id': 'Sequence[0]', 'value': '0x1'},\n",
       " {'id': 'Sequence[1]', 'value': '0x2'},\n",
       " {'id': 'Sequence[2]', 'value': 9},\n",
       " {'id': 'Sequence[3]', 'value': 'F'}]"
      ]
     },
     "execution_count": 27,
     "metadata": {},
     "output_type": "execute_result"
    }
   ],
   "source": [
    "sequence.to_csv()"
   ]
  },
  {
   "cell_type": "code",
   "execution_count": 28,
   "metadata": {},
   "outputs": [
    {
     "data": {
      "text/plain": [
       "'[\"0x1\", \"0x2\", 9, \"F\"]'"
      ]
     },
     "execution_count": 28,
     "metadata": {},
     "output_type": "execute_result"
    }
   ],
   "source": [
    "sequence.to_json()"
   ]
  },
  {
   "cell_type": "code",
   "execution_count": 29,
   "metadata": {},
   "outputs": [
    {
     "name": "stdout",
     "output_type": "stream",
     "text": [
      "- '0x1'\n",
      "- '0x2'\n",
      "- 9\n",
      "- F\n"
     ]
    }
   ],
   "source": [
    "to_yaml(sequence, flow_style=False)"
   ]
  },
  {
   "cell_type": "markdown",
   "metadata": {},
   "source": [
    "## Display a Sequence"
   ]
  },
  {
   "cell_type": "code",
   "execution_count": 30,
   "metadata": {},
   "outputs": [
    {
     "data": {
      "text/plain": [
       "[Byte(index=Index(byte=0, bit=0, address=0, base_address=0, update=False), alignment=Alignment(byte_size=1, bit_offset=0), bit_size=8, value='0x1'), Unsigned8(index=Index(byte=0, bit=0, address=0, base_address=0, update=False), alignment=Alignment(byte_size=1, bit_offset=0), bit_size=8, value='0x2'), Decimal8(index=Index(byte=0, bit=0, address=0, base_address=0, update=False), alignment=Alignment(byte_size=1, bit_offset=0), bit_size=8, value=9), Char(index=Index(byte=0, bit=0, address=0, base_address=0, update=False), alignment=Alignment(byte_size=1, bit_offset=0), bit_size=8, value='F')]"
      ]
     },
     "execution_count": 30,
     "metadata": {},
     "output_type": "execute_result"
    }
   ],
   "source": [
    "sequence"
   ]
  },
  {
   "cell_type": "markdown",
   "metadata": {},
   "source": [
    "## Metadata of a Sequence"
   ]
  },
  {
   "cell_type": "code",
   "execution_count": 31,
   "metadata": {},
   "outputs": [
    {
     "data": {
      "text/plain": [
       "{'class': 'Sequence',\n",
       " 'name': 'Sequence',\n",
       " 'size': 4,\n",
       " 'type': 'Sequence',\n",
       " 'member': [{'address': 0,\n",
       "   'alignment': [1, 0],\n",
       "   'class': 'Byte',\n",
       "   'index': [0, 0],\n",
       "   'max': 255,\n",
       "   'min': 0,\n",
       "   'name': 'Sequence[0]',\n",
       "   'order': 'auto',\n",
       "   'signed': False,\n",
       "   'size': 8,\n",
       "   'type': 'Field',\n",
       "   'value': '0x1'},\n",
       "  {'address': 0,\n",
       "   'alignment': [1, 0],\n",
       "   'class': 'Unsigned8',\n",
       "   'index': [0, 0],\n",
       "   'max': 255,\n",
       "   'min': 0,\n",
       "   'name': 'Sequence[1]',\n",
       "   'order': 'auto',\n",
       "   'signed': False,\n",
       "   'size': 8,\n",
       "   'type': 'Field',\n",
       "   'value': '0x2'},\n",
       "  {'address': 0,\n",
       "   'alignment': [1, 0],\n",
       "   'class': 'Decimal8',\n",
       "   'index': [0, 0],\n",
       "   'max': 255,\n",
       "   'min': 0,\n",
       "   'name': 'Sequence[2]',\n",
       "   'order': 'auto',\n",
       "   'signed': False,\n",
       "   'size': 8,\n",
       "   'type': 'Field',\n",
       "   'value': 9},\n",
       "  {'address': 0,\n",
       "   'alignment': [1, 0],\n",
       "   'class': 'Char',\n",
       "   'index': [0, 0],\n",
       "   'max': 255,\n",
       "   'min': 0,\n",
       "   'name': 'Sequence[3]',\n",
       "   'order': 'auto',\n",
       "   'signed': False,\n",
       "   'size': 8,\n",
       "   'type': 'Field',\n",
       "   'value': 'F'}]}"
      ]
     },
     "execution_count": 31,
     "metadata": {},
     "output_type": "execute_result"
    }
   ],
   "source": [
    "sequence.describe()"
   ]
  },
  {
   "cell_type": "code",
   "execution_count": 32,
   "metadata": {},
   "outputs": [
    {
     "name": "stdout",
     "output_type": "stream",
     "text": [
      "{\n",
      "  \"class\": \"Sequence\",\n",
      "  \"name\": \"Sequence\",\n",
      "  \"size\": 4,\n",
      "  \"type\": \"Sequence\",\n",
      "  \"member\": [\n",
      "    {\n",
      "      \"address\": 0,\n",
      "      \"alignment\": [\n",
      "        1,\n",
      "        0\n",
      "      ],\n",
      "      \"class\": \"Byte\",\n",
      "      \"index\": [\n",
      "        0,\n",
      "        0\n",
      "      ],\n",
      "      \"max\": 255,\n",
      "      \"min\": 0,\n",
      "      \"name\": \"Sequence[0]\",\n",
      "      \"order\": \"auto\",\n",
      "      \"signed\": false,\n",
      "      \"size\": 8,\n",
      "      \"type\": \"Field\",\n",
      "      \"value\": \"0x1\"\n",
      "    },\n",
      "    {\n",
      "      \"address\": 0,\n",
      "      \"alignment\": [\n",
      "        1,\n",
      "        0\n",
      "      ],\n",
      "      \"class\": \"Unsigned8\",\n",
      "      \"index\": [\n",
      "        0,\n",
      "        0\n",
      "      ],\n",
      "      \"max\": 255,\n",
      "      \"min\": 0,\n",
      "      \"name\": \"Sequence[1]\",\n",
      "      \"order\": \"auto\",\n",
      "      \"signed\": false,\n",
      "      \"size\": 8,\n",
      "      \"type\": \"Field\",\n",
      "      \"value\": \"0x2\"\n",
      "    },\n",
      "    {\n",
      "      \"address\": 0,\n",
      "      \"alignment\": [\n",
      "        1,\n",
      "        0\n",
      "      ],\n",
      "      \"class\": \"Decimal8\",\n",
      "      \"index\": [\n",
      "        0,\n",
      "        0\n",
      "      ],\n",
      "      \"max\": 255,\n",
      "      \"min\": 0,\n",
      "      \"name\": \"Sequence[2]\",\n",
      "      \"order\": \"auto\",\n",
      "      \"signed\": false,\n",
      "      \"size\": 8,\n",
      "      \"type\": \"Field\",\n",
      "      \"value\": 9\n",
      "    },\n",
      "    {\n",
      "      \"address\": 0,\n",
      "      \"alignment\": [\n",
      "        1,\n",
      "        0\n",
      "      ],\n",
      "      \"class\": \"Char\",\n",
      "      \"index\": [\n",
      "        0,\n",
      "        0\n",
      "      ],\n",
      "      \"max\": 255,\n",
      "      \"min\": 0,\n",
      "      \"name\": \"Sequence[3]\",\n",
      "      \"order\": \"auto\",\n",
      "      \"signed\": false,\n",
      "      \"size\": 8,\n",
      "      \"type\": \"Field\",\n",
      "      \"value\": \"F\"\n",
      "    }\n",
      "  ]\n",
      "}"
     ]
    }
   ],
   "source": [
    "json.dump(sequence.describe(), sys.stdout, indent=2)"
   ]
  },
  {
   "cell_type": "code",
   "execution_count": 33,
   "metadata": {},
   "outputs": [
    {
     "name": "stdout",
     "output_type": "stream",
     "text": [
      "{\n",
      "  \"class\": \"Sequence\",\n",
      "  \"name\": \"Sequence\",\n",
      "  \"children\": [\n",
      "    {\n",
      "      \"class\": \"Byte\",\n",
      "      \"name\": \"Sequence[0]\",\n",
      "      \"size\": 8,\n",
      "      \"value\": \"0x1\"\n",
      "    },\n",
      "    {\n",
      "      \"class\": \"Unsigned8\",\n",
      "      \"name\": \"Sequence[1]\",\n",
      "      \"size\": 8,\n",
      "      \"value\": \"0x2\"\n",
      "    },\n",
      "    {\n",
      "      \"class\": \"Decimal8\",\n",
      "      \"name\": \"Sequence[2]\",\n",
      "      \"size\": 8,\n",
      "      \"value\": 9\n",
      "    },\n",
      "    {\n",
      "      \"class\": \"Char\",\n",
      "      \"name\": \"Sequence[3]\",\n",
      "      \"size\": 8,\n",
      "      \"value\": \"F\"\n",
      "    }\n",
      "  ]\n",
      "}"
     ]
    }
   ],
   "source": [
    "d3flare_json(sequence.describe(), sys.stdout, indent=2)"
   ]
  },
  {
   "cell_type": "markdown",
   "metadata": {},
   "source": [
    "## Size of a Sequence"
   ]
  },
  {
   "cell_type": "code",
   "execution_count": 34,
   "metadata": {},
   "outputs": [
    {
     "data": {
      "text/plain": [
       "(4, 0)"
      ]
     },
     "execution_count": 34,
     "metadata": {},
     "output_type": "execute_result"
    }
   ],
   "source": [
    "sequence.container_size()"
   ]
  },
  {
   "cell_type": "code",
   "execution_count": 35,
   "metadata": {},
   "outputs": [],
   "source": [
    "num_of_bytes, num_of_remaining_bits = sequence.container_size()"
   ]
  },
  {
   "cell_type": "code",
   "execution_count": 36,
   "metadata": {},
   "outputs": [
    {
     "data": {
      "text/plain": [
       "4"
      ]
     },
     "execution_count": 36,
     "metadata": {},
     "output_type": "execute_result"
    }
   ],
   "source": [
    "num_of_bytes"
   ]
  },
  {
   "cell_type": "code",
   "execution_count": 37,
   "metadata": {},
   "outputs": [
    {
     "data": {
      "text/plain": [
       "0"
      ]
     },
     "execution_count": 37,
     "metadata": {},
     "output_type": "execute_result"
    }
   ],
   "source": [
    "num_of_remaining_bits"
   ]
  },
  {
   "cell_type": "markdown",
   "metadata": {},
   "source": [
    "## Indexing"
   ]
  },
  {
   "cell_type": "code",
   "execution_count": 38,
   "metadata": {},
   "outputs": [
    {
     "data": {
      "text/plain": [
       "[('Sequence[0]',\n",
       "  Index(byte=0, bit=0, address=0, base_address=0, update=False)),\n",
       " ('Sequence[1]',\n",
       "  Index(byte=0, bit=0, address=0, base_address=0, update=False)),\n",
       " ('Sequence[2]',\n",
       "  Index(byte=0, bit=0, address=0, base_address=0, update=False)),\n",
       " ('Sequence[3]',\n",
       "  Index(byte=0, bit=0, address=0, base_address=0, update=False))]"
      ]
     },
     "execution_count": 38,
     "metadata": {},
     "output_type": "execute_result"
    }
   ],
   "source": [
    "sequence.to_list('index')"
   ]
  },
  {
   "cell_type": "code",
   "execution_count": 39,
   "metadata": {},
   "outputs": [
    {
     "data": {
      "text/plain": [
       "[{'id': 'Sequence[0]', 'index': 0, 'offset': 0, 'address': 0},\n",
       " {'id': 'Sequence[1]', 'index': 0, 'offset': 0, 'address': 0},\n",
       " {'id': 'Sequence[2]', 'index': 0, 'offset': 0, 'address': 0},\n",
       " {'id': 'Sequence[3]', 'index': 0, 'offset': 0, 'address': 0}]"
      ]
     },
     "execution_count": 39,
     "metadata": {},
     "output_type": "execute_result"
    }
   ],
   "source": [
    "sequence.to_csv('index.byte', 'index.bit', 'index.address', fieldnames=('id', 'index', 'offset', 'address'))"
   ]
  },
  {
   "cell_type": "code",
   "execution_count": 40,
   "metadata": {},
   "outputs": [
    {
     "data": {
      "text/plain": [
       "'[[0, 0, 0, 0, false], [0, 0, 0, 0, false], [0, 0, 0, 0, false], [0, 0, 0, 0, false]]'"
      ]
     },
     "execution_count": 40,
     "metadata": {},
     "output_type": "execute_result"
    }
   ],
   "source": [
    "sequence.to_json('index')"
   ]
  },
  {
   "cell_type": "code",
   "execution_count": 41,
   "metadata": {},
   "outputs": [
    {
     "data": {
      "text/plain": [
       "Index(byte=4, bit=0, address=4, base_address=0, update=False)"
      ]
     },
     "execution_count": 41,
     "metadata": {},
     "output_type": "execute_result"
    }
   ],
   "source": [
    "sequence.index_fields(index=Index())"
   ]
  },
  {
   "cell_type": "code",
   "execution_count": 42,
   "metadata": {},
   "outputs": [
    {
     "data": {
      "text/plain": [
       "Index(byte=4, bit=0, address=4, base_address=0, update=False)"
      ]
     },
     "execution_count": 42,
     "metadata": {},
     "output_type": "execute_result"
    }
   ],
   "source": [
    "sequence.index_fields()"
   ]
  },
  {
   "cell_type": "code",
   "execution_count": 43,
   "metadata": {},
   "outputs": [
    {
     "data": {
      "text/plain": [
       "[('Sequence[0]',\n",
       "  Index(byte=0, bit=0, address=0, base_address=0, update=False)),\n",
       " ('Sequence[1]',\n",
       "  Index(byte=1, bit=0, address=1, base_address=0, update=False)),\n",
       " ('Sequence[2]',\n",
       "  Index(byte=2, bit=0, address=2, base_address=0, update=False)),\n",
       " ('Sequence[3]',\n",
       "  Index(byte=3, bit=0, address=3, base_address=0, update=False))]"
      ]
     },
     "execution_count": 43,
     "metadata": {},
     "output_type": "execute_result"
    }
   ],
   "source": [
    "sequence.to_list('index')"
   ]
  },
  {
   "cell_type": "code",
   "execution_count": 44,
   "metadata": {},
   "outputs": [
    {
     "data": {
      "text/plain": [
       "[{'id': 'Sequence[0]', 'index': 0, 'offset': 0, 'address': 0},\n",
       " {'id': 'Sequence[1]', 'index': 1, 'offset': 0, 'address': 1},\n",
       " {'id': 'Sequence[2]', 'index': 2, 'offset': 0, 'address': 2},\n",
       " {'id': 'Sequence[3]', 'index': 3, 'offset': 0, 'address': 3}]"
      ]
     },
     "execution_count": 44,
     "metadata": {},
     "output_type": "execute_result"
    }
   ],
   "source": [
    "sequence.to_csv('index.byte', 'index.bit', 'index.address', fieldnames=('id', 'index', 'offset', 'address'))"
   ]
  },
  {
   "cell_type": "code",
   "execution_count": 45,
   "metadata": {},
   "outputs": [
    {
     "data": {
      "text/plain": [
       "'[[0, 0, 0, 0, false], [1, 0, 1, 0, false], [2, 0, 2, 0, false], [3, 0, 3, 0, false]]'"
      ]
     },
     "execution_count": 45,
     "metadata": {},
     "output_type": "execute_result"
    }
   ],
   "source": [
    "sequence.to_json('index')"
   ]
  },
  {
   "cell_type": "markdown",
   "metadata": {},
   "source": [
    "## De-Serializing"
   ]
  },
  {
   "cell_type": "code",
   "execution_count": 46,
   "metadata": {},
   "outputs": [
    {
     "data": {
      "text/plain": [
       "Index(byte=4, bit=0, address=4, base_address=0, update=False)"
      ]
     },
     "execution_count": 46,
     "metadata": {},
     "output_type": "execute_result"
    }
   ],
   "source": [
    "sequence.deserialize(bytes.fromhex('01020946f00f00'))"
   ]
  },
  {
   "cell_type": "code",
   "execution_count": 47,
   "metadata": {},
   "outputs": [
    {
     "data": {
      "text/plain": [
       "[('Sequence[0]', '0x1'),\n",
       " ('Sequence[1]', '0x2'),\n",
       " ('Sequence[2]', 9),\n",
       " ('Sequence[3]', 'F')]"
      ]
     },
     "execution_count": 47,
     "metadata": {},
     "output_type": "execute_result"
    }
   ],
   "source": [
    "sequence.to_list()"
   ]
  },
  {
   "cell_type": "code",
   "execution_count": 48,
   "metadata": {},
   "outputs": [
    {
     "data": {
      "text/plain": [
       "[{'id': 'Sequence[0]', 'value': '0x1'},\n",
       " {'id': 'Sequence[1]', 'value': '0x2'},\n",
       " {'id': 'Sequence[2]', 'value': 9},\n",
       " {'id': 'Sequence[3]', 'value': 'F'}]"
      ]
     },
     "execution_count": 48,
     "metadata": {},
     "output_type": "execute_result"
    }
   ],
   "source": [
    "sequence.to_csv()"
   ]
  },
  {
   "cell_type": "code",
   "execution_count": 49,
   "metadata": {},
   "outputs": [
    {
     "data": {
      "text/plain": [
       "'[\"0x1\", \"0x2\", 9, \"F\"]'"
      ]
     },
     "execution_count": 49,
     "metadata": {},
     "output_type": "execute_result"
    }
   ],
   "source": [
    "sequence.to_json()"
   ]
  },
  {
   "cell_type": "code",
   "execution_count": 50,
   "metadata": {},
   "outputs": [
    {
     "name": "stdout",
     "output_type": "stream",
     "text": [
      "- '0x1'\n",
      "- '0x2'\n",
      "- 9\n",
      "- F\n"
     ]
    }
   ],
   "source": [
    "to_yaml(sequence, flow_style=False)"
   ]
  },
  {
   "cell_type": "markdown",
   "metadata": {},
   "source": [
    "## Serializing"
   ]
  },
  {
   "cell_type": "code",
   "execution_count": 51,
   "metadata": {},
   "outputs": [
    {
     "data": {
      "text/plain": [
       "''"
      ]
     },
     "execution_count": 51,
     "metadata": {},
     "output_type": "execute_result"
    }
   ],
   "source": [
    "bytestream = bytearray()\n",
    "bytestream.hex()"
   ]
  },
  {
   "cell_type": "code",
   "execution_count": 52,
   "metadata": {},
   "outputs": [
    {
     "data": {
      "text/plain": [
       "Index(byte=4, bit=0, address=4, base_address=0, update=False)"
      ]
     },
     "execution_count": 52,
     "metadata": {},
     "output_type": "execute_result"
    }
   ],
   "source": [
    "sequence.serialize(bytestream)"
   ]
  },
  {
   "cell_type": "code",
   "execution_count": 53,
   "metadata": {},
   "outputs": [
    {
     "data": {
      "text/plain": [
       "'01020946'"
      ]
     },
     "execution_count": 53,
     "metadata": {},
     "output_type": "execute_result"
    }
   ],
   "source": [
    "bytes(sequence).hex()"
   ]
  },
  {
   "cell_type": "code",
   "execution_count": 54,
   "metadata": {},
   "outputs": [
    {
     "data": {
      "text/plain": [
       "'01020946'"
      ]
     },
     "execution_count": 54,
     "metadata": {},
     "output_type": "execute_result"
    }
   ],
   "source": [
    "bytestream.hex()"
   ]
  },
  {
   "cell_type": "markdown",
   "metadata": {},
   "source": [
    "## Sequence Members"
   ]
  },
  {
   "cell_type": "markdown",
   "metadata": {},
   "source": [
    "### Number of Members"
   ]
  },
  {
   "cell_type": "code",
   "execution_count": 55,
   "metadata": {},
   "outputs": [
    {
     "data": {
      "text/plain": [
       "4"
      ]
     },
     "execution_count": 55,
     "metadata": {},
     "output_type": "execute_result"
    }
   ],
   "source": [
    "len(sequence)"
   ]
  },
  {
   "cell_type": "markdown",
   "metadata": {},
   "source": [
    "### Access a Member"
   ]
  },
  {
   "cell_type": "code",
   "execution_count": 56,
   "metadata": {},
   "outputs": [
    {
     "data": {
      "text/plain": [
       "Byte(index=Index(byte=0, bit=0, address=0, base_address=0, update=False), alignment=Alignment(byte_size=1, bit_offset=0), bit_size=8, value='0x1')"
      ]
     },
     "execution_count": 56,
     "metadata": {},
     "output_type": "execute_result"
    }
   ],
   "source": [
    "sequence[0]"
   ]
  },
  {
   "cell_type": "markdown",
   "metadata": {},
   "source": [
    "### Access the Attributes of a Member Field"
   ]
  },
  {
   "cell_type": "code",
   "execution_count": 57,
   "metadata": {},
   "outputs": [
    {
     "data": {
      "text/plain": [
       "'Byte'"
      ]
     },
     "execution_count": 57,
     "metadata": {},
     "output_type": "execute_result"
    }
   ],
   "source": [
    "sequence[0].name"
   ]
  },
  {
   "cell_type": "code",
   "execution_count": 58,
   "metadata": {},
   "outputs": [
    {
     "data": {
      "text/plain": [
       "'0x1'"
      ]
     },
     "execution_count": 58,
     "metadata": {},
     "output_type": "execute_result"
    }
   ],
   "source": [
    "sequence[0].value"
   ]
  },
  {
   "cell_type": "code",
   "execution_count": 59,
   "metadata": {},
   "outputs": [
    {
     "data": {
      "text/plain": [
       "8"
      ]
     },
     "execution_count": 59,
     "metadata": {},
     "output_type": "execute_result"
    }
   ],
   "source": [
    "sequence[0].bit_size"
   ]
  },
  {
   "cell_type": "code",
   "execution_count": 60,
   "metadata": {},
   "outputs": [
    {
     "data": {
      "text/plain": [
       "Alignment(byte_size=1, bit_offset=0)"
      ]
     },
     "execution_count": 60,
     "metadata": {},
     "output_type": "execute_result"
    }
   ],
   "source": [
    "sequence[0].alignment"
   ]
  },
  {
   "cell_type": "code",
   "execution_count": 61,
   "metadata": {},
   "outputs": [
    {
     "data": {
      "text/plain": [
       "1"
      ]
     },
     "execution_count": 61,
     "metadata": {},
     "output_type": "execute_result"
    }
   ],
   "source": [
    "sequence[0].alignment.byte_size"
   ]
  },
  {
   "cell_type": "code",
   "execution_count": 62,
   "metadata": {},
   "outputs": [
    {
     "data": {
      "text/plain": [
       "0"
      ]
     },
     "execution_count": 62,
     "metadata": {},
     "output_type": "execute_result"
    }
   ],
   "source": [
    "sequence[0].alignment.bit_offset"
   ]
  },
  {
   "cell_type": "code",
   "execution_count": 63,
   "metadata": {},
   "outputs": [
    {
     "data": {
      "text/plain": [
       "Byteorder.auto = 'auto'"
      ]
     },
     "execution_count": 63,
     "metadata": {},
     "output_type": "execute_result"
    }
   ],
   "source": [
    "sequence[0].byte_order"
   ]
  },
  {
   "cell_type": "code",
   "execution_count": 64,
   "metadata": {},
   "outputs": [
    {
     "data": {
      "text/plain": [
       "'auto'"
      ]
     },
     "execution_count": 64,
     "metadata": {},
     "output_type": "execute_result"
    }
   ],
   "source": [
    "sequence[0].byte_order.value"
   ]
  },
  {
   "cell_type": "code",
   "execution_count": 65,
   "metadata": {},
   "outputs": [
    {
     "data": {
      "text/plain": [
       "Index(byte=0, bit=0, address=0, base_address=0, update=False)"
      ]
     },
     "execution_count": 65,
     "metadata": {},
     "output_type": "execute_result"
    }
   ],
   "source": [
    "sequence[0].index"
   ]
  },
  {
   "cell_type": "code",
   "execution_count": 66,
   "metadata": {},
   "outputs": [
    {
     "data": {
      "text/plain": [
       "0"
      ]
     },
     "execution_count": 66,
     "metadata": {},
     "output_type": "execute_result"
    }
   ],
   "source": [
    "sequence[0].index.byte"
   ]
  },
  {
   "cell_type": "code",
   "execution_count": 67,
   "metadata": {},
   "outputs": [
    {
     "data": {
      "text/plain": [
       "0"
      ]
     },
     "execution_count": 67,
     "metadata": {},
     "output_type": "execute_result"
    }
   ],
   "source": [
    "sequence[0].index.bit"
   ]
  },
  {
   "cell_type": "code",
   "execution_count": 68,
   "metadata": {},
   "outputs": [
    {
     "data": {
      "text/plain": [
       "0"
      ]
     },
     "execution_count": 68,
     "metadata": {},
     "output_type": "execute_result"
    }
   ],
   "source": [
    "sequence[0].index.address"
   ]
  },
  {
   "cell_type": "code",
   "execution_count": 69,
   "metadata": {},
   "outputs": [
    {
     "data": {
      "text/plain": [
       "0"
      ]
     },
     "execution_count": 69,
     "metadata": {},
     "output_type": "execute_result"
    }
   ],
   "source": [
    "sequence[0].index.base_address"
   ]
  },
  {
   "cell_type": "code",
   "execution_count": 70,
   "metadata": {},
   "outputs": [
    {
     "data": {
      "text/plain": [
       "False"
      ]
     },
     "execution_count": 70,
     "metadata": {},
     "output_type": "execute_result"
    }
   ],
   "source": [
    "sequence[0].index.update"
   ]
  },
  {
   "cell_type": "markdown",
   "metadata": {},
   "source": [
    "### List the Members"
   ]
  },
  {
   "cell_type": "code",
   "execution_count": 71,
   "metadata": {},
   "outputs": [
    {
     "data": {
      "text/plain": [
       "[ItemClass.Byte = 42,\n",
       " ItemClass.Unsigned = 45,\n",
       " ItemClass.Decimal = 40,\n",
       " ItemClass.Char = 43]"
      ]
     },
     "execution_count": 71,
     "metadata": {},
     "output_type": "execute_result"
    }
   ],
   "source": [
    "[member.item_type for member in sequence]"
   ]
  },
  {
   "cell_type": "markdown",
   "metadata": {},
   "source": [
    "## Sequence Fields"
   ]
  },
  {
   "cell_type": "markdown",
   "metadata": {},
   "source": [
    "### View Field Attributes"
   ]
  },
  {
   "cell_type": "code",
   "execution_count": 72,
   "metadata": {},
   "outputs": [
    {
     "data": {
      "text/plain": [
       "['0x1', '0x2', 9, 'F']"
      ]
     },
     "execution_count": 72,
     "metadata": {},
     "output_type": "execute_result"
    }
   ],
   "source": [
    "sequence.view_fields()"
   ]
  },
  {
   "cell_type": "code",
   "execution_count": 73,
   "metadata": {},
   "outputs": [
    {
     "data": {
      "text/plain": [
       "[{'name': 'Byte',\n",
       "  'bit_size': 8,\n",
       "  'value': '0x1',\n",
       "  'index': Index(byte=0, bit=0, address=0, base_address=0, update=False),\n",
       "  'alignment': Alignment(byte_size=1, bit_offset=0),\n",
       "  'byte_order.name': 'auto'},\n",
       " {'name': 'Unsigned8',\n",
       "  'bit_size': 8,\n",
       "  'value': '0x2',\n",
       "  'index': Index(byte=1, bit=0, address=1, base_address=0, update=False),\n",
       "  'alignment': Alignment(byte_size=1, bit_offset=0),\n",
       "  'byte_order.name': 'auto'},\n",
       " {'name': 'Decimal8',\n",
       "  'bit_size': 8,\n",
       "  'value': 9,\n",
       "  'index': Index(byte=2, bit=0, address=2, base_address=0, update=False),\n",
       "  'alignment': Alignment(byte_size=1, bit_offset=0),\n",
       "  'byte_order.name': 'auto'},\n",
       " {'name': 'Char',\n",
       "  'bit_size': 8,\n",
       "  'value': 'F',\n",
       "  'index': Index(byte=3, bit=0, address=3, base_address=0, update=False),\n",
       "  'alignment': Alignment(byte_size=1, bit_offset=0),\n",
       "  'byte_order.name': 'auto'}]"
      ]
     },
     "execution_count": 73,
     "metadata": {},
     "output_type": "execute_result"
    }
   ],
   "source": [
    "sequence.view_fields('name', 'bit_size', 'value', 'index', 'alignment', 'byte_order.name')"
   ]
  },
  {
   "cell_type": "markdown",
   "metadata": {},
   "source": [
    "### View as a JSON string"
   ]
  },
  {
   "cell_type": "code",
   "execution_count": 74,
   "metadata": {},
   "outputs": [
    {
     "data": {
      "text/plain": [
       "'[\"0x1\", \"0x2\", 9, \"F\"]'"
      ]
     },
     "execution_count": 74,
     "metadata": {},
     "output_type": "execute_result"
    }
   ],
   "source": [
    "sequence.to_json()"
   ]
  },
  {
   "cell_type": "code",
   "execution_count": 75,
   "metadata": {},
   "outputs": [
    {
     "name": "stdout",
     "output_type": "stream",
     "text": [
      "[\n",
      "  \"0x1\",\n",
      "  \"0x2\",\n",
      "  9,\n",
      "  \"F\"\n",
      "]\n"
     ]
    }
   ],
   "source": [
    "print(sequence.to_json(indent=2))"
   ]
  },
  {
   "cell_type": "code",
   "execution_count": 76,
   "metadata": {},
   "outputs": [
    {
     "data": {
      "text/plain": [
       "'[{\"name\": \"Byte\", \"bit_size\": 8, \"value\": \"0x1\", \"index\": [0, 0, 0, 0, false], \"alignment\": [1, 0], \"byte_order\": \"auto\"}, {\"name\": \"Unsigned8\", \"bit_size\": 8, \"value\": \"0x2\", \"index\": [1, 0, 1, 0, false], \"alignment\": [1, 0], \"byte_order\": \"auto\"}, {\"name\": \"Decimal8\", \"bit_size\": 8, \"value\": 9, \"index\": [2, 0, 2, 0, false], \"alignment\": [1, 0], \"byte_order\": \"auto\"}, {\"name\": \"Char\", \"bit_size\": 8, \"value\": \"F\", \"index\": [3, 0, 3, 0, false], \"alignment\": [1, 0], \"byte_order\": \"auto\"}]'"
      ]
     },
     "execution_count": 76,
     "metadata": {},
     "output_type": "execute_result"
    }
   ],
   "source": [
    "sequence.to_json('name', 'bit_size', 'value', 'index', 'alignment', 'byte_order')"
   ]
  },
  {
   "cell_type": "code",
   "execution_count": 77,
   "metadata": {},
   "outputs": [
    {
     "name": "stdout",
     "output_type": "stream",
     "text": [
      "[\n",
      "  {\n",
      "    \"name\": \"Byte\",\n",
      "    \"bit_size\": 8,\n",
      "    \"value\": \"0x1\",\n",
      "    \"index\": [\n",
      "      0,\n",
      "      0,\n",
      "      0,\n",
      "      0,\n",
      "      false\n",
      "    ],\n",
      "    \"alignment\": [\n",
      "      1,\n",
      "      0\n",
      "    ],\n",
      "    \"byte_order\": \"auto\"\n",
      "  },\n",
      "  {\n",
      "    \"name\": \"Unsigned8\",\n",
      "    \"bit_size\": 8,\n",
      "    \"value\": \"0x2\",\n",
      "    \"index\": [\n",
      "      1,\n",
      "      0,\n",
      "      1,\n",
      "      0,\n",
      "      false\n",
      "    ],\n",
      "    \"alignment\": [\n",
      "      1,\n",
      "      0\n",
      "    ],\n",
      "    \"byte_order\": \"auto\"\n",
      "  },\n",
      "  {\n",
      "    \"name\": \"Decimal8\",\n",
      "    \"bit_size\": 8,\n",
      "    \"value\": 9,\n",
      "    \"index\": [\n",
      "      2,\n",
      "      0,\n",
      "      2,\n",
      "      0,\n",
      "      false\n",
      "    ],\n",
      "    \"alignment\": [\n",
      "      1,\n",
      "      0\n",
      "    ],\n",
      "    \"byte_order\": \"auto\"\n",
      "  },\n",
      "  {\n",
      "    \"name\": \"Char\",\n",
      "    \"bit_size\": 8,\n",
      "    \"value\": \"F\",\n",
      "    \"index\": [\n",
      "      3,\n",
      "      0,\n",
      "      3,\n",
      "      0,\n",
      "      false\n",
      "    ],\n",
      "    \"alignment\": [\n",
      "      1,\n",
      "      0\n",
      "    ],\n",
      "    \"byte_order\": \"auto\"\n",
      "  }\n",
      "]\n"
     ]
    }
   ],
   "source": [
    "print(sequence.to_json('name', 'bit_size', 'value', 'index', 'alignment', 'byte_order', indent=2))"
   ]
  },
  {
   "cell_type": "markdown",
   "metadata": {},
   "source": [
    "### Write to a JSON file"
   ]
  },
  {
   "cell_type": "code",
   "execution_count": 78,
   "metadata": {},
   "outputs": [],
   "source": [
    "sequence.write_json('Sequence.json')"
   ]
  },
  {
   "cell_type": "markdown",
   "metadata": {},
   "source": [
    "### List the Field Items"
   ]
  },
  {
   "cell_type": "code",
   "execution_count": 79,
   "metadata": {},
   "outputs": [
    {
     "data": {
      "text/plain": [
       "[('[0]',\n",
       "  Byte(index=Index(byte=0, bit=0, address=0, base_address=0, update=False), alignment=Alignment(byte_size=1, bit_offset=0), bit_size=8, value='0x1')),\n",
       " ('[1]',\n",
       "  Unsigned8(index=Index(byte=1, bit=0, address=1, base_address=0, update=False), alignment=Alignment(byte_size=1, bit_offset=0), bit_size=8, value='0x2')),\n",
       " ('[2]',\n",
       "  Decimal8(index=Index(byte=2, bit=0, address=2, base_address=0, update=False), alignment=Alignment(byte_size=1, bit_offset=0), bit_size=8, value=9)),\n",
       " ('[3]',\n",
       "  Char(index=Index(byte=3, bit=0, address=3, base_address=0, update=False), alignment=Alignment(byte_size=1, bit_offset=0), bit_size=8, value='F'))]"
      ]
     },
     "execution_count": 79,
     "metadata": {},
     "output_type": "execute_result"
    }
   ],
   "source": [
    "sequence.field_items()"
   ]
  },
  {
   "cell_type": "markdown",
   "metadata": {},
   "source": [
    "### List the Field Attributes"
   ]
  },
  {
   "cell_type": "code",
   "execution_count": 80,
   "metadata": {},
   "outputs": [
    {
     "data": {
      "text/plain": [
       "[('Sequence[0]', '0x1'),\n",
       " ('Sequence[1]', '0x2'),\n",
       " ('Sequence[2]', 9),\n",
       " ('Sequence[3]', 'F')]"
      ]
     },
     "execution_count": 80,
     "metadata": {},
     "output_type": "execute_result"
    }
   ],
   "source": [
    "sequence.to_list()"
   ]
  },
  {
   "cell_type": "code",
   "execution_count": 81,
   "metadata": {},
   "outputs": [
    {
     "data": {
      "text/plain": [
       "[('Sequence[0]',\n",
       "  ('Byte',\n",
       "   8,\n",
       "   '0x1',\n",
       "   Index(byte=0, bit=0, address=0, base_address=0, update=False),\n",
       "   Alignment(byte_size=1, bit_offset=0),\n",
       "   Byteorder.auto = 'auto')),\n",
       " ('Sequence[1]',\n",
       "  ('Unsigned8',\n",
       "   8,\n",
       "   '0x2',\n",
       "   Index(byte=1, bit=0, address=1, base_address=0, update=False),\n",
       "   Alignment(byte_size=1, bit_offset=0),\n",
       "   Byteorder.auto = 'auto')),\n",
       " ('Sequence[2]',\n",
       "  ('Decimal8',\n",
       "   8,\n",
       "   9,\n",
       "   Index(byte=2, bit=0, address=2, base_address=0, update=False),\n",
       "   Alignment(byte_size=1, bit_offset=0),\n",
       "   Byteorder.auto = 'auto')),\n",
       " ('Sequence[3]',\n",
       "  ('Char',\n",
       "   8,\n",
       "   'F',\n",
       "   Index(byte=3, bit=0, address=3, base_address=0, update=False),\n",
       "   Alignment(byte_size=1, bit_offset=0),\n",
       "   Byteorder.auto = 'auto'))]"
      ]
     },
     "execution_count": 81,
     "metadata": {},
     "output_type": "execute_result"
    }
   ],
   "source": [
    "sequence.to_list('name', 'bit_size', 'value', 'index', 'alignment', 'byte_order')"
   ]
  },
  {
   "cell_type": "code",
   "execution_count": 82,
   "metadata": {},
   "outputs": [
    {
     "data": {
      "text/plain": [
       "{'Sequence': {'[0]': '0x1', '[1]': '0x2', '[2]': 9, '[3]': 'F'}}"
      ]
     },
     "execution_count": 82,
     "metadata": {},
     "output_type": "execute_result"
    }
   ],
   "source": [
    "sequence.to_dict()"
   ]
  },
  {
   "cell_type": "code",
   "execution_count": 83,
   "metadata": {},
   "outputs": [
    {
     "data": {
      "text/plain": [
       "{'Sequence': {'[0]': ('Byte',\n",
       "   8,\n",
       "   '0x1',\n",
       "   Index(byte=0, bit=0, address=0, base_address=0, update=False),\n",
       "   Alignment(byte_size=1, bit_offset=0),\n",
       "   Byteorder.auto = 'auto'),\n",
       "  '[1]': ('Unsigned8',\n",
       "   8,\n",
       "   '0x2',\n",
       "   Index(byte=1, bit=0, address=1, base_address=0, update=False),\n",
       "   Alignment(byte_size=1, bit_offset=0),\n",
       "   Byteorder.auto = 'auto'),\n",
       "  '[2]': ('Decimal8',\n",
       "   8,\n",
       "   9,\n",
       "   Index(byte=2, bit=0, address=2, base_address=0, update=False),\n",
       "   Alignment(byte_size=1, bit_offset=0),\n",
       "   Byteorder.auto = 'auto'),\n",
       "  '[3]': ('Char',\n",
       "   8,\n",
       "   'F',\n",
       "   Index(byte=3, bit=0, address=3, base_address=0, update=False),\n",
       "   Alignment(byte_size=1, bit_offset=0),\n",
       "   Byteorder.auto = 'auto')}}"
      ]
     },
     "execution_count": 83,
     "metadata": {},
     "output_type": "execute_result"
    }
   ],
   "source": [
    "sequence.to_dict('name', 'bit_size', 'value', 'index', 'alignment', 'byte_order')"
   ]
  },
  {
   "cell_type": "code",
   "execution_count": 84,
   "metadata": {},
   "outputs": [
    {
     "data": {
      "text/plain": [
       "[{'id': 'Sequence[0]', 'value': '0x1'},\n",
       " {'id': 'Sequence[1]', 'value': '0x2'},\n",
       " {'id': 'Sequence[2]', 'value': 9},\n",
       " {'id': 'Sequence[3]', 'value': 'F'}]"
      ]
     },
     "execution_count": 84,
     "metadata": {},
     "output_type": "execute_result"
    }
   ],
   "source": [
    "sequence.to_csv()"
   ]
  },
  {
   "cell_type": "code",
   "execution_count": 85,
   "metadata": {},
   "outputs": [
    {
     "data": {
      "text/plain": [
       "[{'id': 'Sequence[0]', 'type': 'Byte', 'size': 8, 'value': '0x1'},\n",
       " {'id': 'Sequence[1]', 'type': 'Unsigned8', 'size': 8, 'value': '0x2'},\n",
       " {'id': 'Sequence[2]', 'type': 'Decimal8', 'size': 8, 'value': 9},\n",
       " {'id': 'Sequence[3]', 'type': 'Char', 'size': 8, 'value': 'F'}]"
      ]
     },
     "execution_count": 85,
     "metadata": {},
     "output_type": "execute_result"
    }
   ],
   "source": [
    "sequence.to_csv('name', 'bit_size', 'value', fieldnames=('id', 'type', 'size', 'value'))"
   ]
  },
  {
   "cell_type": "markdown",
   "metadata": {},
   "source": [
    "### Write the Field Attributes to a `.csv` File"
   ]
  },
  {
   "cell_type": "code",
   "execution_count": 86,
   "metadata": {},
   "outputs": [],
   "source": [
    "sequence.write_csv('Sequence.csv', 'name', 'bit_size', 'value', fieldnames=('id', 'type', 'size', 'value'))"
   ]
  },
  {
   "cell_type": "markdown",
   "metadata": {},
   "source": [
    "### Save the Field Attributes to an `.ini` File"
   ]
  },
  {
   "cell_type": "code",
   "execution_count": 87,
   "metadata": {},
   "outputs": [],
   "source": [
    "sequence.save('Sequence.ini')"
   ]
  },
  {
   "cell_type": "markdown",
   "metadata": {},
   "source": [
    "### Load the Field Value from an `.ini` File"
   ]
  },
  {
   "cell_type": "code",
   "execution_count": 88,
   "metadata": {},
   "outputs": [
    {
     "name": "stdout",
     "output_type": "stream",
     "text": [
      "[Sequence]\n",
      "Sequence[0] = 0x1\n",
      "Sequence[1] = 0x2\n",
      "Sequence[2] = 9\n",
      "Sequence[3] = F\n"
     ]
    }
   ],
   "source": [
    "sequence.load('Sequence.ini')"
   ]
  },
  {
   "cell_type": "code",
   "execution_count": null,
   "metadata": {},
   "outputs": [],
   "source": []
  }
 ],
 "metadata": {
  "kernelspec": {
   "display_name": "Python 3 (ipykernel)",
   "language": "python",
   "name": "python3"
  },
  "language_info": {
   "codemirror_mode": {
    "name": "ipython",
    "version": 3
   },
   "file_extension": ".py",
   "mimetype": "text/x-python",
   "name": "python",
   "nbconvert_exporter": "python",
   "pygments_lexer": "ipython3",
   "version": "3.9.13"
  }
 },
 "nbformat": 4,
 "nbformat_minor": 4
}
