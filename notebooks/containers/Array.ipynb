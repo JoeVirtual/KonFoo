{
 "cells": [
  {
   "cell_type": "markdown",
   "metadata": {},
   "source": [
    "# Array"
   ]
  },
  {
   "cell_type": "code",
   "execution_count": 1,
   "metadata": {},
   "outputs": [],
   "source": [
    "import copy\n",
    "import json\n",
    "import sys\n",
    "\n",
    "from konfoo import *"
   ]
  },
  {
   "cell_type": "markdown",
   "metadata": {},
   "source": [
    "## YAML Support"
   ]
  },
  {
   "cell_type": "code",
   "execution_count": 2,
   "metadata": {},
   "outputs": [],
   "source": [
    "import oyaml as yaml"
   ]
  },
  {
   "cell_type": "code",
   "execution_count": 3,
   "metadata": {},
   "outputs": [],
   "source": [
    "def to_yaml(container, *attributes, **options):\n",
    "    flow_style = options.pop('flow_style', False)\n",
    "    return yaml.safe_dump(container.view_fields(*attributes, **options), \n",
    "                          stream=sys.stdout, \n",
    "                          default_flow_style=flow_style)"
   ]
  },
  {
   "cell_type": "markdown",
   "metadata": {},
   "source": [
    "## Create an Array"
   ]
  },
  {
   "cell_type": "code",
   "execution_count": 4,
   "metadata": {},
   "outputs": [],
   "source": [
    "array = Array(template=Byte, capacity=4)\n",
    "array = Array(Byte, 4)"
   ]
  },
  {
   "cell_type": "code",
   "execution_count": 5,
   "metadata": {},
   "outputs": [
    {
     "data": {
      "text/plain": [
       "[('Array[0]', '0x0'),\n",
       " ('Array[1]', '0x0'),\n",
       " ('Array[2]', '0x0'),\n",
       " ('Array[3]', '0x0')]"
      ]
     },
     "execution_count": 5,
     "metadata": {},
     "output_type": "execute_result"
    }
   ],
   "source": [
    "array.to_list()"
   ]
  },
  {
   "cell_type": "code",
   "execution_count": 6,
   "metadata": {},
   "outputs": [
    {
     "data": {
      "text/plain": [
       "[{'id': 'Array[0]', 'value': '0x0'},\n",
       " {'id': 'Array[1]', 'value': '0x0'},\n",
       " {'id': 'Array[2]', 'value': '0x0'},\n",
       " {'id': 'Array[3]', 'value': '0x0'}]"
      ]
     },
     "execution_count": 6,
     "metadata": {},
     "output_type": "execute_result"
    }
   ],
   "source": [
    "array.to_csv()"
   ]
  },
  {
   "cell_type": "code",
   "execution_count": 7,
   "metadata": {},
   "outputs": [
    {
     "data": {
      "text/plain": [
       "'[\"0x0\", \"0x0\", \"0x0\", \"0x0\"]'"
      ]
     },
     "execution_count": 7,
     "metadata": {},
     "output_type": "execute_result"
    }
   ],
   "source": [
    "array.to_json()"
   ]
  },
  {
   "cell_type": "code",
   "execution_count": 8,
   "metadata": {},
   "outputs": [
    {
     "name": "stdout",
     "output_type": "stream",
     "text": [
      "- '0x0'\n",
      "- '0x0'\n",
      "- '0x0'\n",
      "- '0x0'\n"
     ]
    }
   ],
   "source": [
    "to_yaml(array, flow_style=False)"
   ]
  },
  {
   "cell_type": "markdown",
   "metadata": {},
   "source": [
    "## Create an Array of Pointers"
   ]
  },
  {
   "cell_type": "markdown",
   "metadata": {},
   "source": [
    "Define a concrete `data object pointer` class and use the **class** as the `array element` *template*."
   ]
  },
  {
   "cell_type": "code",
   "execution_count": 9,
   "metadata": {},
   "outputs": [],
   "source": [
    "class BytePointer(Pointer):\n",
    "    def __init__(self):\n",
    "        super().__init__(Byte())"
   ]
  },
  {
   "cell_type": "code",
   "execution_count": 10,
   "metadata": {},
   "outputs": [],
   "source": [
    "array = Array(BytePointer, 2)"
   ]
  },
  {
   "cell_type": "code",
   "execution_count": 11,
   "metadata": {},
   "outputs": [
    {
     "data": {
      "text/plain": [
       "[('Array[0]', '0x0'),\n",
       " ('Array[0].data', '0x0'),\n",
       " ('Array[1]', '0x0'),\n",
       " ('Array[1].data', '0x0')]"
      ]
     },
     "execution_count": 11,
     "metadata": {},
     "output_type": "execute_result"
    }
   ],
   "source": [
    "array.to_list(nested=True)"
   ]
  },
  {
   "cell_type": "code",
   "execution_count": 12,
   "metadata": {},
   "outputs": [
    {
     "data": {
      "text/plain": [
       "[{'id': 'Array[0]', 'value': '0x0'},\n",
       " {'id': 'Array[0].data', 'value': '0x0'},\n",
       " {'id': 'Array[1]', 'value': '0x0'},\n",
       " {'id': 'Array[1].data', 'value': '0x0'}]"
      ]
     },
     "execution_count": 12,
     "metadata": {},
     "output_type": "execute_result"
    }
   ],
   "source": [
    "array.to_csv(nested=True)"
   ]
  },
  {
   "cell_type": "code",
   "execution_count": 13,
   "metadata": {},
   "outputs": [
    {
     "data": {
      "text/plain": [
       "'[{\"value\": \"0x0\", \"data\": \"0x0\"}, {\"value\": \"0x0\", \"data\": \"0x0\"}]'"
      ]
     },
     "execution_count": 13,
     "metadata": {},
     "output_type": "execute_result"
    }
   ],
   "source": [
    "array.to_json(nested=True)"
   ]
  },
  {
   "cell_type": "code",
   "execution_count": 14,
   "metadata": {},
   "outputs": [
    {
     "name": "stdout",
     "output_type": "stream",
     "text": [
      "- value: '0x0'\n",
      "  data: '0x0'\n",
      "- value: '0x0'\n",
      "  data: '0x0'\n"
     ]
    }
   ],
   "source": [
    "to_yaml(array, nested=True, flow_style=False)"
   ]
  },
  {
   "cell_type": "code",
   "execution_count": 15,
   "metadata": {},
   "outputs": [],
   "source": [
    "array[0].value = 1"
   ]
  },
  {
   "cell_type": "code",
   "execution_count": 16,
   "metadata": {},
   "outputs": [],
   "source": [
    "array[0].data.value = 2"
   ]
  },
  {
   "cell_type": "code",
   "execution_count": 17,
   "metadata": {},
   "outputs": [
    {
     "data": {
      "text/plain": [
       "[('Array[0]', '0x1'),\n",
       " ('Array[0].data', '0x2'),\n",
       " ('Array[1]', '0x0'),\n",
       " ('Array[1].data', '0x0')]"
      ]
     },
     "execution_count": 17,
     "metadata": {},
     "output_type": "execute_result"
    }
   ],
   "source": [
    "array.to_list(nested=True)"
   ]
  },
  {
   "cell_type": "code",
   "execution_count": 18,
   "metadata": {},
   "outputs": [
    {
     "data": {
      "text/plain": [
       "[{'id': 'Array[0]', 'value': '0x1'},\n",
       " {'id': 'Array[0].data', 'value': '0x2'},\n",
       " {'id': 'Array[1]', 'value': '0x0'},\n",
       " {'id': 'Array[1].data', 'value': '0x0'}]"
      ]
     },
     "execution_count": 18,
     "metadata": {},
     "output_type": "execute_result"
    }
   ],
   "source": [
    "array.to_csv(nested=True)"
   ]
  },
  {
   "cell_type": "code",
   "execution_count": 19,
   "metadata": {},
   "outputs": [
    {
     "data": {
      "text/plain": [
       "'[{\"value\": \"0x1\", \"data\": \"0x2\"}, {\"value\": \"0x0\", \"data\": \"0x0\"}]'"
      ]
     },
     "execution_count": 19,
     "metadata": {},
     "output_type": "execute_result"
    }
   ],
   "source": [
    "array.to_json(nested=True)"
   ]
  },
  {
   "cell_type": "code",
   "execution_count": 20,
   "metadata": {},
   "outputs": [
    {
     "name": "stdout",
     "output_type": "stream",
     "text": [
      "- value: '0x1'\n",
      "  data: '0x2'\n",
      "- value: '0x0'\n",
      "  data: '0x0'\n"
     ]
    }
   ],
   "source": [
    "to_yaml(array, nested=True, flow_style=False)"
   ]
  },
  {
   "cell_type": "markdown",
   "metadata": {},
   "source": [
    "## Create an Array with nested Members"
   ]
  },
  {
   "cell_type": "markdown",
   "metadata": {},
   "source": [
    "### The Wrong Way: Created with an Instance"
   ]
  },
  {
   "cell_type": "code",
   "execution_count": 21,
   "metadata": {},
   "outputs": [],
   "source": [
    "array = Array(Pointer(Byte()), 2)"
   ]
  },
  {
   "cell_type": "code",
   "execution_count": 22,
   "metadata": {},
   "outputs": [
    {
     "data": {
      "text/plain": [
       "[('Array[0]', '0x0'),\n",
       " ('Array[0].data', '0x0'),\n",
       " ('Array[1]', '0x0'),\n",
       " ('Array[1].data', '0x0')]"
      ]
     },
     "execution_count": 22,
     "metadata": {},
     "output_type": "execute_result"
    }
   ],
   "source": [
    "array.to_list(nested=True)"
   ]
  },
  {
   "cell_type": "code",
   "execution_count": 23,
   "metadata": {},
   "outputs": [
    {
     "data": {
      "text/plain": [
       "[{'id': 'Array[0]', 'value': '0x0'},\n",
       " {'id': 'Array[0].data', 'value': '0x0'},\n",
       " {'id': 'Array[1]', 'value': '0x0'},\n",
       " {'id': 'Array[1].data', 'value': '0x0'}]"
      ]
     },
     "execution_count": 23,
     "metadata": {},
     "output_type": "execute_result"
    }
   ],
   "source": [
    "array.to_csv(nested=True)"
   ]
  },
  {
   "cell_type": "code",
   "execution_count": 24,
   "metadata": {},
   "outputs": [
    {
     "data": {
      "text/plain": [
       "'[{\"value\": \"0x0\", \"data\": \"0x0\"}, {\"value\": \"0x0\", \"data\": \"0x0\"}]'"
      ]
     },
     "execution_count": 24,
     "metadata": {},
     "output_type": "execute_result"
    }
   ],
   "source": [
    "array.to_json(nested=True)"
   ]
  },
  {
   "cell_type": "code",
   "execution_count": 25,
   "metadata": {},
   "outputs": [
    {
     "name": "stdout",
     "output_type": "stream",
     "text": [
      "- value: '0x0'\n",
      "  data: '0x0'\n",
      "- value: '0x0'\n",
      "  data: '0x0'\n"
     ]
    }
   ],
   "source": [
    "to_yaml(array, nested=True, flow_style=False)"
   ]
  },
  {
   "cell_type": "code",
   "execution_count": 26,
   "metadata": {},
   "outputs": [],
   "source": [
    "array[0].value = 1"
   ]
  },
  {
   "cell_type": "code",
   "execution_count": 27,
   "metadata": {},
   "outputs": [],
   "source": [
    "array[0].data.value = 2"
   ]
  },
  {
   "cell_type": "code",
   "execution_count": 28,
   "metadata": {},
   "outputs": [
    {
     "data": {
      "text/plain": [
       "[('Array[0]', '0x1'),\n",
       " ('Array[0].data', '0x2'),\n",
       " ('Array[1]', '0x0'),\n",
       " ('Array[1].data', '0x2')]"
      ]
     },
     "execution_count": 28,
     "metadata": {},
     "output_type": "execute_result"
    }
   ],
   "source": [
    "array.to_list(nested=True)"
   ]
  },
  {
   "cell_type": "code",
   "execution_count": 29,
   "metadata": {},
   "outputs": [
    {
     "data": {
      "text/plain": [
       "[{'id': 'Array[0]', 'value': '0x1'},\n",
       " {'id': 'Array[0].data', 'value': '0x2'},\n",
       " {'id': 'Array[1]', 'value': '0x0'},\n",
       " {'id': 'Array[1].data', 'value': '0x2'}]"
      ]
     },
     "execution_count": 29,
     "metadata": {},
     "output_type": "execute_result"
    }
   ],
   "source": [
    "array.to_csv(nested=True)"
   ]
  },
  {
   "cell_type": "code",
   "execution_count": 30,
   "metadata": {},
   "outputs": [
    {
     "data": {
      "text/plain": [
       "'[{\"value\": \"0x1\", \"data\": \"0x2\"}, {\"value\": \"0x0\", \"data\": \"0x2\"}]'"
      ]
     },
     "execution_count": 30,
     "metadata": {},
     "output_type": "execute_result"
    }
   ],
   "source": [
    "array.to_json(nested=True)"
   ]
  },
  {
   "cell_type": "code",
   "execution_count": 31,
   "metadata": {},
   "outputs": [
    {
     "name": "stdout",
     "output_type": "stream",
     "text": [
      "- value: '0x1'\n",
      "  data: '0x2'\n",
      "- value: '0x0'\n",
      "  data: '0x2'\n"
     ]
    }
   ],
   "source": [
    "to_yaml(array, nested=True, flow_style=False)"
   ]
  },
  {
   "cell_type": "markdown",
   "metadata": {},
   "source": [
    "### The Right Way: Created with a Factory"
   ]
  },
  {
   "cell_type": "markdown",
   "metadata": {},
   "source": [
    "Define a `factory` for the `array element` *template* of the `array`."
   ]
  },
  {
   "cell_type": "code",
   "execution_count": 32,
   "metadata": {},
   "outputs": [],
   "source": [
    "class FieldPointerFactory:\n",
    "    \"\"\" A factory class to produce a pointer array element to any field. \"\"\"\n",
    "    \n",
    "    def __init__(self, template):\n",
    "        # Data object: field template (instance or class).\n",
    "        self.template = template\n",
    "        \n",
    "    def _create_data_object(self):\n",
    "        \"\"\" Produces the data object attached to the pointer. \"\"\"\n",
    "        if is_field(self.template):\n",
    "            # Copy data object instance from instance template\n",
    "            return copy.copy(self.template)\n",
    "        elif callable(self.template):\n",
    "            # Create data object instance from class template\n",
    "            data_object = self.template()\n",
    "            if is_field(data_object):\n",
    "                return data_object\n",
    "            else:\n",
    "                raise FactoryTypeError(self, self.template, data_object)\n",
    "        else:\n",
    "            raise MemberTypeError(self, self.template)\n",
    "                                       \n",
    "    def __call__(self):                                                      \n",
    "        \"\"\" Produces the array element. \"\"\"\n",
    "        return Pointer(self._create_data_object())"
   ]
  },
  {
   "cell_type": "code",
   "execution_count": 33,
   "metadata": {},
   "outputs": [],
   "source": [
    "array = Array(FieldPointerFactory(Byte()), 2)"
   ]
  },
  {
   "cell_type": "code",
   "execution_count": 34,
   "metadata": {},
   "outputs": [
    {
     "data": {
      "text/plain": [
       "[('Array[0]', '0x0'),\n",
       " ('Array[0].data', '0x0'),\n",
       " ('Array[1]', '0x0'),\n",
       " ('Array[1].data', '0x0')]"
      ]
     },
     "execution_count": 34,
     "metadata": {},
     "output_type": "execute_result"
    }
   ],
   "source": [
    "array.to_list(nested=True)"
   ]
  },
  {
   "cell_type": "code",
   "execution_count": 35,
   "metadata": {},
   "outputs": [
    {
     "data": {
      "text/plain": [
       "[{'id': 'Array[0]', 'value': '0x0'},\n",
       " {'id': 'Array[0].data', 'value': '0x0'},\n",
       " {'id': 'Array[1]', 'value': '0x0'},\n",
       " {'id': 'Array[1].data', 'value': '0x0'}]"
      ]
     },
     "execution_count": 35,
     "metadata": {},
     "output_type": "execute_result"
    }
   ],
   "source": [
    "array.to_csv(nested=True)"
   ]
  },
  {
   "cell_type": "code",
   "execution_count": 36,
   "metadata": {},
   "outputs": [
    {
     "data": {
      "text/plain": [
       "'[{\"value\": \"0x0\", \"data\": \"0x0\"}, {\"value\": \"0x0\", \"data\": \"0x0\"}]'"
      ]
     },
     "execution_count": 36,
     "metadata": {},
     "output_type": "execute_result"
    }
   ],
   "source": [
    "array.to_json(nested=True)"
   ]
  },
  {
   "cell_type": "code",
   "execution_count": 37,
   "metadata": {},
   "outputs": [
    {
     "name": "stdout",
     "output_type": "stream",
     "text": [
      "- value: '0x0'\n",
      "  data: '0x0'\n",
      "- value: '0x0'\n",
      "  data: '0x0'\n"
     ]
    }
   ],
   "source": [
    "to_yaml(array, nested=True, flow_style=False)"
   ]
  },
  {
   "cell_type": "code",
   "execution_count": 38,
   "metadata": {},
   "outputs": [],
   "source": [
    "array[0].value = 1"
   ]
  },
  {
   "cell_type": "code",
   "execution_count": 39,
   "metadata": {},
   "outputs": [],
   "source": [
    "array[0].data.value = 2"
   ]
  },
  {
   "cell_type": "code",
   "execution_count": 40,
   "metadata": {},
   "outputs": [
    {
     "data": {
      "text/plain": [
       "[('Array[0]', '0x1'),\n",
       " ('Array[0].data', '0x2'),\n",
       " ('Array[1]', '0x0'),\n",
       " ('Array[1].data', '0x0')]"
      ]
     },
     "execution_count": 40,
     "metadata": {},
     "output_type": "execute_result"
    }
   ],
   "source": [
    "array.to_list(nested=True)"
   ]
  },
  {
   "cell_type": "code",
   "execution_count": 41,
   "metadata": {},
   "outputs": [
    {
     "data": {
      "text/plain": [
       "'[{\"value\": \"0x1\", \"data\": \"0x2\"}, {\"value\": \"0x0\", \"data\": \"0x0\"}]'"
      ]
     },
     "execution_count": 41,
     "metadata": {},
     "output_type": "execute_result"
    }
   ],
   "source": [
    "array.to_json(nested=True)"
   ]
  },
  {
   "cell_type": "code",
   "execution_count": 42,
   "metadata": {},
   "outputs": [
    {
     "name": "stdout",
     "output_type": "stream",
     "text": [
      "- value: '0x1'\n",
      "  data: '0x2'\n",
      "- value: '0x0'\n",
      "  data: '0x0'\n"
     ]
    }
   ],
   "source": [
    "to_yaml(array, nested=True, flow_style=False)"
   ]
  },
  {
   "cell_type": "markdown",
   "metadata": {},
   "source": [
    "## Resize an Array"
   ]
  },
  {
   "cell_type": "code",
   "execution_count": 43,
   "metadata": {},
   "outputs": [],
   "source": [
    "array = Array(Byte())"
   ]
  },
  {
   "cell_type": "code",
   "execution_count": 44,
   "metadata": {},
   "outputs": [
    {
     "data": {
      "text/plain": [
       "[]"
      ]
     },
     "execution_count": 44,
     "metadata": {},
     "output_type": "execute_result"
    }
   ],
   "source": [
    "array.to_list()"
   ]
  },
  {
   "cell_type": "code",
   "execution_count": 45,
   "metadata": {},
   "outputs": [
    {
     "data": {
      "text/plain": [
       "[]"
      ]
     },
     "execution_count": 45,
     "metadata": {},
     "output_type": "execute_result"
    }
   ],
   "source": [
    "array.to_csv()"
   ]
  },
  {
   "cell_type": "code",
   "execution_count": 46,
   "metadata": {},
   "outputs": [
    {
     "data": {
      "text/plain": [
       "'[]'"
      ]
     },
     "execution_count": 46,
     "metadata": {},
     "output_type": "execute_result"
    }
   ],
   "source": [
    "array.to_json()"
   ]
  },
  {
   "cell_type": "code",
   "execution_count": 47,
   "metadata": {},
   "outputs": [
    {
     "name": "stdout",
     "output_type": "stream",
     "text": [
      "[]\n"
     ]
    }
   ],
   "source": [
    "to_yaml(array, flow_style=False)"
   ]
  },
  {
   "cell_type": "code",
   "execution_count": 48,
   "metadata": {},
   "outputs": [],
   "source": [
    "array.resize(4)"
   ]
  },
  {
   "cell_type": "code",
   "execution_count": 49,
   "metadata": {},
   "outputs": [
    {
     "data": {
      "text/plain": [
       "[('Array[0]', '0x0'),\n",
       " ('Array[1]', '0x0'),\n",
       " ('Array[2]', '0x0'),\n",
       " ('Array[3]', '0x0')]"
      ]
     },
     "execution_count": 49,
     "metadata": {},
     "output_type": "execute_result"
    }
   ],
   "source": [
    "array.to_list()"
   ]
  },
  {
   "cell_type": "code",
   "execution_count": 50,
   "metadata": {},
   "outputs": [
    {
     "data": {
      "text/plain": [
       "[{'id': 'Array[0]', 'value': '0x0'},\n",
       " {'id': 'Array[1]', 'value': '0x0'},\n",
       " {'id': 'Array[2]', 'value': '0x0'},\n",
       " {'id': 'Array[3]', 'value': '0x0'}]"
      ]
     },
     "execution_count": 50,
     "metadata": {},
     "output_type": "execute_result"
    }
   ],
   "source": [
    "array.to_csv()"
   ]
  },
  {
   "cell_type": "code",
   "execution_count": 51,
   "metadata": {},
   "outputs": [
    {
     "data": {
      "text/plain": [
       "'[\"0x0\", \"0x0\", \"0x0\", \"0x0\"]'"
      ]
     },
     "execution_count": 51,
     "metadata": {},
     "output_type": "execute_result"
    }
   ],
   "source": [
    "array.to_json()"
   ]
  },
  {
   "cell_type": "code",
   "execution_count": 52,
   "metadata": {},
   "outputs": [
    {
     "name": "stdout",
     "output_type": "stream",
     "text": [
      "- '0x0'\n",
      "- '0x0'\n",
      "- '0x0'\n",
      "- '0x0'\n"
     ]
    }
   ],
   "source": [
    "to_yaml(array, flow_style=False)"
   ]
  },
  {
   "cell_type": "markdown",
   "metadata": {},
   "source": [
    "## Initialize a Array"
   ]
  },
  {
   "cell_type": "code",
   "execution_count": 53,
   "metadata": {},
   "outputs": [],
   "source": [
    "array.initialize_fields([1, 2])"
   ]
  },
  {
   "cell_type": "code",
   "execution_count": 54,
   "metadata": {},
   "outputs": [
    {
     "data": {
      "text/plain": [
       "[('Array[0]', '0x1'),\n",
       " ('Array[1]', '0x2'),\n",
       " ('Array[2]', '0x1'),\n",
       " ('Array[3]', '0x2')]"
      ]
     },
     "execution_count": 54,
     "metadata": {},
     "output_type": "execute_result"
    }
   ],
   "source": [
    "array.to_list()"
   ]
  },
  {
   "cell_type": "code",
   "execution_count": 55,
   "metadata": {},
   "outputs": [
    {
     "data": {
      "text/plain": [
       "[{'id': 'Array[0]', 'value': '0x1'},\n",
       " {'id': 'Array[1]', 'value': '0x2'},\n",
       " {'id': 'Array[2]', 'value': '0x1'},\n",
       " {'id': 'Array[3]', 'value': '0x2'}]"
      ]
     },
     "execution_count": 55,
     "metadata": {},
     "output_type": "execute_result"
    }
   ],
   "source": [
    "array.to_csv()"
   ]
  },
  {
   "cell_type": "code",
   "execution_count": 56,
   "metadata": {},
   "outputs": [
    {
     "data": {
      "text/plain": [
       "'[\"0x1\", \"0x2\", \"0x1\", \"0x2\"]'"
      ]
     },
     "execution_count": 56,
     "metadata": {},
     "output_type": "execute_result"
    }
   ],
   "source": [
    "array.to_json()"
   ]
  },
  {
   "cell_type": "code",
   "execution_count": 57,
   "metadata": {},
   "outputs": [
    {
     "name": "stdout",
     "output_type": "stream",
     "text": [
      "- '0x1'\n",
      "- '0x2'\n",
      "- '0x1'\n",
      "- '0x2'\n"
     ]
    }
   ],
   "source": [
    "to_yaml(array, flow_style=False)"
   ]
  },
  {
   "cell_type": "markdown",
   "metadata": {},
   "source": [
    "## Display an Array"
   ]
  },
  {
   "cell_type": "code",
   "execution_count": 58,
   "metadata": {},
   "outputs": [
    {
     "data": {
      "text/plain": [
       "[Byte(index=Index(byte=0, bit=0, address=0, base_address=0, update=False), alignment=Alignment(byte_size=1, bit_offset=0), bit_size=8, value='0x1'), Byte(index=Index(byte=0, bit=0, address=0, base_address=0, update=False), alignment=Alignment(byte_size=1, bit_offset=0), bit_size=8, value='0x2'), Byte(index=Index(byte=0, bit=0, address=0, base_address=0, update=False), alignment=Alignment(byte_size=1, bit_offset=0), bit_size=8, value='0x1'), Byte(index=Index(byte=0, bit=0, address=0, base_address=0, update=False), alignment=Alignment(byte_size=1, bit_offset=0), bit_size=8, value='0x2')]"
      ]
     },
     "execution_count": 58,
     "metadata": {},
     "output_type": "execute_result"
    }
   ],
   "source": [
    "array"
   ]
  },
  {
   "cell_type": "markdown",
   "metadata": {},
   "source": [
    "## Metadata of an Array"
   ]
  },
  {
   "cell_type": "code",
   "execution_count": 59,
   "metadata": {},
   "outputs": [
    {
     "data": {
      "text/plain": [
       "{'class': 'Array',\n",
       " 'name': 'Array',\n",
       " 'size': 4,\n",
       " 'type': 'Array',\n",
       " 'member': [{'address': 0,\n",
       "   'alignment': [1, 0],\n",
       "   'class': 'Byte',\n",
       "   'index': [0, 0],\n",
       "   'max': 255,\n",
       "   'min': 0,\n",
       "   'name': 'Array[0]',\n",
       "   'order': 'auto',\n",
       "   'signed': False,\n",
       "   'size': 8,\n",
       "   'type': 'Field',\n",
       "   'value': '0x1'},\n",
       "  {'address': 0,\n",
       "   'alignment': [1, 0],\n",
       "   'class': 'Byte',\n",
       "   'index': [0, 0],\n",
       "   'max': 255,\n",
       "   'min': 0,\n",
       "   'name': 'Array[1]',\n",
       "   'order': 'auto',\n",
       "   'signed': False,\n",
       "   'size': 8,\n",
       "   'type': 'Field',\n",
       "   'value': '0x2'},\n",
       "  {'address': 0,\n",
       "   'alignment': [1, 0],\n",
       "   'class': 'Byte',\n",
       "   'index': [0, 0],\n",
       "   'max': 255,\n",
       "   'min': 0,\n",
       "   'name': 'Array[2]',\n",
       "   'order': 'auto',\n",
       "   'signed': False,\n",
       "   'size': 8,\n",
       "   'type': 'Field',\n",
       "   'value': '0x1'},\n",
       "  {'address': 0,\n",
       "   'alignment': [1, 0],\n",
       "   'class': 'Byte',\n",
       "   'index': [0, 0],\n",
       "   'max': 255,\n",
       "   'min': 0,\n",
       "   'name': 'Array[3]',\n",
       "   'order': 'auto',\n",
       "   'signed': False,\n",
       "   'size': 8,\n",
       "   'type': 'Field',\n",
       "   'value': '0x2'}]}"
      ]
     },
     "execution_count": 59,
     "metadata": {},
     "output_type": "execute_result"
    }
   ],
   "source": [
    "array.describe()"
   ]
  },
  {
   "cell_type": "code",
   "execution_count": 60,
   "metadata": {},
   "outputs": [
    {
     "name": "stdout",
     "output_type": "stream",
     "text": [
      "{\n",
      "  \"class\": \"Array\",\n",
      "  \"name\": \"Array\",\n",
      "  \"size\": 4,\n",
      "  \"type\": \"Array\",\n",
      "  \"member\": [\n",
      "    {\n",
      "      \"address\": 0,\n",
      "      \"alignment\": [\n",
      "        1,\n",
      "        0\n",
      "      ],\n",
      "      \"class\": \"Byte\",\n",
      "      \"index\": [\n",
      "        0,\n",
      "        0\n",
      "      ],\n",
      "      \"max\": 255,\n",
      "      \"min\": 0,\n",
      "      \"name\": \"Array[0]\",\n",
      "      \"order\": \"auto\",\n",
      "      \"signed\": false,\n",
      "      \"size\": 8,\n",
      "      \"type\": \"Field\",\n",
      "      \"value\": \"0x1\"\n",
      "    },\n",
      "    {\n",
      "      \"address\": 0,\n",
      "      \"alignment\": [\n",
      "        1,\n",
      "        0\n",
      "      ],\n",
      "      \"class\": \"Byte\",\n",
      "      \"index\": [\n",
      "        0,\n",
      "        0\n",
      "      ],\n",
      "      \"max\": 255,\n",
      "      \"min\": 0,\n",
      "      \"name\": \"Array[1]\",\n",
      "      \"order\": \"auto\",\n",
      "      \"signed\": false,\n",
      "      \"size\": 8,\n",
      "      \"type\": \"Field\",\n",
      "      \"value\": \"0x2\"\n",
      "    },\n",
      "    {\n",
      "      \"address\": 0,\n",
      "      \"alignment\": [\n",
      "        1,\n",
      "        0\n",
      "      ],\n",
      "      \"class\": \"Byte\",\n",
      "      \"index\": [\n",
      "        0,\n",
      "        0\n",
      "      ],\n",
      "      \"max\": 255,\n",
      "      \"min\": 0,\n",
      "      \"name\": \"Array[2]\",\n",
      "      \"order\": \"auto\",\n",
      "      \"signed\": false,\n",
      "      \"size\": 8,\n",
      "      \"type\": \"Field\",\n",
      "      \"value\": \"0x1\"\n",
      "    },\n",
      "    {\n",
      "      \"address\": 0,\n",
      "      \"alignment\": [\n",
      "        1,\n",
      "        0\n",
      "      ],\n",
      "      \"class\": \"Byte\",\n",
      "      \"index\": [\n",
      "        0,\n",
      "        0\n",
      "      ],\n",
      "      \"max\": 255,\n",
      "      \"min\": 0,\n",
      "      \"name\": \"Array[3]\",\n",
      "      \"order\": \"auto\",\n",
      "      \"signed\": false,\n",
      "      \"size\": 8,\n",
      "      \"type\": \"Field\",\n",
      "      \"value\": \"0x2\"\n",
      "    }\n",
      "  ]\n",
      "}"
     ]
    }
   ],
   "source": [
    "json.dump(array.describe(), sys.stdout, indent=2)"
   ]
  },
  {
   "cell_type": "code",
   "execution_count": 61,
   "metadata": {},
   "outputs": [
    {
     "name": "stdout",
     "output_type": "stream",
     "text": [
      "{\n",
      "  \"class\": \"Array\",\n",
      "  \"name\": \"Array\",\n",
      "  \"children\": [\n",
      "    {\n",
      "      \"class\": \"Byte\",\n",
      "      \"name\": \"Array[0]\",\n",
      "      \"size\": 8,\n",
      "      \"value\": \"0x1\"\n",
      "    },\n",
      "    {\n",
      "      \"class\": \"Byte\",\n",
      "      \"name\": \"Array[1]\",\n",
      "      \"size\": 8,\n",
      "      \"value\": \"0x2\"\n",
      "    },\n",
      "    {\n",
      "      \"class\": \"Byte\",\n",
      "      \"name\": \"Array[2]\",\n",
      "      \"size\": 8,\n",
      "      \"value\": \"0x1\"\n",
      "    },\n",
      "    {\n",
      "      \"class\": \"Byte\",\n",
      "      \"name\": \"Array[3]\",\n",
      "      \"size\": 8,\n",
      "      \"value\": \"0x2\"\n",
      "    }\n",
      "  ]\n",
      "}"
     ]
    }
   ],
   "source": [
    "d3flare_json(array.describe(), sys.stdout, indent=2)"
   ]
  },
  {
   "cell_type": "markdown",
   "metadata": {},
   "source": [
    "## Size of an Array"
   ]
  },
  {
   "cell_type": "code",
   "execution_count": 62,
   "metadata": {},
   "outputs": [
    {
     "data": {
      "text/plain": [
       "(4, 0)"
      ]
     },
     "execution_count": 62,
     "metadata": {},
     "output_type": "execute_result"
    }
   ],
   "source": [
    "array.container_size()"
   ]
  },
  {
   "cell_type": "code",
   "execution_count": 63,
   "metadata": {},
   "outputs": [],
   "source": [
    "num_of_bytes, num_of_remaining_bits = array.container_size()"
   ]
  },
  {
   "cell_type": "code",
   "execution_count": 64,
   "metadata": {},
   "outputs": [
    {
     "data": {
      "text/plain": [
       "4"
      ]
     },
     "execution_count": 64,
     "metadata": {},
     "output_type": "execute_result"
    }
   ],
   "source": [
    "num_of_bytes"
   ]
  },
  {
   "cell_type": "code",
   "execution_count": 65,
   "metadata": {},
   "outputs": [
    {
     "data": {
      "text/plain": [
       "0"
      ]
     },
     "execution_count": 65,
     "metadata": {},
     "output_type": "execute_result"
    }
   ],
   "source": [
    "num_of_remaining_bits"
   ]
  },
  {
   "cell_type": "markdown",
   "metadata": {},
   "source": [
    "## Indexing"
   ]
  },
  {
   "cell_type": "code",
   "execution_count": 66,
   "metadata": {},
   "outputs": [
    {
     "data": {
      "text/plain": [
       "[('Array[0]', Index(byte=0, bit=0, address=0, base_address=0, update=False)),\n",
       " ('Array[1]', Index(byte=0, bit=0, address=0, base_address=0, update=False)),\n",
       " ('Array[2]', Index(byte=0, bit=0, address=0, base_address=0, update=False)),\n",
       " ('Array[3]', Index(byte=0, bit=0, address=0, base_address=0, update=False))]"
      ]
     },
     "execution_count": 66,
     "metadata": {},
     "output_type": "execute_result"
    }
   ],
   "source": [
    "array.to_list('index')"
   ]
  },
  {
   "cell_type": "code",
   "execution_count": 67,
   "metadata": {},
   "outputs": [
    {
     "data": {
      "text/plain": [
       "[{'id': 'Array[0]', 'index': 0, 'offset': 0, 'address': 0},\n",
       " {'id': 'Array[1]', 'index': 0, 'offset': 0, 'address': 0},\n",
       " {'id': 'Array[2]', 'index': 0, 'offset': 0, 'address': 0},\n",
       " {'id': 'Array[3]', 'index': 0, 'offset': 0, 'address': 0}]"
      ]
     },
     "execution_count": 67,
     "metadata": {},
     "output_type": "execute_result"
    }
   ],
   "source": [
    "array.to_csv('index.byte', 'index.bit', 'index.address', fieldnames=('id', 'index', 'offset', 'address'))"
   ]
  },
  {
   "cell_type": "code",
   "execution_count": 68,
   "metadata": {},
   "outputs": [
    {
     "data": {
      "text/plain": [
       "'[[0, 0, 0, 0, false], [0, 0, 0, 0, false], [0, 0, 0, 0, false], [0, 0, 0, 0, false]]'"
      ]
     },
     "execution_count": 68,
     "metadata": {},
     "output_type": "execute_result"
    }
   ],
   "source": [
    "array.to_json('index')"
   ]
  },
  {
   "cell_type": "code",
   "execution_count": 69,
   "metadata": {},
   "outputs": [
    {
     "data": {
      "text/plain": [
       "Index(byte=4, bit=0, address=4, base_address=0, update=False)"
      ]
     },
     "execution_count": 69,
     "metadata": {},
     "output_type": "execute_result"
    }
   ],
   "source": [
    "array.index_fields(index=Index())"
   ]
  },
  {
   "cell_type": "code",
   "execution_count": 70,
   "metadata": {},
   "outputs": [
    {
     "data": {
      "text/plain": [
       "Index(byte=4, bit=0, address=4, base_address=0, update=False)"
      ]
     },
     "execution_count": 70,
     "metadata": {},
     "output_type": "execute_result"
    }
   ],
   "source": [
    "array.index_fields()"
   ]
  },
  {
   "cell_type": "code",
   "execution_count": 71,
   "metadata": {},
   "outputs": [
    {
     "data": {
      "text/plain": [
       "[('Array[0]', Index(byte=0, bit=0, address=0, base_address=0, update=False)),\n",
       " ('Array[1]', Index(byte=1, bit=0, address=1, base_address=0, update=False)),\n",
       " ('Array[2]', Index(byte=2, bit=0, address=2, base_address=0, update=False)),\n",
       " ('Array[3]', Index(byte=3, bit=0, address=3, base_address=0, update=False))]"
      ]
     },
     "execution_count": 71,
     "metadata": {},
     "output_type": "execute_result"
    }
   ],
   "source": [
    "array.to_list('index')"
   ]
  },
  {
   "cell_type": "code",
   "execution_count": 72,
   "metadata": {},
   "outputs": [
    {
     "data": {
      "text/plain": [
       "[{'id': 'Array[0]', 'index': 0, 'offset': 0, 'address': 0},\n",
       " {'id': 'Array[1]', 'index': 1, 'offset': 0, 'address': 1},\n",
       " {'id': 'Array[2]', 'index': 2, 'offset': 0, 'address': 2},\n",
       " {'id': 'Array[3]', 'index': 3, 'offset': 0, 'address': 3}]"
      ]
     },
     "execution_count": 72,
     "metadata": {},
     "output_type": "execute_result"
    }
   ],
   "source": [
    "array.to_csv('index.byte', 'index.bit', 'index.address', fieldnames=('id', 'index', 'offset', 'address'))"
   ]
  },
  {
   "cell_type": "code",
   "execution_count": 73,
   "metadata": {},
   "outputs": [
    {
     "data": {
      "text/plain": [
       "'[[0, 0, 0, 0, false], [1, 0, 1, 0, false], [2, 0, 2, 0, false], [3, 0, 3, 0, false]]'"
      ]
     },
     "execution_count": 73,
     "metadata": {},
     "output_type": "execute_result"
    }
   ],
   "source": [
    "array.to_json('index')"
   ]
  },
  {
   "cell_type": "markdown",
   "metadata": {},
   "source": [
    "## De-Serializing"
   ]
  },
  {
   "cell_type": "code",
   "execution_count": 74,
   "metadata": {},
   "outputs": [
    {
     "data": {
      "text/plain": [
       "Index(byte=4, bit=0, address=4, base_address=0, update=False)"
      ]
     },
     "execution_count": 74,
     "metadata": {},
     "output_type": "execute_result"
    }
   ],
   "source": [
    "array.deserialize(bytes.fromhex('01020304f00f00'))"
   ]
  },
  {
   "cell_type": "code",
   "execution_count": 75,
   "metadata": {},
   "outputs": [
    {
     "data": {
      "text/plain": [
       "[('Array[0]', '0x1'),\n",
       " ('Array[1]', '0x2'),\n",
       " ('Array[2]', '0x3'),\n",
       " ('Array[3]', '0x4')]"
      ]
     },
     "execution_count": 75,
     "metadata": {},
     "output_type": "execute_result"
    }
   ],
   "source": [
    "array.to_list()"
   ]
  },
  {
   "cell_type": "code",
   "execution_count": 76,
   "metadata": {},
   "outputs": [
    {
     "data": {
      "text/plain": [
       "[{'id': 'Array[0]', 'value': '0x1'},\n",
       " {'id': 'Array[1]', 'value': '0x2'},\n",
       " {'id': 'Array[2]', 'value': '0x3'},\n",
       " {'id': 'Array[3]', 'value': '0x4'}]"
      ]
     },
     "execution_count": 76,
     "metadata": {},
     "output_type": "execute_result"
    }
   ],
   "source": [
    "array.to_csv()"
   ]
  },
  {
   "cell_type": "code",
   "execution_count": 77,
   "metadata": {},
   "outputs": [
    {
     "data": {
      "text/plain": [
       "'[\"0x1\", \"0x2\", \"0x3\", \"0x4\"]'"
      ]
     },
     "execution_count": 77,
     "metadata": {},
     "output_type": "execute_result"
    }
   ],
   "source": [
    "array.to_json()"
   ]
  },
  {
   "cell_type": "code",
   "execution_count": 78,
   "metadata": {},
   "outputs": [
    {
     "name": "stdout",
     "output_type": "stream",
     "text": [
      "- '0x1'\n",
      "- '0x2'\n",
      "- '0x3'\n",
      "- '0x4'\n"
     ]
    }
   ],
   "source": [
    "to_yaml(array, flow_style=False)"
   ]
  },
  {
   "cell_type": "markdown",
   "metadata": {},
   "source": [
    "## Serializing"
   ]
  },
  {
   "cell_type": "code",
   "execution_count": 79,
   "metadata": {},
   "outputs": [
    {
     "data": {
      "text/plain": [
       "''"
      ]
     },
     "execution_count": 79,
     "metadata": {},
     "output_type": "execute_result"
    }
   ],
   "source": [
    "bytestream = bytearray()\n",
    "bytestream.hex()"
   ]
  },
  {
   "cell_type": "code",
   "execution_count": 80,
   "metadata": {},
   "outputs": [
    {
     "data": {
      "text/plain": [
       "Index(byte=4, bit=0, address=4, base_address=0, update=False)"
      ]
     },
     "execution_count": 80,
     "metadata": {},
     "output_type": "execute_result"
    }
   ],
   "source": [
    "array.serialize(bytestream)"
   ]
  },
  {
   "cell_type": "code",
   "execution_count": 81,
   "metadata": {},
   "outputs": [
    {
     "data": {
      "text/plain": [
       "'01020304'"
      ]
     },
     "execution_count": 81,
     "metadata": {},
     "output_type": "execute_result"
    }
   ],
   "source": [
    "bytes(array).hex()"
   ]
  },
  {
   "cell_type": "code",
   "execution_count": 82,
   "metadata": {},
   "outputs": [
    {
     "data": {
      "text/plain": [
       "'01020304'"
      ]
     },
     "execution_count": 82,
     "metadata": {},
     "output_type": "execute_result"
    }
   ],
   "source": [
    "bytestream.hex()"
   ]
  },
  {
   "cell_type": "markdown",
   "metadata": {},
   "source": [
    "## Array Members"
   ]
  },
  {
   "cell_type": "markdown",
   "metadata": {},
   "source": [
    "### Number of Members"
   ]
  },
  {
   "cell_type": "code",
   "execution_count": 83,
   "metadata": {},
   "outputs": [
    {
     "data": {
      "text/plain": [
       "4"
      ]
     },
     "execution_count": 83,
     "metadata": {},
     "output_type": "execute_result"
    }
   ],
   "source": [
    "len(array)"
   ]
  },
  {
   "cell_type": "markdown",
   "metadata": {},
   "source": [
    "### Access a Member"
   ]
  },
  {
   "cell_type": "code",
   "execution_count": 84,
   "metadata": {},
   "outputs": [
    {
     "data": {
      "text/plain": [
       "Byte(index=Index(byte=0, bit=0, address=0, base_address=0, update=False), alignment=Alignment(byte_size=1, bit_offset=0), bit_size=8, value='0x1')"
      ]
     },
     "execution_count": 84,
     "metadata": {},
     "output_type": "execute_result"
    }
   ],
   "source": [
    "array[0]"
   ]
  },
  {
   "cell_type": "markdown",
   "metadata": {},
   "source": [
    "### Access the Attributes of a Member Field"
   ]
  },
  {
   "cell_type": "code",
   "execution_count": 85,
   "metadata": {},
   "outputs": [
    {
     "data": {
      "text/plain": [
       "'Byte'"
      ]
     },
     "execution_count": 85,
     "metadata": {},
     "output_type": "execute_result"
    }
   ],
   "source": [
    "array[0].name"
   ]
  },
  {
   "cell_type": "code",
   "execution_count": 86,
   "metadata": {},
   "outputs": [
    {
     "data": {
      "text/plain": [
       "'0x1'"
      ]
     },
     "execution_count": 86,
     "metadata": {},
     "output_type": "execute_result"
    }
   ],
   "source": [
    "array[0].value"
   ]
  },
  {
   "cell_type": "code",
   "execution_count": 87,
   "metadata": {},
   "outputs": [
    {
     "data": {
      "text/plain": [
       "8"
      ]
     },
     "execution_count": 87,
     "metadata": {},
     "output_type": "execute_result"
    }
   ],
   "source": [
    "array[0].bit_size"
   ]
  },
  {
   "cell_type": "code",
   "execution_count": 88,
   "metadata": {},
   "outputs": [
    {
     "data": {
      "text/plain": [
       "Alignment(byte_size=1, bit_offset=0)"
      ]
     },
     "execution_count": 88,
     "metadata": {},
     "output_type": "execute_result"
    }
   ],
   "source": [
    "array[0].alignment"
   ]
  },
  {
   "cell_type": "code",
   "execution_count": 89,
   "metadata": {},
   "outputs": [
    {
     "data": {
      "text/plain": [
       "1"
      ]
     },
     "execution_count": 89,
     "metadata": {},
     "output_type": "execute_result"
    }
   ],
   "source": [
    "array[0].alignment.byte_size"
   ]
  },
  {
   "cell_type": "code",
   "execution_count": 90,
   "metadata": {},
   "outputs": [
    {
     "data": {
      "text/plain": [
       "0"
      ]
     },
     "execution_count": 90,
     "metadata": {},
     "output_type": "execute_result"
    }
   ],
   "source": [
    "array[0].alignment.bit_offset"
   ]
  },
  {
   "cell_type": "code",
   "execution_count": 91,
   "metadata": {},
   "outputs": [
    {
     "data": {
      "text/plain": [
       "Byteorder.auto = 'auto'"
      ]
     },
     "execution_count": 91,
     "metadata": {},
     "output_type": "execute_result"
    }
   ],
   "source": [
    "array[0].byte_order"
   ]
  },
  {
   "cell_type": "code",
   "execution_count": 92,
   "metadata": {},
   "outputs": [
    {
     "data": {
      "text/plain": [
       "'auto'"
      ]
     },
     "execution_count": 92,
     "metadata": {},
     "output_type": "execute_result"
    }
   ],
   "source": [
    "array[0].byte_order.value"
   ]
  },
  {
   "cell_type": "code",
   "execution_count": 93,
   "metadata": {},
   "outputs": [
    {
     "data": {
      "text/plain": [
       "Index(byte=0, bit=0, address=0, base_address=0, update=False)"
      ]
     },
     "execution_count": 93,
     "metadata": {},
     "output_type": "execute_result"
    }
   ],
   "source": [
    "array[0].index"
   ]
  },
  {
   "cell_type": "code",
   "execution_count": 94,
   "metadata": {},
   "outputs": [
    {
     "data": {
      "text/plain": [
       "0"
      ]
     },
     "execution_count": 94,
     "metadata": {},
     "output_type": "execute_result"
    }
   ],
   "source": [
    "array[0].index.byte"
   ]
  },
  {
   "cell_type": "code",
   "execution_count": 95,
   "metadata": {},
   "outputs": [
    {
     "data": {
      "text/plain": [
       "0"
      ]
     },
     "execution_count": 95,
     "metadata": {},
     "output_type": "execute_result"
    }
   ],
   "source": [
    "array[0].index.bit"
   ]
  },
  {
   "cell_type": "code",
   "execution_count": 96,
   "metadata": {},
   "outputs": [
    {
     "data": {
      "text/plain": [
       "0"
      ]
     },
     "execution_count": 96,
     "metadata": {},
     "output_type": "execute_result"
    }
   ],
   "source": [
    "array[0].index.address"
   ]
  },
  {
   "cell_type": "code",
   "execution_count": 97,
   "metadata": {},
   "outputs": [
    {
     "data": {
      "text/plain": [
       "0"
      ]
     },
     "execution_count": 97,
     "metadata": {},
     "output_type": "execute_result"
    }
   ],
   "source": [
    "array[0].index.base_address"
   ]
  },
  {
   "cell_type": "code",
   "execution_count": 98,
   "metadata": {},
   "outputs": [
    {
     "data": {
      "text/plain": [
       "False"
      ]
     },
     "execution_count": 98,
     "metadata": {},
     "output_type": "execute_result"
    }
   ],
   "source": [
    "array[0].index.update"
   ]
  },
  {
   "cell_type": "markdown",
   "metadata": {},
   "source": [
    "### List the Members"
   ]
  },
  {
   "cell_type": "code",
   "execution_count": 99,
   "metadata": {},
   "outputs": [
    {
     "data": {
      "text/plain": [
       "[ItemClass.Byte = 42,\n",
       " ItemClass.Byte = 42,\n",
       " ItemClass.Byte = 42,\n",
       " ItemClass.Byte = 42]"
      ]
     },
     "execution_count": 99,
     "metadata": {},
     "output_type": "execute_result"
    }
   ],
   "source": [
    "[member.item_type for member in array]"
   ]
  },
  {
   "cell_type": "markdown",
   "metadata": {},
   "source": [
    "## Array Fields"
   ]
  },
  {
   "cell_type": "markdown",
   "metadata": {},
   "source": [
    "### View Field Attributes"
   ]
  },
  {
   "cell_type": "code",
   "execution_count": 100,
   "metadata": {},
   "outputs": [
    {
     "data": {
      "text/plain": [
       "['0x1', '0x2', '0x3', '0x4']"
      ]
     },
     "execution_count": 100,
     "metadata": {},
     "output_type": "execute_result"
    }
   ],
   "source": [
    "array.view_fields()"
   ]
  },
  {
   "cell_type": "code",
   "execution_count": 101,
   "metadata": {},
   "outputs": [
    {
     "data": {
      "text/plain": [
       "[{'name': 'Byte',\n",
       "  'bit_size': 8,\n",
       "  'value': '0x1',\n",
       "  'index': Index(byte=0, bit=0, address=0, base_address=0, update=False),\n",
       "  'alignment': Alignment(byte_size=1, bit_offset=0),\n",
       "  'byte_order.name': 'auto'},\n",
       " {'name': 'Byte',\n",
       "  'bit_size': 8,\n",
       "  'value': '0x2',\n",
       "  'index': Index(byte=1, bit=0, address=1, base_address=0, update=False),\n",
       "  'alignment': Alignment(byte_size=1, bit_offset=0),\n",
       "  'byte_order.name': 'auto'},\n",
       " {'name': 'Byte',\n",
       "  'bit_size': 8,\n",
       "  'value': '0x3',\n",
       "  'index': Index(byte=2, bit=0, address=2, base_address=0, update=False),\n",
       "  'alignment': Alignment(byte_size=1, bit_offset=0),\n",
       "  'byte_order.name': 'auto'},\n",
       " {'name': 'Byte',\n",
       "  'bit_size': 8,\n",
       "  'value': '0x4',\n",
       "  'index': Index(byte=3, bit=0, address=3, base_address=0, update=False),\n",
       "  'alignment': Alignment(byte_size=1, bit_offset=0),\n",
       "  'byte_order.name': 'auto'}]"
      ]
     },
     "execution_count": 101,
     "metadata": {},
     "output_type": "execute_result"
    }
   ],
   "source": [
    "array.view_fields('name', 'bit_size', 'value', 'index', 'alignment', 'byte_order.name')"
   ]
  },
  {
   "cell_type": "markdown",
   "metadata": {},
   "source": [
    "### View as a JSON string"
   ]
  },
  {
   "cell_type": "code",
   "execution_count": 102,
   "metadata": {},
   "outputs": [
    {
     "data": {
      "text/plain": [
       "'[\"0x1\", \"0x2\", \"0x3\", \"0x4\"]'"
      ]
     },
     "execution_count": 102,
     "metadata": {},
     "output_type": "execute_result"
    }
   ],
   "source": [
    "array.to_json()"
   ]
  },
  {
   "cell_type": "code",
   "execution_count": 103,
   "metadata": {},
   "outputs": [
    {
     "name": "stdout",
     "output_type": "stream",
     "text": [
      "[\n",
      "  \"0x1\",\n",
      "  \"0x2\",\n",
      "  \"0x3\",\n",
      "  \"0x4\"\n",
      "]\n"
     ]
    }
   ],
   "source": [
    "print(array.to_json(indent=2))"
   ]
  },
  {
   "cell_type": "code",
   "execution_count": 104,
   "metadata": {},
   "outputs": [
    {
     "data": {
      "text/plain": [
       "'[{\"name\": \"Byte\", \"bit_size\": 8, \"value\": \"0x1\", \"index\": [0, 0, 0, 0, false], \"alignment\": [1, 0], \"byte_order\": \"auto\"}, {\"name\": \"Byte\", \"bit_size\": 8, \"value\": \"0x2\", \"index\": [1, 0, 1, 0, false], \"alignment\": [1, 0], \"byte_order\": \"auto\"}, {\"name\": \"Byte\", \"bit_size\": 8, \"value\": \"0x3\", \"index\": [2, 0, 2, 0, false], \"alignment\": [1, 0], \"byte_order\": \"auto\"}, {\"name\": \"Byte\", \"bit_size\": 8, \"value\": \"0x4\", \"index\": [3, 0, 3, 0, false], \"alignment\": [1, 0], \"byte_order\": \"auto\"}]'"
      ]
     },
     "execution_count": 104,
     "metadata": {},
     "output_type": "execute_result"
    }
   ],
   "source": [
    "array.to_json('name', 'bit_size', 'value', 'index', 'alignment', 'byte_order')"
   ]
  },
  {
   "cell_type": "code",
   "execution_count": 105,
   "metadata": {},
   "outputs": [
    {
     "name": "stdout",
     "output_type": "stream",
     "text": [
      "[\n",
      "  {\n",
      "    \"name\": \"Byte\",\n",
      "    \"bit_size\": 8,\n",
      "    \"value\": \"0x1\",\n",
      "    \"index\": [\n",
      "      0,\n",
      "      0,\n",
      "      0,\n",
      "      0,\n",
      "      false\n",
      "    ],\n",
      "    \"alignment\": [\n",
      "      1,\n",
      "      0\n",
      "    ],\n",
      "    \"byte_order\": \"auto\"\n",
      "  },\n",
      "  {\n",
      "    \"name\": \"Byte\",\n",
      "    \"bit_size\": 8,\n",
      "    \"value\": \"0x2\",\n",
      "    \"index\": [\n",
      "      1,\n",
      "      0,\n",
      "      1,\n",
      "      0,\n",
      "      false\n",
      "    ],\n",
      "    \"alignment\": [\n",
      "      1,\n",
      "      0\n",
      "    ],\n",
      "    \"byte_order\": \"auto\"\n",
      "  },\n",
      "  {\n",
      "    \"name\": \"Byte\",\n",
      "    \"bit_size\": 8,\n",
      "    \"value\": \"0x3\",\n",
      "    \"index\": [\n",
      "      2,\n",
      "      0,\n",
      "      2,\n",
      "      0,\n",
      "      false\n",
      "    ],\n",
      "    \"alignment\": [\n",
      "      1,\n",
      "      0\n",
      "    ],\n",
      "    \"byte_order\": \"auto\"\n",
      "  },\n",
      "  {\n",
      "    \"name\": \"Byte\",\n",
      "    \"bit_size\": 8,\n",
      "    \"value\": \"0x4\",\n",
      "    \"index\": [\n",
      "      3,\n",
      "      0,\n",
      "      3,\n",
      "      0,\n",
      "      false\n",
      "    ],\n",
      "    \"alignment\": [\n",
      "      1,\n",
      "      0\n",
      "    ],\n",
      "    \"byte_order\": \"auto\"\n",
      "  }\n",
      "]\n"
     ]
    }
   ],
   "source": [
    "print(array.to_json('name', 'bit_size', 'value', 'index', 'alignment', 'byte_order', indent=2))"
   ]
  },
  {
   "cell_type": "markdown",
   "metadata": {},
   "source": [
    "### Write to a JSON file"
   ]
  },
  {
   "cell_type": "code",
   "execution_count": 106,
   "metadata": {},
   "outputs": [],
   "source": [
    "array.write_json('Array.json')"
   ]
  },
  {
   "cell_type": "markdown",
   "metadata": {},
   "source": [
    "### List the Field Items"
   ]
  },
  {
   "cell_type": "code",
   "execution_count": 107,
   "metadata": {},
   "outputs": [
    {
     "data": {
      "text/plain": [
       "[('[0]',\n",
       "  Byte(index=Index(byte=0, bit=0, address=0, base_address=0, update=False), alignment=Alignment(byte_size=1, bit_offset=0), bit_size=8, value='0x1')),\n",
       " ('[1]',\n",
       "  Byte(index=Index(byte=1, bit=0, address=1, base_address=0, update=False), alignment=Alignment(byte_size=1, bit_offset=0), bit_size=8, value='0x2')),\n",
       " ('[2]',\n",
       "  Byte(index=Index(byte=2, bit=0, address=2, base_address=0, update=False), alignment=Alignment(byte_size=1, bit_offset=0), bit_size=8, value='0x3')),\n",
       " ('[3]',\n",
       "  Byte(index=Index(byte=3, bit=0, address=3, base_address=0, update=False), alignment=Alignment(byte_size=1, bit_offset=0), bit_size=8, value='0x4'))]"
      ]
     },
     "execution_count": 107,
     "metadata": {},
     "output_type": "execute_result"
    }
   ],
   "source": [
    "array.field_items()"
   ]
  },
  {
   "cell_type": "markdown",
   "metadata": {},
   "source": [
    "### List the Field Attributes"
   ]
  },
  {
   "cell_type": "code",
   "execution_count": 108,
   "metadata": {},
   "outputs": [
    {
     "data": {
      "text/plain": [
       "[('Array[0]', '0x1'),\n",
       " ('Array[1]', '0x2'),\n",
       " ('Array[2]', '0x3'),\n",
       " ('Array[3]', '0x4')]"
      ]
     },
     "execution_count": 108,
     "metadata": {},
     "output_type": "execute_result"
    }
   ],
   "source": [
    "array.to_list()"
   ]
  },
  {
   "cell_type": "code",
   "execution_count": 109,
   "metadata": {},
   "outputs": [
    {
     "data": {
      "text/plain": [
       "[('Array[0]',\n",
       "  ('Byte',\n",
       "   8,\n",
       "   '0x1',\n",
       "   Index(byte=0, bit=0, address=0, base_address=0, update=False),\n",
       "   Alignment(byte_size=1, bit_offset=0),\n",
       "   Byteorder.auto = 'auto')),\n",
       " ('Array[1]',\n",
       "  ('Byte',\n",
       "   8,\n",
       "   '0x2',\n",
       "   Index(byte=1, bit=0, address=1, base_address=0, update=False),\n",
       "   Alignment(byte_size=1, bit_offset=0),\n",
       "   Byteorder.auto = 'auto')),\n",
       " ('Array[2]',\n",
       "  ('Byte',\n",
       "   8,\n",
       "   '0x3',\n",
       "   Index(byte=2, bit=0, address=2, base_address=0, update=False),\n",
       "   Alignment(byte_size=1, bit_offset=0),\n",
       "   Byteorder.auto = 'auto')),\n",
       " ('Array[3]',\n",
       "  ('Byte',\n",
       "   8,\n",
       "   '0x4',\n",
       "   Index(byte=3, bit=0, address=3, base_address=0, update=False),\n",
       "   Alignment(byte_size=1, bit_offset=0),\n",
       "   Byteorder.auto = 'auto'))]"
      ]
     },
     "execution_count": 109,
     "metadata": {},
     "output_type": "execute_result"
    }
   ],
   "source": [
    "array.to_list('name', 'bit_size', 'value', 'index', 'alignment', 'byte_order')"
   ]
  },
  {
   "cell_type": "code",
   "execution_count": 110,
   "metadata": {},
   "outputs": [
    {
     "data": {
      "text/plain": [
       "{'Array': {'[0]': '0x1', '[1]': '0x2', '[2]': '0x3', '[3]': '0x4'}}"
      ]
     },
     "execution_count": 110,
     "metadata": {},
     "output_type": "execute_result"
    }
   ],
   "source": [
    "array.to_dict()"
   ]
  },
  {
   "cell_type": "code",
   "execution_count": 111,
   "metadata": {},
   "outputs": [
    {
     "data": {
      "text/plain": [
       "{'Array': {'[0]': ('Byte',\n",
       "   8,\n",
       "   '0x1',\n",
       "   Index(byte=0, bit=0, address=0, base_address=0, update=False),\n",
       "   Alignment(byte_size=1, bit_offset=0),\n",
       "   Byteorder.auto = 'auto'),\n",
       "  '[1]': ('Byte',\n",
       "   8,\n",
       "   '0x2',\n",
       "   Index(byte=1, bit=0, address=1, base_address=0, update=False),\n",
       "   Alignment(byte_size=1, bit_offset=0),\n",
       "   Byteorder.auto = 'auto'),\n",
       "  '[2]': ('Byte',\n",
       "   8,\n",
       "   '0x3',\n",
       "   Index(byte=2, bit=0, address=2, base_address=0, update=False),\n",
       "   Alignment(byte_size=1, bit_offset=0),\n",
       "   Byteorder.auto = 'auto'),\n",
       "  '[3]': ('Byte',\n",
       "   8,\n",
       "   '0x4',\n",
       "   Index(byte=3, bit=0, address=3, base_address=0, update=False),\n",
       "   Alignment(byte_size=1, bit_offset=0),\n",
       "   Byteorder.auto = 'auto')}}"
      ]
     },
     "execution_count": 111,
     "metadata": {},
     "output_type": "execute_result"
    }
   ],
   "source": [
    "array.to_dict('name', 'bit_size', 'value', 'index', 'alignment', 'byte_order')"
   ]
  },
  {
   "cell_type": "code",
   "execution_count": 112,
   "metadata": {},
   "outputs": [
    {
     "data": {
      "text/plain": [
       "[{'id': 'Array[0]', 'value': '0x1'},\n",
       " {'id': 'Array[1]', 'value': '0x2'},\n",
       " {'id': 'Array[2]', 'value': '0x3'},\n",
       " {'id': 'Array[3]', 'value': '0x4'}]"
      ]
     },
     "execution_count": 112,
     "metadata": {},
     "output_type": "execute_result"
    }
   ],
   "source": [
    "array.to_csv()"
   ]
  },
  {
   "cell_type": "code",
   "execution_count": 113,
   "metadata": {},
   "outputs": [
    {
     "data": {
      "text/plain": [
       "[{'id': 'Array[0]', 'type': 'Byte', 'size': 8, 'value': '0x1'},\n",
       " {'id': 'Array[1]', 'type': 'Byte', 'size': 8, 'value': '0x2'},\n",
       " {'id': 'Array[2]', 'type': 'Byte', 'size': 8, 'value': '0x3'},\n",
       " {'id': 'Array[3]', 'type': 'Byte', 'size': 8, 'value': '0x4'}]"
      ]
     },
     "execution_count": 113,
     "metadata": {},
     "output_type": "execute_result"
    }
   ],
   "source": [
    "array.to_csv('name', 'bit_size', 'value', fieldnames=('id', 'type', 'size', 'value'))"
   ]
  },
  {
   "cell_type": "markdown",
   "metadata": {},
   "source": [
    "### Write the Field Attributes to a `.csv` File"
   ]
  },
  {
   "cell_type": "code",
   "execution_count": 114,
   "metadata": {},
   "outputs": [],
   "source": [
    "array.write_csv('Array.csv', 'name', 'bit_size', 'value', fieldnames=('id', 'type', 'size', 'value'))"
   ]
  },
  {
   "cell_type": "markdown",
   "metadata": {},
   "source": [
    "### Save the Field Attributes to an `.ini` File"
   ]
  },
  {
   "cell_type": "code",
   "execution_count": 115,
   "metadata": {},
   "outputs": [],
   "source": [
    "array.save('Array.ini')"
   ]
  },
  {
   "cell_type": "markdown",
   "metadata": {},
   "source": [
    "### Load the Field Value from an `.ini` File"
   ]
  },
  {
   "cell_type": "code",
   "execution_count": 116,
   "metadata": {},
   "outputs": [
    {
     "name": "stdout",
     "output_type": "stream",
     "text": [
      "[Array]\n",
      "Array[0] = 0x1\n",
      "Array[1] = 0x2\n",
      "Array[2] = 0x3\n",
      "Array[3] = 0x4\n"
     ]
    }
   ],
   "source": [
    "array.load('Array.ini')"
   ]
  },
  {
   "cell_type": "code",
   "execution_count": null,
   "metadata": {},
   "outputs": [],
   "source": []
  }
 ],
 "metadata": {
  "kernelspec": {
   "display_name": "Python 3 (ipykernel)",
   "language": "python",
   "name": "python3"
  },
  "language_info": {
   "codemirror_mode": {
    "name": "ipython",
    "version": 3
   },
   "file_extension": ".py",
   "mimetype": "text/x-python",
   "name": "python",
   "nbconvert_exporter": "python",
   "pygments_lexer": "ipython3",
   "version": "3.9.13"
  }
 },
 "nbformat": 4,
 "nbformat_minor": 4
}
